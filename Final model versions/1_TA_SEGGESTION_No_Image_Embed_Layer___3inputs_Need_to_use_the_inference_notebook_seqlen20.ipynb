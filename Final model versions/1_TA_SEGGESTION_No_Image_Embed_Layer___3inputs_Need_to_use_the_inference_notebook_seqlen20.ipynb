{
  "nbformat": 4,
  "nbformat_minor": 0,
  "metadata": {
    "colab": {
      "name": "1_TA_SEGGESTION_No Image Embed Layer _ 3inputs_Need to use the inference notebook_seqlen20.ipynb",
      "provenance": [],
      "collapsed_sections": [],
      "machine_shape": "hm"
    },
    "kernelspec": {
      "name": "python3",
      "display_name": "Python 3"
    },
    "language_info": {
      "codemirror_mode": {
        "name": "ipython",
        "version": 3
      },
      "file_extension": ".py",
      "mimetype": "text/x-python",
      "name": "python",
      "nbconvert_exporter": "python",
      "pygments_lexer": "ipython3",
      "version": "3.7.4"
    },
    "accelerator": "GPU"
  },
  "cells": [
    {
      "cell_type": "code",
      "metadata": {
        "colab_type": "code",
        "id": "lX-B3q67XANg",
        "colab": {
          "base_uri": "https://localhost:8080/",
          "height": 80
        },
        "outputId": "389da1bc-be09-4c62-fdd3-f238cca2d521"
      },
      "source": [
        "import numpy as np\n",
        "from numpy import array\n",
        "import pandas as pd\n",
        "import matplotlib.pyplot as plt\n",
        "%matplotlib inline\n",
        "import string\n",
        "import os\n",
        "from PIL import Image\n",
        "import glob\n",
        "from pickle import dump, load\n",
        "from time import time\n",
        "from keras.preprocessing import sequence\n",
        "from keras.models import Sequential\n",
        "from keras.layers import LSTM, Embedding, TimeDistributed, Dense, RepeatVector,\\\n",
        "                         Activation, Flatten, Reshape, concatenate, Dropout, BatchNormalization, GRU, Masking, Lambda, Concatenate\n",
        "from keras.optimizers import Adam, RMSprop\n",
        "from keras.layers.wrappers import Bidirectional\n",
        "from keras.layers.merge import add\n",
        "from keras.applications.inception_v3 import InceptionV3\n",
        "from keras.preprocessing import image\n",
        "from keras.models import Model\n",
        "from keras import Input, layers\n",
        "from keras import optimizers\n",
        "from keras.applications.inception_v3 import preprocess_input\n",
        "from keras.preprocessing.text import Tokenizer\n",
        "from keras.preprocessing.sequence import pad_sequences\n",
        "from keras.utils import to_categorical\n",
        "# from numpy import argmax\n",
        "# from pickle import load\n",
        "# from keras.preprocessing.text import Tokenizer\n",
        "# from keras.preprocessing.sequence import pad_sequences\n",
        "from keras.models import load_model\n",
        "# # from nltk.translate.bleu_score import corpus_bleu\n",
        "import json\n",
        "# import random\n",
        "import csv\n",
        "\n",
        "from keras.optimizers import SGD\n",
        "from keras.optimizers import Adam\n",
        "from keras.callbacks import ModelCheckpoint\n",
        "\n",
        "#Wesam\n",
        "# SEED = 10\n",
        "#IMAGE_EMBEDDING_VAL_DIR = '/content/drive/My Drive/Colab_Notebooks/DL_data/validation/'\n",
        "# IMAGE_EMBEDDING_DIR = '/content/drive/My Drive/Colab_Notebooks/DL_data/one_sample_cnn/'\n",
        "# filepath = '/content/drive/My Drive/Colab_Notebooks/DL_data/model-ep{epoch:03d}-loss{loss:.3f}.h5'\n",
        "#CAPTION_FILE_NAME = '/content/drive/My Drive/Colab_Notebooks/DL_data/image_to_caption.csv'\n",
        "\n",
        "\n",
        "\n",
        "#on my Colab\n",
        "ALL_CAPTIONS_FILE = '/content/drive/My Drive/Colab_Notebooks/DL_data/all_captions.txt'\n",
        "COMPLETE_STORIES_FILE = '/content/drive/My Drive/Colab_Notebooks/DL_data/complete_stories_all_splits.json'\n",
        "IMAGE_EMBEDDING_DIR = '/content/drive/My Drive/Colab_Notebooks/DL_data/CNNFeatureVectors/'\n",
        "GLOVE_EMBEDDING_FILE_NAME = '/content/drive/My Drive/Colab_Notebooks/DL_data/glove.6B.300d.txt'\n",
        "\n",
        "\n",
        "# #For my GCP:\n",
        "# ALL_CAPTIONS_FILE = 'all_captions.txt'\n",
        "# COMPLETE_STORIES_FILE = 'complete_stories_all_splits.json'\n",
        "# IMAGE_EMBEDDING_DIR = 'CNNFeatureVectors/'\n",
        "# GLOVE_EMBEDDING_FILE_NAME = 'glove.6B.300d.txt'\n",
        "\n",
        "\n",
        "#Vinuta\n",
        "SEED = 10\n",
        "IMAGE_EMBEDDING_DIM = 2048\n",
        "#IMAGE_EMBEDDING_DIR = '/Users/vinutahegde/Documents/USC/SEM3/DL/project/ws/'\n",
        "NUM_IMAGE_EMBEDDING_CHUNKS = 10\n",
        "#GLOVE_EMBEDDING_FILE_NAME = 'glove.6B.300d.txt'\n",
        "MAX_SEQUENCE_LENGTH = 20\n",
        "WORD_EMBEDDING_DIM = 300\n",
        "#CAPTION_FILE_NAME = '/Users/vinutahegde/Documents/USC/SEM3/DL/project/ws/image_to_caption.csv'\n",
        "SENTENCE_EMBEDDING_DIM = 512"
      ],
      "execution_count": 1,
      "outputs": [
        {
          "output_type": "stream",
          "text": [
            "Using TensorFlow backend.\n"
          ],
          "name": "stderr"
        },
        {
          "output_type": "display_data",
          "data": {
            "text/html": [
              "<p style=\"color: red;\">\n",
              "The default version of TensorFlow in Colab will soon switch to TensorFlow 2.x.<br>\n",
              "We recommend you <a href=\"https://www.tensorflow.org/guide/migrate\" target=\"_blank\">upgrade</a> now \n",
              "or ensure your notebook will continue to use TensorFlow 1.x via the <code>%tensorflow_version 1.x</code> magic:\n",
              "<a href=\"https://colab.research.google.com/notebooks/tensorflow_version.ipynb\" target=\"_blank\">more info</a>.</p>\n"
            ],
            "text/plain": [
              "<IPython.core.display.HTML object>"
            ]
          },
          "metadata": {
            "tags": []
          }
        }
      ]
    },
    {
      "cell_type": "code",
      "metadata": {
        "id": "MCvM68FbJ7h6",
        "colab_type": "code",
        "outputId": "8a7604e8-1232-4521-e380-26768a8642fa",
        "colab": {
          "base_uri": "https://localhost:8080/",
          "height": 34
        }
      },
      "source": [
        "#commented for GCP\n",
        "from google.colab import drive\n",
        "drive.mount('/content/drive')\n"
      ],
      "execution_count": 2,
      "outputs": [
        {
          "output_type": "stream",
          "text": [
            "Drive already mounted at /content/drive; to attempt to forcibly remount, call drive.mount(\"/content/drive\", force_remount=True).\n"
          ],
          "name": "stdout"
        }
      ]
    },
    {
      "cell_type": "markdown",
      "metadata": {
        "colab_type": "text",
        "id": "iuq6CmUtYsEE"
      },
      "source": [
        "#PreProcess Captions / Stories\n",
        "\n",
        "Either call this function or simply load preprocessed from a file\n",
        "\n"
      ]
    },
    {
      "cell_type": "code",
      "metadata": {
        "id": "0JqQ7qPFcRDE",
        "colab_type": "code",
        "colab": {}
      },
      "source": [
        "#to check if story ids are repeated or unique\n",
        "# story_list = list()\n",
        "# for key in list(all_captions_dict.keys()):\n",
        "#   story_list += list(all_captions_dict[key].keys())\n",
        "# from collections import Counter\n",
        "# print(len(story_dict))\n",
        "# d =  Counter(story_dict)\n",
        "# res = [k for k, v in d.items() if v > 1]\n",
        "# print(len(res)) ## gave zero .. so story ids are -in fact- unique\n",
        "\n",
        "\n",
        "#image_embd =  getImageEmbedding(IMAGE_EMBEDDING_DIR)\n",
        "\n",
        "def get_existing_stories(image_embeddings):\n",
        "  #load all_captions file\n",
        "  with open(ALL_CAPTIONS_FILE) as json_file:\n",
        "    all_captions_dict = json.load(json_file)\n",
        "\n",
        "  #Create a story dict (no album ids (already checked that story ids are unique))\n",
        "  story_dict = {}\n",
        "  for key in list(all_captions_dict.keys()):\n",
        "    story_dict.update(all_captions_dict[key])\n",
        "\n",
        "\n",
        "  # Create a Story dict where all images are available in the image_embeddings\n",
        "  existing_stories = {}\n",
        "  c=0\n",
        "  for key in list(story_dict.keys()):\n",
        "    lists = story_dict[key]\n",
        "    images = [item[0] for item in lists]\n",
        "    #captions = ['startseq ' + item[1] + ' endseq' for item in lists]\n",
        "    captions = [item[1] for item in lists]\n",
        "    if all(img in list(image_embeddings.keys()) for img in images):\n",
        "      existing_stories[key] = [images,captions]\n",
        "      c+=1\n",
        "      \n",
        "  print(\"Number of Stories Found: \")\n",
        "  print(c)\n",
        "\n",
        "  # Saving the complete existing story dict in a file\n",
        "  with open(COMPLETE_STORIES_FILE, 'w') as fp:\n",
        "      json.dump(existing_stories, fp)\n",
        "  return existing_stories"
      ],
      "execution_count": 0,
      "outputs": []
    },
    {
      "cell_type": "markdown",
      "metadata": {
        "id": "kiEKE0VJHSsU",
        "colab_type": "text"
      },
      "source": [
        "#Vocab"
      ]
    },
    {
      "cell_type": "code",
      "metadata": {
        "colab_type": "code",
        "id": "16o6JbtNXHVa",
        "colab": {}
      },
      "source": [
        " def vocab_fun(existing_stories_dict):\n",
        "  index_to_word = {}\n",
        "  word_to_index = {}\n",
        "  max_seq_len=0\n",
        "  all_words = {}\n",
        "  all_words['startseq'] = 1\n",
        "  all_words['endseq'] = 1\n",
        "  cap_list = list()\n",
        "  for story_id, lists in existing_stories_dict.items():\n",
        "    for cap in lists[1]:\n",
        "      if(len(cap.split())>max_seq_len):\n",
        "        max_seq_len = len(cap.split())\n",
        "      for word in cap.split():\n",
        "        all_words[word] = 1\n",
        "  all_vocab=[w for w in all_words]\n",
        "  index = 1\n",
        "  for word in all_vocab:\n",
        "      word_to_index[word] = index\n",
        "      index_to_word[index] = word\n",
        "      index += 1\n",
        "\n",
        "\n",
        "\n",
        "  #MAX_SEQUENCE_LENGTH = #max_seq_len + 1\n",
        "  return (all_vocab, word_to_index, index_to_word)"
      ],
      "execution_count": 0,
      "outputs": []
    },
    {
      "cell_type": "code",
      "metadata": {
        "id": "o2-PgnES0nhe",
        "colab_type": "code",
        "outputId": "d7c15411-7f34-49cc-9532-06a592d914e0",
        "colab": {
          "base_uri": "https://localhost:8080/",
          "height": 34
        }
      },
      "source": [
        "# #to deciede sentence length:\n",
        "\n",
        "# cap_lengths=[]\n",
        "# for key, lists in existing_stories.items():\n",
        "#     cap_list=lists[1]\n",
        "#     for x in cap_list:\n",
        "#       for c in x.split():\n",
        "#         cap_lengths.append(len(c))\n",
        "# print(np.mean(cap_lengths)+ 2 * np.std(cap_lengths))"
      ],
      "execution_count": 0,
      "outputs": [
        {
          "output_type": "stream",
          "text": [
            "8.402385321992504\n"
          ],
          "name": "stdout"
        }
      ]
    },
    {
      "cell_type": "markdown",
      "metadata": {
        "colab_type": "text",
        "id": "pl15hHkcYxYj"
      },
      "source": [
        "#Preprocess images"
      ]
    },
    {
      "cell_type": "code",
      "metadata": {
        "colab_type": "code",
        "id": "90V-9vXXYjgx",
        "colab": {}
      },
      "source": [
        "def Merge(dict1, dict2): \n",
        "    res = {**dict1, **dict2} \n",
        "    return res \n",
        "\n",
        "def getImageEmbedding(path):\n",
        "    image_embedding = {}\n",
        "    for i in range(NUM_IMAGE_EMBEDDING_CHUNKS):\n",
        "         file_name = path + 'cnn_group'+str(i+1)+'.json'\n",
        "         with open(file_name) as json_file:\n",
        "            print(file_name)\n",
        "            json_data = json.load(json_file)\n",
        "            json_data = json.loads(json_data)\n",
        "            image_embedding = Merge(image_embedding, json_data) \n",
        "    return image_embedding"
      ],
      "execution_count": 0,
      "outputs": []
    },
    {
      "cell_type": "markdown",
      "metadata": {
        "id": "UuKPEQrk-FBz",
        "colab_type": "text"
      },
      "source": [
        "#Load Stories (captions with corresponding Image ids)\n",
        "##Dict items as follows (per story)\n",
        "[ [img_id1, img_id2, img_id3, img_id4, img_id5] , [cap1, cap2, cap3, cap4, cap5] ]\n"
      ]
    },
    {
      "cell_type": "code",
      "metadata": {
        "id": "jsfYfloT9dz5",
        "colab_type": "code",
        "colab": {}
      },
      "source": [
        "def get_existing_stories_from_file():\n",
        "  with open(COMPLETE_STORIES_FILE, 'r') as fp:\n",
        "      existing_stories = json.load(fp)\n",
        "  return existing_stories"
      ],
      "execution_count": 0,
      "outputs": []
    },
    {
      "cell_type": "markdown",
      "metadata": {
        "colab_type": "text",
        "id": "6dJwBxEGaYNy"
      },
      "source": [
        "#Use Prev to get captions / stories and images and pre_process them"
      ]
    },
    {
      "cell_type": "code",
      "metadata": {
        "colab_type": "code",
        "id": "XMqm0aZXaYgo",
        "outputId": "ca03328f-d08d-4788-e22a-f4206b526062",
        "colab": {
          "base_uri": "https://localhost:8080/",
          "height": 204
        }
      },
      "source": [
        "#for training\n",
        "image_embd =  getImageEmbedding(IMAGE_EMBEDDING_DIR)\n",
        "print(len(image_embd))\n"
      ],
      "execution_count": 7,
      "outputs": [
        {
          "output_type": "stream",
          "text": [
            "/content/drive/My Drive/Colab_Notebooks/DL_data/CNNFeatureVectors/cnn_group1.json\n",
            "/content/drive/My Drive/Colab_Notebooks/DL_data/CNNFeatureVectors/cnn_group2.json\n",
            "/content/drive/My Drive/Colab_Notebooks/DL_data/CNNFeatureVectors/cnn_group3.json\n",
            "/content/drive/My Drive/Colab_Notebooks/DL_data/CNNFeatureVectors/cnn_group4.json\n",
            "/content/drive/My Drive/Colab_Notebooks/DL_data/CNNFeatureVectors/cnn_group5.json\n",
            "/content/drive/My Drive/Colab_Notebooks/DL_data/CNNFeatureVectors/cnn_group6.json\n",
            "/content/drive/My Drive/Colab_Notebooks/DL_data/CNNFeatureVectors/cnn_group7.json\n",
            "/content/drive/My Drive/Colab_Notebooks/DL_data/CNNFeatureVectors/cnn_group8.json\n",
            "/content/drive/My Drive/Colab_Notebooks/DL_data/CNNFeatureVectors/cnn_group9.json\n",
            "/content/drive/My Drive/Colab_Notebooks/DL_data/CNNFeatureVectors/cnn_group10.json\n",
            "58197\n"
          ],
          "name": "stdout"
        }
      ]
    },
    {
      "cell_type": "code",
      "metadata": {
        "id": "r9FZmz0inN6Z",
        "colab_type": "code",
        "outputId": "b36adb61-c0c5-4e91-a90a-018338298ba3",
        "colab": {
          "base_uri": "https://localhost:8080/",
          "height": 51
        }
      },
      "source": [
        "#get existing_stories (either load from file or using a function , preferably load from file) -- uncomment one of the following 2 lines\n",
        "existing_stories = get_existing_stories_from_file()\n",
        "#existing_stories = get_existing_stories(image_embd) #Number of Stories Found: 35565\n",
        "\n",
        "all_vocab, wordtoix, ixtoword=vocab_fun(existing_stories)\n",
        "print('Max Seq Len: %d' %MAX_SEQUENCE_LENGTH)\n",
        "vocab_size = len(all_vocab) + 1\n",
        "print('Vocabulary Size: %d' % vocab_size) #26571"
      ],
      "execution_count": 8,
      "outputs": [
        {
          "output_type": "stream",
          "text": [
            "Max Seq Len: 20\n",
            "Vocabulary Size: 26572\n"
          ],
          "name": "stdout"
        }
      ]
    },
    {
      "cell_type": "code",
      "metadata": {
        "id": "g9U_jDKeohyJ",
        "colab_type": "code",
        "outputId": "114fa20b-8408-49f5-8467-98815978ba7f",
        "colab": {
          "base_uri": "https://localhost:8080/",
          "height": 54
        }
      },
      "source": [
        "#Sample Example from Esisting Stories\n",
        "print(existing_stories['2905'])"
      ],
      "execution_count": 9,
      "outputs": [
        {
          "output_type": "stream",
          "text": [
            "[['4562798695', '4563429868', '4562801065', '4563434166', '4563436748'], ['my trip to location was amazing .', 'i saw some colorful people .', 'i even made some knew friends .', 'i visited a beautiful pagoda .', 'then i saw a ordinary bicycle .']]\n"
          ],
          "name": "stdout"
        }
      ]
    },
    {
      "cell_type": "markdown",
      "metadata": {
        "colab_type": "text",
        "id": "8amlOYORaY6U"
      },
      "source": [
        "#Word Embedding Matrix\n",
        "###Using Glove Embeddings"
      ]
    },
    {
      "cell_type": "code",
      "metadata": {
        "colab_type": "code",
        "id": "d0TgQ6BKaZSA",
        "outputId": "52c349e0-1398-4414-c69f-a9649f8883cd",
        "colab": {
          "base_uri": "https://localhost:8080/",
          "height": 34
        }
      },
      "source": [
        "#get matrix embedding for glove\n",
        "embeddings_index = {} # empty dictionary\n",
        "f = open(GLOVE_EMBEDDING_FILE_NAME, encoding=\"utf-8\")\n",
        "\n",
        "for line in f:\n",
        "    values = line.split()\n",
        "    word = values[0]\n",
        "    coefs = np.asarray(values[1:], dtype='float32')\n",
        "    embeddings_index[word] = coefs\n",
        "f.close()\n",
        "print('Found %s word vectors.' % len(embeddings_index))\n",
        "\n",
        "\n",
        "# Get 300-dim dense vector for each of the 10000 words in out vocabulary\n",
        "embedding_matrix = np.zeros((vocab_size, WORD_EMBEDDING_DIM))\n",
        "for word, i in wordtoix.items():\n",
        "    #if i < max_words:\n",
        "    embedding_vector = embeddings_index.get(word)\n",
        "    if embedding_vector is not None:\n",
        "        # Words not found in the embedding index will be all zeros\n",
        "        embedding_matrix[i] = embedding_vector"
      ],
      "execution_count": 10,
      "outputs": [
        {
          "output_type": "stream",
          "text": [
            "Found 400000 word vectors.\n"
          ],
          "name": "stdout"
        }
      ]
    },
    {
      "cell_type": "markdown",
      "metadata": {
        "id": "exuFW7YOFggT",
        "colab_type": "text"
      },
      "source": [
        "#For the Inference Notebook\n",
        "##Not needed for training"
      ]
    },
    {
      "cell_type": "code",
      "metadata": {
        "id": "U8fQm4YyfNix",
        "colab_type": "code",
        "colab": {}
      },
      "source": [
        "# #save embedding matrix:\n",
        "# np.save('/content/drive/My Drive/Colab_Notebooks/DL_data/embedding_matrix.npy', embedding_matrix) "
      ],
      "execution_count": 0,
      "outputs": []
    },
    {
      "cell_type": "code",
      "metadata": {
        "id": "8m_4EtnggGhO",
        "colab_type": "code",
        "colab": {}
      },
      "source": [
        "# #save dicts needed during inference:\n",
        "# with open('/content/drive/My Drive/Colab_Notebooks/DL_data/ixtoword.json', 'w') as fp:\n",
        "#     json.dump(ixtoword, fp)\n",
        "\n",
        "# with open('/content/drive/My Drive/Colab_Notebooks/DL_data/wordtoix.json', 'w') as fp:\n",
        "#     json.dump(wordtoix, fp)"
      ],
      "execution_count": 0,
      "outputs": []
    },
    {
      "cell_type": "markdown",
      "metadata": {
        "id": "yfq2bjxq_WW7",
        "colab_type": "text"
      },
      "source": [
        "#Input and output for the model\n",
        "###X1, X2, X3, y"
      ]
    },
    {
      "cell_type": "code",
      "metadata": {
        "id": "PK8tkr49aQ4a",
        "colab_type": "code",
        "colab": {}
      },
      "source": [
        "\n",
        "import tensorflow as tf\n",
        "import tensorflow_hub as hub\n",
        "def all_data(stories_dict, image_embd, wordtoix, max_length, num_of_stories):\n",
        "  X1, X2, X3, y = list(), list(), list(), list()\n",
        "  #to generate X1,X2,X3 and y. ////append-> have a list of image embeds , have a list for curr caption, have sentences embed for previous sentences, next word\n",
        "  #for each story:\n",
        "  for key, lists in stories_dict.items():\n",
        "    #break after retreiving num_of_stories\n",
        "    if num_of_stories <= 0:\n",
        "      break\n",
        "    num_of_stories -= 1\n",
        "    \n",
        "    img_list=lists[0]\n",
        "    img_list_embed=[image_embd[img_id] for img_id in img_list]#[imgtoix[img_id] for img_id in img_list]\n",
        "    prev_list=lists[1].copy()\n",
        "    prev_list.pop()\n",
        "    prev_list.insert(0,'')\n",
        "    in_cap_list = np.zeros((5,max_length))\n",
        "    out_cap_list = np.zeros((5,max_length))\n",
        "    for c in range(5):\n",
        "      prev_embeddings = [wordtoix[word] for word in prev_list[c].split() if word in wordtoix]\n",
        "      prev_list[c] = pad_sequences([prev_embeddings], maxlen=max_length)[0]\n",
        "\n",
        "      cap=lists[1][c]\n",
        "      cap_in = 'startseq ' + cap\n",
        "      cap_out = cap + ' endseq'\n",
        "      seq_in = [wordtoix[word] for word in cap_in.split() if word in wordtoix]\n",
        "      seq_in = pad_sequences([seq_in], maxlen=max_length, padding='post', truncating='post')[0]\n",
        "      seq_out = [wordtoix[word] for word in cap_out.split() if word in wordtoix]\n",
        "      seq_out = pad_sequences([seq_out], maxlen=max_length, padding='post', truncating='post')[0]\n",
        "      if len(cap_out.split()) > max_length:\n",
        "        seq_out[-1]=wordtoix['endseq']\n",
        "      in_cap_list[c] = np.array(seq_in)\n",
        "      out_cap_list[c] = np.array(seq_out)\n",
        "    X1.append(img_list_embed)\n",
        "    X2.append(in_cap_list)\n",
        "    X3.append(prev_list)\n",
        "    y.append(np.concatenate(out_cap_list).ravel())##out_cap_list\n",
        "\n",
        "  return (array(X1), array(X2), array(X3), array(y))\n",
        "\n",
        "\n"
      ],
      "execution_count": 0,
      "outputs": []
    },
    {
      "cell_type": "code",
      "metadata": {
        "id": "O0ZXWjtxxkMG",
        "colab_type": "code",
        "outputId": "ae7f1fff-e38b-45a4-be8f-5723e3477c86",
        "colab": {
          "base_uri": "https://localhost:8080/",
          "height": 612
        }
      },
      "source": [
        "X1,X2,X3,y = all_data(existing_stories, image_embd, wordtoix, MAX_SEQUENCE_LENGTH, 2)\n",
        "\n",
        "print(\"X\")\n",
        "print(X2)\n",
        "print(\"Y\")\n",
        "print(y)"
      ],
      "execution_count": 25,
      "outputs": [
        {
          "output_type": "stream",
          "text": [
            "X\n",
            "[[[ 1.  3.  4.  5.  6.  7.  8.  9.  0.  0.  0.  0.  0.  0.  0.  0.  0.\n",
            "    0.  0.  0.]\n",
            "  [ 1. 10. 11. 12. 13. 14.  9.  0.  0.  0.  0.  0.  0.  0.  0.  0.  0.\n",
            "    0.  0.  0.]\n",
            "  [ 1. 10. 15. 16. 12. 17. 18.  9.  0.  0.  0.  0.  0.  0.  0.  0.  0.\n",
            "    0.  0.  0.]\n",
            "  [ 1. 10. 19. 20. 21. 22.  9.  0.  0.  0.  0.  0.  0.  0.  0.  0.  0.\n",
            "    0.  0.  0.]\n",
            "  [ 1. 23. 10. 11. 20. 24. 25.  9.  0.  0.  0.  0.  0.  0.  0.  0.  0.\n",
            "    0.  0.  0.]]\n",
            "\n",
            " [[ 1. 26. 27. 20. 28. 29. 30. 31. 32. 33. 28.  6.  9.  0.  0.  0.  0.\n",
            "    0.  0.  0.]\n",
            "  [ 1. 28. 34. 20. 35. 36. 31. 14. 37. 38. 39. 40. 41. 42. 43. 30. 34.\n",
            "    9.  0.  0.]\n",
            "  [ 1. 14. 44. 45. 46. 45. 47. 48. 49. 31. 50. 14.  9.  0.  0.  0.  0.\n",
            "    0.  0.  0.]\n",
            "  [ 1. 31. 51. 42. 21. 45. 52.  9.  0.  0.  0.  0.  0.  0.  0.  0.  0.\n",
            "    0.  0.  0.]\n",
            "  [ 1. 53. 54. 55. 56. 57. 36. 58. 31. 50. 59.  9.  0.  0.  0.  0.  0.\n",
            "    0.  0.  0.]]]\n",
            "Y\n",
            "[[ 3.  4.  5.  6.  7.  8.  9.  2.  0.  0.  0.  0.  0.  0.  0.  0.  0.  0.\n",
            "   0.  0. 10. 11. 12. 13. 14.  9.  2.  0.  0.  0.  0.  0.  0.  0.  0.  0.\n",
            "   0.  0.  0.  0. 10. 15. 16. 12. 17. 18.  9.  2.  0.  0.  0.  0.  0.  0.\n",
            "   0.  0.  0.  0.  0.  0. 10. 19. 20. 21. 22.  9.  2.  0.  0.  0.  0.  0.\n",
            "   0.  0.  0.  0.  0.  0.  0.  0. 23. 10. 11. 20. 24. 25.  9.  2.  0.  0.\n",
            "   0.  0.  0.  0.  0.  0.  0.  0.  0.  0.]\n",
            " [26. 27. 20. 28. 29. 30. 31. 32. 33. 28.  6.  9.  2.  0.  0.  0.  0.  0.\n",
            "   0.  0. 28. 34. 20. 35. 36. 31. 14. 37. 38. 39. 40. 41. 42. 43. 30. 34.\n",
            "   9.  2.  0.  0. 14. 44. 45. 46. 45. 47. 48. 49. 31. 50. 14.  9.  2.  0.\n",
            "   0.  0.  0.  0.  0.  0. 31. 51. 42. 21. 45. 52.  9.  2.  0.  0.  0.  0.\n",
            "   0.  0.  0.  0.  0.  0.  0.  0. 53. 54. 55. 56. 57. 36. 58. 31. 50. 59.\n",
            "   9.  2.  0.  0.  0.  0.  0.  0.  0.  0.]]\n"
          ],
          "name": "stdout"
        }
      ]
    },
    {
      "cell_type": "code",
      "metadata": {
        "id": "MSm7P42Yy-Kp",
        "colab_type": "code",
        "outputId": "28b2b96c-54a7-4dba-e4d5-952bdb4c9a08",
        "colab": {
          "base_uri": "https://localhost:8080/",
          "height": 34
        }
      },
      "source": [
        "# print(np.shape(y))\n"
      ],
      "execution_count": 0,
      "outputs": [
        {
          "output_type": "stream",
          "text": [
            "(5, 55)\n"
          ],
          "name": "stdout"
        }
      ]
    },
    {
      "cell_type": "markdown",
      "metadata": {
        "colab_type": "text",
        "id": "rpo33OpBdU2L"
      },
      "source": [
        "#Building Model"
      ]
    },
    {
      "cell_type": "code",
      "metadata": {
        "colab_type": "code",
        "id": "IaC1BgwxdZsM",
        "colab": {}
      },
      "source": [
        "# # Things I should try:\n",
        "# # 1- bidirectional\n",
        "# # 2- return sequences and merge the two layers\n",
        "# # 3- must get good results on validation (the model must be generalizable)\n",
        "# # 4- modify hyper parameters (hidden layers, batch size, learning rate) (with larger batch size we can use larger learning rate)\n",
        "\n",
        "\n",
        "from keras.regularizers import l2, l1\n",
        "from keras import backend as K\n",
        "def sparse_cross_entropy(y_true, y_pred):\n",
        "    loss = tf.nn.sparse_softmax_cross_entropy_with_logits(labels=y_true,logits=y_pred)\n",
        "    loss_mean = tf.reduce_mean(loss)\n",
        "    return loss_mean\n",
        "\n",
        "# def custom_sparse_categorical_accuracy(y_true, y_pred):\n",
        "#     return K.cast(K.equal(K.max(y_true, axis=-1),\n",
        "#                           K.cast(K.argmax(y_pred, axis=-1), K.floatx())),K.floatx())\n",
        "def build_model():\n",
        "###slice = Lambda(lambda x: x[:, i])(input)\n",
        "    #Image Encoder\n",
        "    img_input = Input(shape=(5,IMAGE_EMBEDDING_DIM))\n",
        "    img_encoder = GRU(300, return_sequences=True)(img_input) ##might add another layer\n",
        "    img1_enc = Lambda(lambda x: x[:, 0, :])(img_encoder)\n",
        "    img2_enc = Lambda(lambda x: x[:, 1, :])(img_encoder)\n",
        "    img3_enc = Lambda(lambda x: x[:, 2, :])(img_encoder)\n",
        "    img4_enc = Lambda(lambda x: x[:, 3, :])(img_encoder)\n",
        "    img5_enc = Lambda(lambda x: x[:, 4, :])(img_encoder)\n",
        "    #Concatenate()([forward_h, backward_h])\n",
        "\n",
        "    #Previous Sentences Encoder\n",
        "    prev_sents_input = Input(shape=(5,MAX_SEQUENCE_LENGTH))\n",
        "    sent1_in = Lambda(lambda x: x[:, 0, :])(prev_sents_input)\n",
        "    sent2_in = Lambda(lambda x: x[:, 1, :])(prev_sents_input)\n",
        "    sent3_in = Lambda(lambda x: x[:, 2, :])(prev_sents_input)\n",
        "    sent4_in = Lambda(lambda x: x[:, 3, :])(prev_sents_input)\n",
        "    sent5_in = Lambda(lambda x: x[:, 4, :])(prev_sents_input)\n",
        "    \n",
        "    #Embed each:\n",
        "    Word_Embedder = Embedding(vocab_size, WORD_EMBEDDING_DIM, mask_zero=True, weights=[embedding_matrix], trainable=False)\n",
        "    sent1_emb = Word_Embedder(sent1_in)\n",
        "    sent2_emb = Word_Embedder(sent2_in)\n",
        "    sent3_emb = Word_Embedder(sent3_in)\n",
        "    sent4_emb = Word_Embedder(sent4_in)\n",
        "    sent5_emb = Word_Embedder(sent5_in)\n",
        "    \n",
        "    #define previouse sentences encoder:\n",
        "    prev_encoder = GRU(100, recurrent_dropout=0, dropout=0.0 , return_sequences=False, activity_regularizer=l2(0.000))\n",
        "\n",
        "    #now use the encoder:\n",
        "    sent1_enc = prev_encoder(sent1_emb)\n",
        "    sent2_enc = prev_encoder(sent2_emb , initial_state = sent1_enc)\n",
        "    sent3_enc = prev_encoder(sent3_emb , initial_state = sent2_enc)\n",
        "    sent4_enc = prev_encoder(sent4_emb , initial_state = sent3_enc)\n",
        "    sent5_enc = prev_encoder(sent5_emb , initial_state = sent4_enc)\n",
        "\n",
        "\n",
        "    #now prepare for decoder:\n",
        "    hidden_1 = concatenate([sent1_enc,img1_enc])\n",
        "    hidden_2 = concatenate([sent2_enc,img2_enc])\n",
        "    hidden_3 = concatenate([sent3_enc,img3_enc])\n",
        "    hidden_4 = concatenate([sent4_enc,img4_enc])\n",
        "    hidden_5 = concatenate([sent5_enc,img5_enc])\n",
        "\n",
        "    #Decoder:\n",
        "    decoder = GRU(400,recurrent_dropout=0, dropout=0.0 ,return_sequences=True ,activity_regularizer=l2(0.000))\n",
        "    \n",
        "    #Current captions\n",
        "    captions_input = Input(shape=(5,MAX_SEQUENCE_LENGTH))\n",
        "\n",
        "    #split\n",
        "    cap1_in = Lambda(lambda x: x[:, 0, :])(captions_input)\n",
        "    cap2_in = Lambda(lambda x: x[:, 1, :])(captions_input)\n",
        "    cap3_in = Lambda(lambda x: x[:, 2, :])(captions_input)\n",
        "    cap4_in = Lambda(lambda x: x[:, 3, :])(captions_input)\n",
        "    cap5_in = Lambda(lambda x: x[:, 4, :])(captions_input)\n",
        "    \n",
        "    #Embed each:\n",
        "    cap1_emb = Word_Embedder(cap1_in)\n",
        "    cap2_emb = Word_Embedder(cap2_in)\n",
        "    cap3_emb = Word_Embedder(cap3_in)\n",
        "    cap4_emb = Word_Embedder(cap4_in)\n",
        "    cap5_emb = Word_Embedder(cap5_in)\n",
        "\n",
        "    #Decode\n",
        "    cap1_dec = decoder(cap1_emb , initial_state = hidden_1)\n",
        "    cap2_dec = decoder(cap2_emb , initial_state = hidden_2)\n",
        "    cap3_dec = decoder(cap3_emb , initial_state = hidden_3)\n",
        "    cap4_dec = decoder(cap4_emb , initial_state = hidden_4)\n",
        "    cap5_dec = decoder(cap5_emb , initial_state = hidden_5)\n",
        "\n",
        "    decoder_out = concatenate([cap1_dec, cap2_dec, cap3_dec, cap4_dec, cap5_dec], axis=-2)\n",
        "\n",
        "    decoder_dense = Dense(200, activation=None, kernel_regularizer=l2(0.000))(decoder_out)\n",
        "    outputs = Dense(vocab_size, activation='linear')(decoder_dense) ##was softmax /// used linear because it's recommended with the custom loss: https://github.com/tensorflow/tensorflow/issues/17150\n",
        "    model = Model(inputs=[img_input, captions_input, prev_sents_input], outputs=outputs)\n",
        "\n",
        "    model.summary()\n",
        "    decoder_target = tf.placeholder(dtype='int32', shape=(None, None))\n",
        "    model.compile(loss=sparse_cross_entropy, optimizer='adam', target_tensors=[decoder_target])#'adam') #, target_tensors=[decoder_target]\n",
        "#'sparse_categorical_crossentropy'\n",
        "#tf.keras.losses.SparseCategoricalCrossentropy()\n",
        "# metrics=[custom_sparse_categorical_accuracy]\n",
        "    return model"
      ],
      "execution_count": 0,
      "outputs": []
    },
    {
      "cell_type": "markdown",
      "metadata": {
        "colab_type": "text",
        "id": "aCFNBmPWdZ71"
      },
      "source": [
        "#Training"
      ]
    },
    {
      "cell_type": "code",
      "metadata": {
        "colab_type": "code",
        "id": "Z9RFuY7wfx4t",
        "outputId": "2aee52e3-eb51-4366-c19f-727c062b5583",
        "colab": {
          "base_uri": "https://localhost:8080/",
          "height": 1000
        }
      },
      "source": [
        "model=build_model()"
      ],
      "execution_count": 14,
      "outputs": [
        {
          "output_type": "stream",
          "text": [
            "Model: \"model_2\"\n",
            "__________________________________________________________________________________________________\n",
            "Layer (type)                    Output Shape         Param #     Connected to                     \n",
            "==================================================================================================\n",
            "input_6 (InputLayer)            (None, 5, 20)        0                                            \n",
            "__________________________________________________________________________________________________\n",
            "input_5 (InputLayer)            (None, 5, 20)        0                                            \n",
            "__________________________________________________________________________________________________\n",
            "lambda_26 (Lambda)              (None, 20)           0           input_6[0][0]                    \n",
            "__________________________________________________________________________________________________\n",
            "lambda_21 (Lambda)              (None, 20)           0           input_5[0][0]                    \n",
            "__________________________________________________________________________________________________\n",
            "embedding_2 (Embedding)         (None, 20, 300)      7971600     lambda_21[0][0]                  \n",
            "                                                                 lambda_22[0][0]                  \n",
            "                                                                 lambda_23[0][0]                  \n",
            "                                                                 lambda_24[0][0]                  \n",
            "                                                                 lambda_25[0][0]                  \n",
            "                                                                 lambda_26[0][0]                  \n",
            "                                                                 lambda_27[0][0]                  \n",
            "                                                                 lambda_28[0][0]                  \n",
            "                                                                 lambda_29[0][0]                  \n",
            "                                                                 lambda_30[0][0]                  \n",
            "__________________________________________________________________________________________________\n",
            "lambda_27 (Lambda)              (None, 20)           0           input_6[0][0]                    \n",
            "__________________________________________________________________________________________________\n",
            "lambda_22 (Lambda)              (None, 20)           0           input_5[0][0]                    \n",
            "__________________________________________________________________________________________________\n",
            "gru_5 (GRU)                     (None, 100)          120300      embedding_2[0][0]                \n",
            "                                                                 embedding_2[1][0]                \n",
            "                                                                 gru_5[0][0]                      \n",
            "                                                                 embedding_2[2][0]                \n",
            "                                                                 gru_5[1][0]                      \n",
            "                                                                 embedding_2[3][0]                \n",
            "                                                                 gru_5[2][0]                      \n",
            "                                                                 embedding_2[4][0]                \n",
            "                                                                 gru_5[3][0]                      \n",
            "__________________________________________________________________________________________________\n",
            "lambda_28 (Lambda)              (None, 20)           0           input_6[0][0]                    \n",
            "__________________________________________________________________________________________________\n",
            "lambda_23 (Lambda)              (None, 20)           0           input_5[0][0]                    \n",
            "__________________________________________________________________________________________________\n",
            "lambda_29 (Lambda)              (None, 20)           0           input_6[0][0]                    \n",
            "__________________________________________________________________________________________________\n",
            "lambda_24 (Lambda)              (None, 20)           0           input_5[0][0]                    \n",
            "__________________________________________________________________________________________________\n",
            "input_4 (InputLayer)            (None, 5, 2048)      0                                            \n",
            "__________________________________________________________________________________________________\n",
            "lambda_30 (Lambda)              (None, 20)           0           input_6[0][0]                    \n",
            "__________________________________________________________________________________________________\n",
            "lambda_25 (Lambda)              (None, 20)           0           input_5[0][0]                    \n",
            "__________________________________________________________________________________________________\n",
            "gru_4 (GRU)                     (None, 5, 300)       2114100     input_4[0][0]                    \n",
            "__________________________________________________________________________________________________\n",
            "lambda_16 (Lambda)              (None, 300)          0           gru_4[0][0]                      \n",
            "__________________________________________________________________________________________________\n",
            "lambda_17 (Lambda)              (None, 300)          0           gru_4[0][0]                      \n",
            "__________________________________________________________________________________________________\n",
            "lambda_18 (Lambda)              (None, 300)          0           gru_4[0][0]                      \n",
            "__________________________________________________________________________________________________\n",
            "lambda_19 (Lambda)              (None, 300)          0           gru_4[0][0]                      \n",
            "__________________________________________________________________________________________________\n",
            "lambda_20 (Lambda)              (None, 300)          0           gru_4[0][0]                      \n",
            "__________________________________________________________________________________________________\n",
            "concatenate_7 (Concatenate)     (None, 400)          0           gru_5[0][0]                      \n",
            "                                                                 lambda_16[0][0]                  \n",
            "__________________________________________________________________________________________________\n",
            "concatenate_8 (Concatenate)     (None, 400)          0           gru_5[1][0]                      \n",
            "                                                                 lambda_17[0][0]                  \n",
            "__________________________________________________________________________________________________\n",
            "concatenate_9 (Concatenate)     (None, 400)          0           gru_5[2][0]                      \n",
            "                                                                 lambda_18[0][0]                  \n",
            "__________________________________________________________________________________________________\n",
            "concatenate_10 (Concatenate)    (None, 400)          0           gru_5[3][0]                      \n",
            "                                                                 lambda_19[0][0]                  \n",
            "__________________________________________________________________________________________________\n",
            "concatenate_11 (Concatenate)    (None, 400)          0           gru_5[4][0]                      \n",
            "                                                                 lambda_20[0][0]                  \n",
            "__________________________________________________________________________________________________\n",
            "gru_6 (GRU)                     (None, 20, 400)      841200      embedding_2[5][0]                \n",
            "                                                                 concatenate_7[0][0]              \n",
            "                                                                 embedding_2[6][0]                \n",
            "                                                                 concatenate_8[0][0]              \n",
            "                                                                 embedding_2[7][0]                \n",
            "                                                                 concatenate_9[0][0]              \n",
            "                                                                 embedding_2[8][0]                \n",
            "                                                                 concatenate_10[0][0]             \n",
            "                                                                 embedding_2[9][0]                \n",
            "                                                                 concatenate_11[0][0]             \n",
            "__________________________________________________________________________________________________\n",
            "concatenate_12 (Concatenate)    (None, 100, 400)     0           gru_6[0][0]                      \n",
            "                                                                 gru_6[1][0]                      \n",
            "                                                                 gru_6[2][0]                      \n",
            "                                                                 gru_6[3][0]                      \n",
            "                                                                 gru_6[4][0]                      \n",
            "__________________________________________________________________________________________________\n",
            "dense_3 (Dense)                 (None, 100, 200)     80200       concatenate_12[0][0]             \n",
            "__________________________________________________________________________________________________\n",
            "dense_4 (Dense)                 (None, 100, 26572)   5340972     dense_3[0][0]                    \n",
            "==================================================================================================\n",
            "Total params: 16,468,372\n",
            "Trainable params: 8,496,772\n",
            "Non-trainable params: 7,971,600\n",
            "__________________________________________________________________________________________________\n"
          ],
          "name": "stdout"
        }
      ]
    },
    {
      "cell_type": "markdown",
      "metadata": {
        "id": "V620wYUxnhZh",
        "colab_type": "text"
      },
      "source": [
        "#Or load saved model"
      ]
    },
    {
      "cell_type": "code",
      "metadata": {
        "id": "Si6PjcblnmDp",
        "colab_type": "code",
        "colab": {}
      },
      "source": [
        "#model = load_model('/content/drive/My Drive/Colab_Notebooks/DL_data/models/final_model_basic_100_stories_checkpoint-ep033-loss3.835.h5')"
      ],
      "execution_count": 0,
      "outputs": []
    },
    {
      "cell_type": "markdown",
      "metadata": {
        "id": "gUVRiOtMJCk0",
        "colab_type": "text"
      },
      "source": [
        "#Prep Training"
      ]
    },
    {
      "cell_type": "code",
      "metadata": {
        "id": "YR4FhSY2cW1C",
        "colab_type": "code",
        "colab": {}
      },
      "source": [
        "X1,X2,X3,y = all_data(existing_stories, image_embd, wordtoix, MAX_SEQUENCE_LENGTH, 25)#35565\n",
        "#for GCP\n",
        "filepath_checkpoint = \"final_model_all_stories-ep{epoch:03d}-loss{loss:.3f}.h5\"\n",
        "filepath_model = 'final_model_all_stories_finale.h5'\n",
        "\n",
        "# # #for Colab\n",
        "# filepath_checkpoint = \"/content/drive/My Drive/Colab_Notebooks/DL_data/models/Suggested_10_-ep{epoch:03d}-loss{loss:.3f}.h5\"\n",
        "# filepath_model = '/content/drive/My Drive/Colab_Notebooks/DL_data/models/Suggested_10_epoch1.h5'"
      ],
      "execution_count": 0,
      "outputs": []
    },
    {
      "cell_type": "markdown",
      "metadata": {
        "id": "fUcqBAeVLQdB",
        "colab_type": "text"
      },
      "source": [
        "#Training\n",
        "##HERE I'm testing with only 25 examples, so yeah overfitting\n",
        "###You can run for the entire dataset, add dropout and regularization if overfitting is happening (data is big so not much overfitting tbh)"
      ]
    },
    {
      "cell_type": "code",
      "metadata": {
        "id": "soHPqZiKLSHO",
        "colab_type": "code",
        "colab": {
          "base_uri": "https://localhost:8080/",
          "height": 1000
        },
        "outputId": "e227835f-9125-4468-e704-893f0f0c42ec"
      },
      "source": [
        "#checkpoint = ModelCheckpoint(filepath_checkpoint, monitor='val_loss', verbose=1, save_best_only=True, mode='min')\n",
        "history = model.fit([X1,X2,X3], y, epochs=100, verbose=1, batch_size=32, validation_split=0.1, shuffle=True, workers=10, use_multiprocessing=True) #callbacks=[checkpoint]\n",
        "# model.save(filepath_model)\n",
        "# model.save_weights(filepath_w)"
      ],
      "execution_count": 16,
      "outputs": [
        {
          "output_type": "stream",
          "text": [
            "WARNING:tensorflow:From /usr/local/lib/python3.6/dist-packages/keras/backend/tensorflow_backend.py:1033: The name tf.assign_add is deprecated. Please use tf.compat.v1.assign_add instead.\n",
            "\n",
            "WARNING:tensorflow:From /usr/local/lib/python3.6/dist-packages/keras/backend/tensorflow_backend.py:1020: The name tf.assign is deprecated. Please use tf.compat.v1.assign instead.\n",
            "\n",
            "Train on 22 samples, validate on 3 samples\n",
            "Epoch 1/100\n",
            "22/22 [==============================] - 8s 368ms/step - loss: 10.1814 - val_loss: 10.0717\n",
            "Epoch 2/100\n",
            "22/22 [==============================] - 0s 21ms/step - loss: 10.0511 - val_loss: 9.9237\n",
            "Epoch 3/100\n",
            "22/22 [==============================] - 1s 24ms/step - loss: 9.8796 - val_loss: 9.6799\n",
            "Epoch 4/100\n",
            "22/22 [==============================] - 0s 20ms/step - loss: 9.5998 - val_loss: 9.2468\n",
            "Epoch 5/100\n",
            "22/22 [==============================] - 1s 24ms/step - loss: 9.1097 - val_loss: 8.4730\n",
            "Epoch 6/100\n",
            "22/22 [==============================] - 0s 19ms/step - loss: 8.2474 - val_loss: 7.2245\n",
            "Epoch 7/100\n",
            "22/22 [==============================] - 0s 22ms/step - loss: 6.8590 - val_loss: 5.7897\n",
            "Epoch 8/100\n",
            "22/22 [==============================] - 1s 24ms/step - loss: 5.1949 - val_loss: 4.8387\n",
            "Epoch 9/100\n",
            "22/22 [==============================] - 1s 23ms/step - loss: 3.9741 - val_loss: 4.5418\n",
            "Epoch 10/100\n",
            "22/22 [==============================] - 0s 20ms/step - loss: 3.4507 - val_loss: 4.7664\n",
            "Epoch 11/100\n",
            "22/22 [==============================] - 1s 23ms/step - loss: 3.4953 - val_loss: 4.9952\n",
            "Epoch 12/100\n",
            "22/22 [==============================] - 0s 20ms/step - loss: 3.5882 - val_loss: 5.0516\n",
            "Epoch 13/100\n",
            "22/22 [==============================] - 0s 21ms/step - loss: 3.5419 - val_loss: 5.0954\n",
            "Epoch 14/100\n",
            "22/22 [==============================] - 0s 21ms/step - loss: 3.4912 - val_loss: 5.2416\n",
            "Epoch 15/100\n",
            "22/22 [==============================] - 0s 20ms/step - loss: 3.5292 - val_loss: 5.3711\n",
            "Epoch 16/100\n",
            "22/22 [==============================] - 0s 23ms/step - loss: 3.5394 - val_loss: 5.4039\n",
            "Epoch 17/100\n",
            "22/22 [==============================] - 1s 24ms/step - loss: 3.4537 - val_loss: 5.4111\n",
            "Epoch 18/100\n",
            "22/22 [==============================] - 0s 22ms/step - loss: 3.3507 - val_loss: 5.4587\n",
            "Epoch 19/100\n",
            "22/22 [==============================] - 1s 25ms/step - loss: 3.3015 - val_loss: 5.5437\n",
            "Epoch 20/100\n",
            "22/22 [==============================] - 0s 22ms/step - loss: 3.3082 - val_loss: 5.6254\n",
            "Epoch 21/100\n",
            "22/22 [==============================] - 0s 20ms/step - loss: 3.3332 - val_loss: 5.6729\n",
            "Epoch 22/100\n",
            "22/22 [==============================] - 1s 24ms/step - loss: 3.3466 - val_loss: 5.6807\n",
            "Epoch 23/100\n",
            "22/22 [==============================] - 0s 22ms/step - loss: 3.3408 - val_loss: 5.6627\n",
            "Epoch 24/100\n",
            "22/22 [==============================] - 1s 23ms/step - loss: 3.3207 - val_loss: 5.6327\n",
            "Epoch 25/100\n",
            "22/22 [==============================] - 1s 24ms/step - loss: 3.2903 - val_loss: 5.5961\n",
            "Epoch 26/100\n",
            "22/22 [==============================] - 0s 22ms/step - loss: 3.2547 - val_loss: 5.5612\n",
            "Epoch 27/100\n",
            "22/22 [==============================] - 0s 21ms/step - loss: 3.2200 - val_loss: 5.5373\n",
            "Epoch 28/100\n",
            "22/22 [==============================] - 0s 22ms/step - loss: 3.1950 - val_loss: 5.5260\n",
            "Epoch 29/100\n",
            "22/22 [==============================] - 0s 23ms/step - loss: 3.1853 - val_loss: 5.5168\n",
            "Epoch 30/100\n",
            "22/22 [==============================] - 0s 23ms/step - loss: 3.1841 - val_loss: 5.4923\n",
            "Epoch 31/100\n",
            "22/22 [==============================] - 1s 24ms/step - loss: 3.1794 - val_loss: 5.4497\n",
            "Epoch 32/100\n",
            "22/22 [==============================] - 1s 23ms/step - loss: 3.1664 - val_loss: 5.4114\n",
            "Epoch 33/100\n",
            "22/22 [==============================] - 0s 22ms/step - loss: 3.1476 - val_loss: 5.3887\n",
            "Epoch 34/100\n",
            "22/22 [==============================] - 0s 22ms/step - loss: 3.1271 - val_loss: 5.3715\n",
            "Epoch 35/100\n",
            "22/22 [==============================] - 1s 23ms/step - loss: 3.1094 - val_loss: 5.3462\n",
            "Epoch 36/100\n",
            "22/22 [==============================] - 0s 22ms/step - loss: 3.0940 - val_loss: 5.3160\n",
            "Epoch 37/100\n",
            "22/22 [==============================] - 1s 23ms/step - loss: 3.0801 - val_loss: 5.2970\n",
            "Epoch 38/100\n",
            "22/22 [==============================] - 0s 22ms/step - loss: 3.0659 - val_loss: 5.2906\n",
            "Epoch 39/100\n",
            "22/22 [==============================] - 0s 21ms/step - loss: 3.0505 - val_loss: 5.2842\n",
            "Epoch 40/100\n",
            "22/22 [==============================] - 0s 23ms/step - loss: 3.0350 - val_loss: 5.2710\n",
            "Epoch 41/100\n",
            "22/22 [==============================] - 1s 24ms/step - loss: 3.0195 - val_loss: 5.2512\n",
            "Epoch 42/100\n",
            "22/22 [==============================] - 0s 21ms/step - loss: 3.0040 - val_loss: 5.2289\n",
            "Epoch 43/100\n",
            "22/22 [==============================] - 0s 20ms/step - loss: 2.9889 - val_loss: 5.2097\n",
            "Epoch 44/100\n",
            "22/22 [==============================] - 1s 24ms/step - loss: 2.9741 - val_loss: 5.1945\n",
            "Epoch 45/100\n",
            "22/22 [==============================] - 1s 24ms/step - loss: 2.9593 - val_loss: 5.1768\n",
            "Epoch 46/100\n",
            "22/22 [==============================] - 1s 24ms/step - loss: 2.9444 - val_loss: 5.1517\n",
            "Epoch 47/100\n",
            "22/22 [==============================] - 0s 21ms/step - loss: 2.9289 - val_loss: 5.1220\n",
            "Epoch 48/100\n",
            "22/22 [==============================] - 0s 21ms/step - loss: 2.9131 - val_loss: 5.0954\n",
            "Epoch 49/100\n",
            "22/22 [==============================] - 1s 24ms/step - loss: 2.8973 - val_loss: 5.0792\n",
            "Epoch 50/100\n",
            "22/22 [==============================] - 0s 22ms/step - loss: 2.8818 - val_loss: 5.0651\n",
            "Epoch 51/100\n",
            "22/22 [==============================] - 0s 21ms/step - loss: 2.8664 - val_loss: 5.0371\n",
            "Epoch 52/100\n",
            "22/22 [==============================] - 0s 20ms/step - loss: 2.8507 - val_loss: 5.0083\n",
            "Epoch 53/100\n",
            "22/22 [==============================] - 0s 21ms/step - loss: 2.8347 - val_loss: 4.9974\n",
            "Epoch 54/100\n",
            "22/22 [==============================] - 0s 21ms/step - loss: 2.8186 - val_loss: 4.9739\n",
            "Epoch 55/100\n",
            "22/22 [==============================] - 0s 21ms/step - loss: 2.8026 - val_loss: 4.9373\n",
            "Epoch 56/100\n",
            "22/22 [==============================] - 0s 21ms/step - loss: 2.7862 - val_loss: 4.9221\n",
            "Epoch 57/100\n",
            "22/22 [==============================] - 0s 22ms/step - loss: 2.7693 - val_loss: 4.9021\n",
            "Epoch 58/100\n",
            "22/22 [==============================] - 0s 19ms/step - loss: 2.7526 - val_loss: 4.8656\n",
            "Epoch 59/100\n",
            "22/22 [==============================] - 0s 22ms/step - loss: 2.7362 - val_loss: 4.8677\n",
            "Epoch 60/100\n",
            "22/22 [==============================] - 0s 21ms/step - loss: 2.7207 - val_loss: 4.8202\n",
            "Epoch 61/100\n",
            "22/22 [==============================] - 0s 21ms/step - loss: 2.7057 - val_loss: 4.8436\n",
            "Epoch 62/100\n",
            "22/22 [==============================] - 0s 23ms/step - loss: 2.6916 - val_loss: 4.7832\n",
            "Epoch 63/100\n",
            "22/22 [==============================] - 1s 25ms/step - loss: 2.6765 - val_loss: 4.8040\n",
            "Epoch 64/100\n",
            "22/22 [==============================] - 0s 20ms/step - loss: 2.6611 - val_loss: 4.7657\n",
            "Epoch 65/100\n",
            "22/22 [==============================] - 0s 21ms/step - loss: 2.6451 - val_loss: 4.7415\n",
            "Epoch 66/100\n",
            "22/22 [==============================] - 0s 20ms/step - loss: 2.6306 - val_loss: 4.7560\n",
            "Epoch 67/100\n",
            "22/22 [==============================] - 0s 20ms/step - loss: 2.6170 - val_loss: 4.7022\n",
            "Epoch 68/100\n",
            "22/22 [==============================] - 1s 23ms/step - loss: 2.6022 - val_loss: 4.7067\n",
            "Epoch 69/100\n",
            "22/22 [==============================] - 1s 23ms/step - loss: 2.5873 - val_loss: 4.6902\n",
            "Epoch 70/100\n",
            "22/22 [==============================] - 0s 22ms/step - loss: 2.5737 - val_loss: 4.6548\n",
            "Epoch 71/100\n",
            "22/22 [==============================] - 1s 23ms/step - loss: 2.5608 - val_loss: 4.6716\n",
            "Epoch 72/100\n",
            "22/22 [==============================] - 0s 22ms/step - loss: 2.5477 - val_loss: 4.6347\n",
            "Epoch 73/100\n",
            "22/22 [==============================] - 0s 20ms/step - loss: 2.5337 - val_loss: 4.6274\n",
            "Epoch 74/100\n",
            "22/22 [==============================] - 0s 20ms/step - loss: 2.5204 - val_loss: 4.6352\n",
            "Epoch 75/100\n",
            "22/22 [==============================] - 0s 23ms/step - loss: 2.5080 - val_loss: 4.5956\n",
            "Epoch 76/100\n",
            "22/22 [==============================] - 0s 20ms/step - loss: 2.4959 - val_loss: 4.6302\n",
            "Epoch 77/100\n",
            "22/22 [==============================] - 0s 21ms/step - loss: 2.4841 - val_loss: 4.5787\n",
            "Epoch 78/100\n",
            "22/22 [==============================] - 1s 23ms/step - loss: 2.4715 - val_loss: 4.6066\n",
            "Epoch 79/100\n",
            "22/22 [==============================] - 0s 22ms/step - loss: 2.4589 - val_loss: 4.5783\n",
            "Epoch 80/100\n",
            "22/22 [==============================] - 0s 21ms/step - loss: 2.4463 - val_loss: 4.5719\n",
            "Epoch 81/100\n",
            "22/22 [==============================] - 0s 21ms/step - loss: 2.4348 - val_loss: 4.5896\n",
            "Epoch 82/100\n",
            "22/22 [==============================] - 0s 22ms/step - loss: 2.4242 - val_loss: 4.5497\n",
            "Epoch 83/100\n",
            "22/22 [==============================] - 0s 21ms/step - loss: 2.4139 - val_loss: 4.5949\n",
            "Epoch 84/100\n",
            "22/22 [==============================] - 1s 23ms/step - loss: 2.4039 - val_loss: 4.5459\n",
            "Epoch 85/100\n",
            "22/22 [==============================] - 0s 21ms/step - loss: 2.3918 - val_loss: 4.5648\n",
            "Epoch 86/100\n",
            "22/22 [==============================] - 1s 23ms/step - loss: 2.3798 - val_loss: 4.5700\n",
            "Epoch 87/100\n",
            "22/22 [==============================] - 0s 22ms/step - loss: 2.3696 - val_loss: 4.5423\n",
            "Epoch 88/100\n",
            "22/22 [==============================] - 0s 21ms/step - loss: 2.3603 - val_loss: 4.5845\n",
            "Epoch 89/100\n",
            "22/22 [==============================] - 0s 20ms/step - loss: 2.3506 - val_loss: 4.5432\n",
            "Epoch 90/100\n",
            "22/22 [==============================] - 1s 23ms/step - loss: 2.3393 - val_loss: 4.5609\n",
            "Epoch 91/100\n",
            "22/22 [==============================] - 0s 20ms/step - loss: 2.3281 - val_loss: 4.5676\n",
            "Epoch 92/100\n",
            "22/22 [==============================] - 1s 25ms/step - loss: 2.3182 - val_loss: 4.5440\n",
            "Epoch 93/100\n",
            "22/22 [==============================] - 0s 21ms/step - loss: 2.3090 - val_loss: 4.5895\n",
            "Epoch 94/100\n",
            "22/22 [==============================] - 1s 23ms/step - loss: 2.2999 - val_loss: 4.5433\n",
            "Epoch 95/100\n",
            "22/22 [==============================] - 0s 20ms/step - loss: 2.2891 - val_loss: 4.5773\n",
            "Epoch 96/100\n",
            "22/22 [==============================] - 0s 20ms/step - loss: 2.2780 - val_loss: 4.5649\n",
            "Epoch 97/100\n",
            "22/22 [==============================] - 0s 20ms/step - loss: 2.2673 - val_loss: 4.5579\n",
            "Epoch 98/100\n",
            "22/22 [==============================] - 0s 20ms/step - loss: 2.2578 - val_loss: 4.6036\n",
            "Epoch 99/100\n",
            "22/22 [==============================] - 0s 22ms/step - loss: 2.2492 - val_loss: 4.5573\n",
            "Epoch 100/100\n",
            "22/22 [==============================] - 0s 20ms/step - loss: 2.2399 - val_loss: 4.6189\n"
          ],
          "name": "stdout"
        }
      ]
    },
    {
      "cell_type": "markdown",
      "metadata": {
        "id": "4FoLOOVLH8Qg",
        "colab_type": "text"
      },
      "source": [
        "#Plot loss curve"
      ]
    },
    {
      "cell_type": "code",
      "metadata": {
        "id": "3fu6qxITIplR",
        "colab_type": "code",
        "outputId": "f6d3b4bf-b50f-4891-b9fe-5f883d3595d2",
        "colab": {
          "base_uri": "https://localhost:8080/",
          "height": 312
        }
      },
      "source": [
        "import matplotlib.pyplot as plt\n",
        "print(history.history.keys())\n",
        "plt.plot(history.history['loss'])\n",
        "plt.plot(history.history['val_loss'])\n",
        "plt.title('model loss')\n",
        "plt.ylabel('loss')\n",
        "plt.xlabel('epoch')\n",
        "plt.legend(['train'], loc='upper left')\n",
        "plt.legend(['validation'], loc='upper left')\n",
        "plt.show()"
      ],
      "execution_count": 17,
      "outputs": [
        {
          "output_type": "stream",
          "text": [
            "dict_keys(['val_loss', 'loss'])\n"
          ],
          "name": "stdout"
        },
        {
          "output_type": "display_data",
          "data": {
            "image/png": "[encoded data removed]",
            "text/plain": [
              "<Figure size 432x288 with 1 Axes>"
            ]
          },
          "metadata": {
            "tags": []
          }
        }
      ]
    },
    {
      "cell_type": "markdown",
      "metadata": {
        "id": "__PdIIMSLoST",
        "colab_type": "text"
      },
      "source": [
        "#Another 100 epochs"
      ]
    },
    {
      "cell_type": "code",
      "metadata": {
        "id": "92qmH20gLq7d",
        "colab_type": "code",
        "colab": {
          "base_uri": "https://localhost:8080/",
          "height": 1000
        },
        "outputId": "db7b8402-f19e-41b3-d164-ec5757038b88"
      },
      "source": [
        "history = model.fit([X1,X2,X3], y, epochs=100, verbose=1, batch_size=32, validation_split=0.1, shuffle=True, workers=10, use_multiprocessing=True) #callbacks=[checkpoint]\n"
      ],
      "execution_count": 18,
      "outputs": [
        {
          "output_type": "stream",
          "text": [
            "Train on 22 samples, validate on 3 samples\n",
            "Epoch 1/100\n",
            "22/22 [==============================] - 1s 23ms/step - loss: 2.2303 - val_loss: 4.5724\n",
            "Epoch 2/100\n",
            "22/22 [==============================] - 0s 23ms/step - loss: 2.2182 - val_loss: 4.5970\n",
            "Epoch 3/100\n",
            "22/22 [==============================] - 0s 22ms/step - loss: 2.2067 - val_loss: 4.6193\n",
            "Epoch 4/100\n",
            "22/22 [==============================] - 0s 20ms/step - loss: 2.1971 - val_loss: 4.5896\n",
            "Epoch 5/100\n",
            "22/22 [==============================] - 0s 22ms/step - loss: 2.1885 - val_loss: 4.6611\n",
            "Epoch 6/100\n",
            "22/22 [==============================] - 0s 20ms/step - loss: 2.1803 - val_loss: 4.5947\n",
            "Epoch 7/100\n",
            "22/22 [==============================] - 0s 22ms/step - loss: 2.1694 - val_loss: 4.6526\n",
            "Epoch 8/100\n",
            "22/22 [==============================] - 0s 22ms/step - loss: 2.1569 - val_loss: 4.6381\n",
            "Epoch 9/100\n",
            "22/22 [==============================] - 0s 21ms/step - loss: 2.1445 - val_loss: 4.6290\n",
            "Epoch 10/100\n",
            "22/22 [==============================] - 0s 20ms/step - loss: 2.1356 - val_loss: 4.7023\n",
            "Epoch 11/100\n",
            "22/22 [==============================] - 0s 20ms/step - loss: 2.1279 - val_loss: 4.6316\n",
            "Epoch 12/100\n",
            "22/22 [==============================] - 0s 21ms/step - loss: 2.1168 - val_loss: 4.6933\n",
            "Epoch 13/100\n",
            "22/22 [==============================] - 0s 20ms/step - loss: 2.1036 - val_loss: 4.6783\n",
            "Epoch 14/100\n",
            "22/22 [==============================] - 0s 21ms/step - loss: 2.0905 - val_loss: 4.6669\n",
            "Epoch 15/100\n",
            "22/22 [==============================] - 0s 22ms/step - loss: 2.0815 - val_loss: 4.7493\n",
            "Epoch 16/100\n",
            "22/22 [==============================] - 1s 23ms/step - loss: 2.0738 - val_loss: 4.6790\n",
            "Epoch 17/100\n",
            "22/22 [==============================] - 1s 23ms/step - loss: 2.0609 - val_loss: 4.7299\n",
            "Epoch 18/100\n",
            "22/22 [==============================] - 0s 22ms/step - loss: 2.0468 - val_loss: 4.7337\n",
            "Epoch 19/100\n",
            "22/22 [==============================] - 0s 22ms/step - loss: 2.0349 - val_loss: 4.7139\n",
            "Epoch 20/100\n",
            "22/22 [==============================] - 0s 20ms/step - loss: 2.0257 - val_loss: 4.7900\n",
            "Epoch 21/100\n",
            "22/22 [==============================] - 0s 20ms/step - loss: 2.0158 - val_loss: 4.7393\n",
            "Epoch 22/100\n",
            "22/22 [==============================] - 0s 21ms/step - loss: 2.0018 - val_loss: 4.7731\n",
            "Epoch 23/100\n",
            "22/22 [==============================] - 0s 20ms/step - loss: 1.9884 - val_loss: 4.7972\n",
            "Epoch 24/100\n",
            "22/22 [==============================] - 0s 20ms/step - loss: 1.9773 - val_loss: 4.7733\n",
            "Epoch 25/100\n",
            "22/22 [==============================] - 0s 23ms/step - loss: 1.9672 - val_loss: 4.8449\n",
            "Epoch 26/100\n",
            "22/22 [==============================] - 1s 23ms/step - loss: 1.9564 - val_loss: 4.7967\n",
            "Epoch 27/100\n",
            "22/22 [==============================] - 0s 21ms/step - loss: 1.9431 - val_loss: 4.8436\n",
            "Epoch 28/100\n",
            "22/22 [==============================] - 0s 21ms/step - loss: 1.9294 - val_loss: 4.8484\n",
            "Epoch 29/100\n",
            "22/22 [==============================] - 0s 20ms/step - loss: 1.9166 - val_loss: 4.8432\n",
            "Epoch 30/100\n",
            "22/22 [==============================] - 0s 22ms/step - loss: 1.9057 - val_loss: 4.9051\n",
            "Epoch 31/100\n",
            "22/22 [==============================] - 0s 21ms/step - loss: 1.8953 - val_loss: 4.8593\n",
            "Epoch 32/100\n",
            "22/22 [==============================] - 1s 24ms/step - loss: 1.8833 - val_loss: 4.9218\n",
            "Epoch 33/100\n",
            "22/22 [==============================] - 0s 20ms/step - loss: 1.8702 - val_loss: 4.8999\n",
            "Epoch 34/100\n",
            "22/22 [==============================] - 0s 22ms/step - loss: 1.8557 - val_loss: 4.9217\n",
            "Epoch 35/100\n",
            "22/22 [==============================] - 0s 23ms/step - loss: 1.8432 - val_loss: 4.9604\n",
            "Epoch 36/100\n",
            "22/22 [==============================] - 1s 23ms/step - loss: 1.8319 - val_loss: 4.9325\n",
            "Epoch 37/100\n",
            "22/22 [==============================] - 0s 20ms/step - loss: 1.8210 - val_loss: 4.9990\n",
            "Epoch 38/100\n",
            "22/22 [==============================] - 0s 20ms/step - loss: 1.8095 - val_loss: 4.9634\n",
            "Epoch 39/100\n",
            "22/22 [==============================] - 0s 20ms/step - loss: 1.7958 - val_loss: 5.0151\n",
            "Epoch 40/100\n",
            "22/22 [==============================] - 0s 20ms/step - loss: 1.7820 - val_loss: 5.0111\n",
            "Epoch 41/100\n",
            "22/22 [==============================] - 0s 21ms/step - loss: 1.7685 - val_loss: 5.0213\n",
            "Epoch 42/100\n",
            "22/22 [==============================] - 0s 20ms/step - loss: 1.7566 - val_loss: 5.0682\n",
            "Epoch 43/100\n",
            "22/22 [==============================] - 0s 22ms/step - loss: 1.7454 - val_loss: 5.0440\n",
            "Epoch 44/100\n",
            "22/22 [==============================] - 0s 20ms/step - loss: 1.7343 - val_loss: 5.1088\n",
            "Epoch 45/100\n",
            "22/22 [==============================] - 0s 20ms/step - loss: 1.7230 - val_loss: 5.0703\n",
            "Epoch 46/100\n",
            "22/22 [==============================] - 0s 20ms/step - loss: 1.7103 - val_loss: 5.1299\n",
            "Epoch 47/100\n",
            "22/22 [==============================] - 0s 21ms/step - loss: 1.6964 - val_loss: 5.1231\n",
            "Epoch 48/100\n",
            "22/22 [==============================] - 0s 21ms/step - loss: 1.6827 - val_loss: 5.1423\n",
            "Epoch 49/100\n",
            "22/22 [==============================] - 0s 20ms/step - loss: 1.6703 - val_loss: 5.1817\n",
            "Epoch 50/100\n",
            "22/22 [==============================] - 0s 21ms/step - loss: 1.6593 - val_loss: 5.1634\n",
            "Epoch 51/100\n",
            "22/22 [==============================] - 0s 20ms/step - loss: 1.6479 - val_loss: 5.2213\n",
            "Epoch 52/100\n",
            "22/22 [==============================] - 0s 22ms/step - loss: 1.6357 - val_loss: 5.2023\n",
            "Epoch 53/100\n",
            "22/22 [==============================] - 1s 25ms/step - loss: 1.6225 - val_loss: 5.2428\n",
            "Epoch 54/100\n",
            "22/22 [==============================] - 0s 21ms/step - loss: 1.6094 - val_loss: 5.2574\n",
            "Epoch 55/100\n",
            "22/22 [==============================] - 0s 22ms/step - loss: 1.5968 - val_loss: 5.2664\n",
            "Epoch 56/100\n",
            "22/22 [==============================] - 0s 21ms/step - loss: 1.5850 - val_loss: 5.3093\n",
            "Epoch 57/100\n",
            "22/22 [==============================] - 1s 23ms/step - loss: 1.5734 - val_loss: 5.2915\n",
            "Epoch 58/100\n",
            "22/22 [==============================] - 0s 21ms/step - loss: 1.5619 - val_loss: 5.3498\n",
            "Epoch 59/100\n",
            "22/22 [==============================] - 0s 21ms/step - loss: 1.5496 - val_loss: 5.3310\n",
            "Epoch 60/100\n",
            "22/22 [==============================] - 0s 21ms/step - loss: 1.5371 - val_loss: 5.3829\n",
            "Epoch 61/100\n",
            "22/22 [==============================] - 0s 22ms/step - loss: 1.5239 - val_loss: 5.3796\n",
            "Epoch 62/100\n",
            "22/22 [==============================] - 0s 20ms/step - loss: 1.5107 - val_loss: 5.4060\n",
            "Epoch 63/100\n",
            "22/22 [==============================] - 0s 20ms/step - loss: 1.4980 - val_loss: 5.4336\n",
            "Epoch 64/100\n",
            "22/22 [==============================] - 0s 23ms/step - loss: 1.4858 - val_loss: 5.4316\n",
            "Epoch 65/100\n",
            "22/22 [==============================] - 0s 21ms/step - loss: 1.4738 - val_loss: 5.4796\n",
            "Epoch 66/100\n",
            "22/22 [==============================] - 0s 22ms/step - loss: 1.4617 - val_loss: 5.4660\n",
            "Epoch 67/100\n",
            "22/22 [==============================] - 0s 21ms/step - loss: 1.4496 - val_loss: 5.5229\n",
            "Epoch 68/100\n",
            "22/22 [==============================] - 0s 22ms/step - loss: 1.4373 - val_loss: 5.5026\n",
            "Epoch 69/100\n",
            "22/22 [==============================] - 0s 21ms/step - loss: 1.4247 - val_loss: 5.5622\n",
            "Epoch 70/100\n",
            "22/22 [==============================] - 0s 20ms/step - loss: 1.4115 - val_loss: 5.5495\n",
            "Epoch 71/100\n",
            "22/22 [==============================] - 0s 22ms/step - loss: 1.3979 - val_loss: 5.5874\n",
            "Epoch 72/100\n",
            "22/22 [==============================] - 0s 22ms/step - loss: 1.3843 - val_loss: 5.6061\n",
            "Epoch 73/100\n",
            "22/22 [==============================] - 0s 23ms/step - loss: 1.3713 - val_loss: 5.6161\n",
            "Epoch 74/100\n",
            "22/22 [==============================] - 0s 21ms/step - loss: 1.3588 - val_loss: 5.6604\n",
            "Epoch 75/100\n",
            "22/22 [==============================] - 0s 21ms/step - loss: 1.3464 - val_loss: 5.6510\n",
            "Epoch 76/100\n",
            "22/22 [==============================] - 1s 24ms/step - loss: 1.3341 - val_loss: 5.7084\n",
            "Epoch 77/100\n",
            "22/22 [==============================] - 0s 21ms/step - loss: 1.3213 - val_loss: 5.6925\n",
            "Epoch 78/100\n",
            "22/22 [==============================] - 0s 20ms/step - loss: 1.3081 - val_loss: 5.7474\n",
            "Epoch 79/100\n",
            "22/22 [==============================] - 0s 23ms/step - loss: 1.2943 - val_loss: 5.7459\n",
            "Epoch 80/100\n",
            "22/22 [==============================] - 1s 23ms/step - loss: 1.2804 - val_loss: 5.7803\n",
            "Epoch 81/100\n",
            "22/22 [==============================] - 1s 24ms/step - loss: 1.2667 - val_loss: 5.8033\n",
            "Epoch 82/100\n",
            "22/22 [==============================] - 1s 23ms/step - loss: 1.2534 - val_loss: 5.8139\n",
            "Epoch 83/100\n",
            "22/22 [==============================] - 1s 23ms/step - loss: 1.2405 - val_loss: 5.8571\n",
            "Epoch 84/100\n",
            "22/22 [==============================] - 0s 20ms/step - loss: 1.2276 - val_loss: 5.8532\n",
            "Epoch 85/100\n",
            "22/22 [==============================] - 0s 21ms/step - loss: 1.2149 - val_loss: 5.9108\n",
            "Epoch 86/100\n",
            "22/22 [==============================] - 0s 20ms/step - loss: 1.2019 - val_loss: 5.8962\n",
            "Epoch 87/100\n",
            "22/22 [==============================] - 0s 20ms/step - loss: 1.1891 - val_loss: 5.9579\n",
            "Epoch 88/100\n",
            "22/22 [==============================] - 0s 21ms/step - loss: 1.1754 - val_loss: 5.9460\n",
            "Epoch 89/100\n",
            "22/22 [==============================] - 0s 20ms/step - loss: 1.1614 - val_loss: 5.9951\n",
            "Epoch 90/100\n",
            "22/22 [==============================] - 0s 22ms/step - loss: 1.1471 - val_loss: 6.0092\n",
            "Epoch 91/100\n",
            "22/22 [==============================] - 0s 21ms/step - loss: 1.1332 - val_loss: 6.0277\n",
            "Epoch 92/100\n",
            "22/22 [==============================] - 1s 23ms/step - loss: 1.1201 - val_loss: 6.0708\n",
            "Epoch 93/100\n",
            "22/22 [==============================] - 1s 25ms/step - loss: 1.1075 - val_loss: 6.0675\n",
            "Epoch 94/100\n",
            "22/22 [==============================] - 0s 22ms/step - loss: 1.0949 - val_loss: 6.1242\n",
            "Epoch 95/100\n",
            "22/22 [==============================] - 0s 21ms/step - loss: 1.0817 - val_loss: 6.1177\n",
            "Epoch 96/100\n",
            "22/22 [==============================] - 1s 23ms/step - loss: 1.0684 - val_loss: 6.1698\n",
            "Epoch 97/100\n",
            "22/22 [==============================] - 1s 24ms/step - loss: 1.0545 - val_loss: 6.1755\n",
            "Epoch 98/100\n",
            "22/22 [==============================] - 0s 23ms/step - loss: 1.0408 - val_loss: 6.2072\n",
            "Epoch 99/100\n",
            "22/22 [==============================] - 0s 22ms/step - loss: 1.0275 - val_loss: 6.2385\n",
            "Epoch 100/100\n",
            "22/22 [==============================] - 0s 22ms/step - loss: 1.0147 - val_loss: 6.2463\n"
          ],
          "name": "stdout"
        }
      ]
    },
    {
      "cell_type": "code",
      "metadata": {
        "id": "9fsSx4SPhK1b",
        "colab_type": "code",
        "outputId": "610b6729-3401-4527-f786-cd137dfcaee6",
        "colab": {
          "base_uri": "https://localhost:8080/",
          "height": 190
        }
      },
      "source": [
        "print(y[10])\n",
        "x1 = X1[10]\n",
        "x2 = X2[10]\n",
        "x3 = X3[10]\n",
        "tmp=''\n",
        "for w in y[10]:\n",
        "  if w in ixtoword:\n",
        "    if w == 'endseq': continue\n",
        "    tmp += ' ' + ixtoword[w]\n",
        "print(tmp)"
      ],
      "execution_count": 21,
      "outputs": [
        {
          "output_type": "stream",
          "text": [
            "[ 31. 221. 222.   7.  31. 223. 224.   9.   2.   0.   0.   0.   0.   0.\n",
            "   0.   0.   0.   0.   0.   0.  31. 225.  72. 226. 227.   9.   2.   0.\n",
            "   0.   0.   0.   0.   0.   0.   0.   0.   0.   0.   0.   0.  62. 228.\n",
            "   7. 229.   9.   2.   0.   0.   0.   0.   0.   0.   0.   0.   0.   0.\n",
            "   0.   0.   0.   0.  62. 230.  16.  62. 231. 232.   5.  31. 233. 234.\n",
            " 137.   2.   0.   0.   0.   0.   0.   0.   0.   0. 100.  80.  68.  93.\n",
            "  62. 152.   9.   2.   0.   0.   0.   0.   0.   0.   0.   0.   0.   0.\n",
            "   0.   0.]\n",
            " the fish pond was the main attraction . endseq the flowers were also pretty . endseq this bug was interesting . endseq this women made this kid go to the plant garden , endseq time for fun on this ride . endseq\n"
          ],
          "name": "stdout"
        }
      ]
    },
    {
      "cell_type": "code",
      "metadata": {
        "id": "L0Kz14jsimQV",
        "colab_type": "code",
        "outputId": "38012dce-9171-4998-c4e9-e7c8b0348f47",
        "colab": {
          "base_uri": "https://localhost:8080/",
          "height": 173
        }
      },
      "source": [
        "yhat = model.predict([x1[np.newaxis,...],x2[np.newaxis,...],x3[np.newaxis,...]], verbose=0)\n",
        "yhat_s = yhat[0,:,:]\n",
        "print(yhat_s.shape)\n",
        "print(np.argmax(yhat_s, axis=-1))\n",
        "tmp=''\n",
        "for w in np.argmax(yhat_s, axis=-1):\n",
        "  if w in ixtoword:\n",
        "    if w == 'endseq': continue\n",
        "    tmp += ' ' + ixtoword[w]\n",
        "print(tmp)"
      ],
      "execution_count": 22,
      "outputs": [
        {
          "output_type": "stream",
          "text": [
            "(100, 26572)\n",
            "[ 31 278   7   7  31 223 224   9   0   0   0   0   0   0   0   0   0   0\n",
            "   0   0  31 225  72 226 227   9   0   0   0   0   0   0   0   0   0   0\n",
            "   0   0   0   0  23 228   7 229   9   0   0   0   0   0   0   0   0   0\n",
            "   0   0   0   0   0   0  10 103  16  78 231 232  30  31 233   9   9   0\n",
            "   0   0   0   0   0   0   0   0  31  20  20  49  31  68   9   0   0   0\n",
            "   0   0   0   0   0   0   0   0   0   0]\n",
            " the two was was the main attraction . the flowers were also pretty . then bug was interesting . i temple made us kid go in the plant . . the a a with the fun .\n"
          ],
          "name": "stdout"
        }
      ]
    },
    {
      "cell_type": "markdown",
      "metadata": {
        "id": "vR7eneAV-Fos",
        "colab_type": "text"
      },
      "source": [
        "#TRY validation:\n",
        "Not real validation as I'm using the actual the training set (but just want to confirm that it produces same thing)\n",
        "However, apparently, it is suffering if it produces one wrong word (result before this are conditioned on the right words, that is why it is producing something similar)"
      ]
    },
    {
      "cell_type": "code",
      "metadata": {
        "id": "CfzGfkAc-Iub",
        "colab_type": "code",
        "outputId": "1c4516fc-0351-44ca-9a19-3a1145ddfb8b",
        "colab": {
          "base_uri": "https://localhost:8080/",
          "height": 479
        }
      },
      "source": [
        "import numpy as np\n",
        "from scipy.ndimage.interpolation import shift\n",
        "#X1: 1x5x2048 --images\n",
        "#X2: 1x5x20  --captions\n",
        "#X3: 1x5x20    --prev\n",
        "index_v = 10\n",
        "x1_v = X1[index_v]\n",
        "x2_v = np.zeros_like(X2[index_v])\n",
        "x3_v = np.zeros_like(X3[index_v])\n",
        "for i in range(5):\n",
        "  x2_v[i][0] = wordtoix['startseq']\n",
        "  for j in range(MAX_SEQUENCE_LENGTH-1):\n",
        "    yhat = model.predict([x1_v[np.newaxis,...],x2_v[np.newaxis,...],x3_v[np.newaxis,...]], verbose=0)\n",
        "    yhat_s = yhat[0,:,:]\n",
        "    x2_v[i][j+1] = np.argmax(yhat_s, axis=-1)[j]\n",
        "  x3_v[i] = x2_v[i]\n",
        "  x3_v[i] = shift(x3_v[i], 1, cval=0)\n",
        "\n",
        "print(x3_v)\n",
        "print(x2_v)\n",
        "x2_v = np.concatenate(x2_v).ravel()\n",
        "x3_v = np.concatenate(x3_v).ravel()\n",
        "\n",
        "caps=''\n",
        "for w in x2_v:\n",
        "  if w in ixtoword:\n",
        "    if ixtoword[w] == 'startseq' or ixtoword[w] =='endseq': continue\n",
        "    caps += \" \" + ixtoword[w]\n",
        "print(\"Captions:\")\n",
        "print(caps)\n",
        "      \n",
        "s=''\n",
        "for w in x3_v:\n",
        "  if w in ixtoword:\n",
        "    #if ixtoword[w] == 'startseq' or ixtoword[w] =='endseq': continue\n",
        "    s += \" \"+ ixtoword[w]\n",
        "print(\"Sentences:\")\n",
        "print(s)\n",
        "\n",
        "\n",
        "print(\"Original\") #X3[1]\n",
        "or_f = np.concatenate(X2[index_v]).ravel()\n",
        "o=''\n",
        "for w in or_f:\n",
        "  if w in ixtoword:\n",
        "    if ixtoword[w] == 'startseq' or ixtoword[w] =='endseq': continue\n",
        "    o += \" \"+ ixtoword[w]\n",
        "\n",
        "print(o)"
      ],
      "execution_count": 27,
      "outputs": [
        {
          "output_type": "stream",
          "text": [
            "[[  0   1  31 278 221 222   7   8   9   0   0   0   0   0   0   0   0   0\n",
            "    0   0]\n",
            " [  0   1  60 225  72 331   9   0   0   0   0   0   0   0   0   0   0   0\n",
            "    0   0]\n",
            " [  0   1  60 225  72 331   9   0   0   0   0   0   0   0   0   0   0   0\n",
            "    0   0]\n",
            " [  0   1  60 225  72 331   9   0   0   0   0   0   0   0   0   0   0   0\n",
            "    0   0]\n",
            " [  0   1  60 225  72 331   9   0   0   0   0   0   0   0   0   0   0   0\n",
            "    0   0]]\n",
            "[[  1.  31. 278. 221. 222.   7.   8.   9.   0.   0.   0.   0.   0.   0.\n",
            "    0.   0.   0.   0.   0.   0.]\n",
            " [  1.  60. 225.  72. 331.   9.   0.   0.   0.   0.   0.   0.   0.   0.\n",
            "    0.   0.   0.   0.   0.   0.]\n",
            " [  1.  60. 225.  72. 331.   9.   0.   0.   0.   0.   0.   0.   0.   0.\n",
            "    0.   0.   0.   0.   0.   0.]\n",
            " [  1.  60. 225.  72. 331.   9.   0.   0.   0.   0.   0.   0.   0.   0.\n",
            "    0.   0.   0.   0.   0.   0.]\n",
            " [  1.  60. 225.  72. 331.   9.   0.   0.   0.   0.   0.   0.   0.   0.\n",
            "    0.   0.   0.   0.   0.   0.]]\n",
            "Captions:\n",
            " the two fish pond was amazing . we flowers were parrots . we flowers were parrots . we flowers were parrots . we flowers were parrots .\n",
            "Sentences:\n",
            " startseq the two fish pond was amazing . startseq we flowers were parrots . startseq we flowers were parrots . startseq we flowers were parrots . startseq we flowers were parrots .\n",
            "Original\n",
            " the fish pond was the main attraction . the flowers were also pretty . this bug was interesting . this women made this kid go to the plant garden , time for fun on this ride .\n"
          ],
          "name": "stdout"
        }
      ]
    }
  ]
}
