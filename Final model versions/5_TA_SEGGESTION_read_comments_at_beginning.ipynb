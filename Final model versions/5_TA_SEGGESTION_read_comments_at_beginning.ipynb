{
  "nbformat": 4,
  "nbformat_minor": 0,
  "metadata": {
    "colab": {
      "name": "5_TA_SEGGESTION_read comments at beginning.ipynb",
      "provenance": [],
      "collapsed_sections": [],
      "machine_shape": "hm"
    },
    "kernelspec": {
      "name": "python3",
      "display_name": "Python 3"
    },
    "language_info": {
      "codemirror_mode": {
        "name": "ipython",
        "version": 3
      },
      "file_extension": ".py",
      "mimetype": "text/x-python",
      "name": "python",
      "nbconvert_exporter": "python",
      "pygments_lexer": "ipython3",
      "version": "3.7.4"
    },
    "accelerator": "GPU"
  },
  "cells": [
    {
      "cell_type": "markdown",
      "metadata": {
        "id": "sfSNell0rRx9",
        "colab_type": "text"
      },
      "source": [
        "###NOTES TO MYSELF:\n",
        "+ I'm using 2 inputs here\n",
        "\n",
        "+ I'm also using bidirectional decoder, and feeding the output from cap_i to the initial state of cap_i+1\n",
        "\n",
        "+ No image embedding\n",
        "\n",
        "+ max sequence length is 12\n",
        "\n",
        "+ using rmsprop optimizer\n",
        "\n",
        "-- Check validation"
      ]
    },
    {
      "cell_type": "code",
      "metadata": {
        "colab_type": "code",
        "id": "lX-B3q67XANg",
        "outputId": "72e6232a-fa09-42ae-b61c-76f19a08dbea",
        "colab": {
          "base_uri": "https://localhost:8080/",
          "height": 80
        }
      },
      "source": [
        "import numpy as np\n",
        "from numpy import array\n",
        "import pandas as pd\n",
        "import matplotlib.pyplot as plt\n",
        "%matplotlib inline\n",
        "import string\n",
        "import os\n",
        "from PIL import Image\n",
        "import glob\n",
        "from pickle import dump, load\n",
        "from time import time\n",
        "from keras.preprocessing import sequence\n",
        "from keras.models import Sequential\n",
        "from keras.layers import LSTM, Embedding, TimeDistributed, Dense, RepeatVector,\\\n",
        "                         Activation, Flatten, Reshape, concatenate, Dropout, BatchNormalization, GRU, Masking, Lambda, Concatenate, Average\n",
        "from keras.optimizers import Adam, RMSprop\n",
        "from keras.layers.wrappers import Bidirectional\n",
        "from keras.layers.merge import add\n",
        "from keras.applications.inception_v3 import InceptionV3\n",
        "from keras.preprocessing import image\n",
        "from keras.models import Model\n",
        "from keras import Input, layers\n",
        "from keras import optimizers\n",
        "from keras.applications.inception_v3 import preprocess_input\n",
        "from keras.preprocessing.text import Tokenizer\n",
        "from keras.preprocessing.sequence import pad_sequences\n",
        "from keras.utils import to_categorical\n",
        "from keras.models import load_model\n",
        "import json\n",
        "import csv\n",
        "\n",
        "from keras.optimizers import SGD\n",
        "from keras.optimizers import Adam\n",
        "from keras.callbacks import ModelCheckpoint\n",
        "\n",
        "\n",
        "\n",
        "\n",
        "#Wesam\n",
        "# SEED = 10\n",
        "#IMAGE_EMBEDDING_VAL_DIR = '/content/drive/My Drive/Colab_Notebooks/DL_data/validation/'\n",
        "# IMAGE_EMBEDDING_DIR = '/content/drive/My Drive/Colab_Notebooks/DL_data/one_sample_cnn/'\n",
        "# filepath = '/content/drive/My Drive/Colab_Notebooks/DL_data/model-ep{epoch:03d}-loss{loss:.3f}.h5'\n",
        "#CAPTION_FILE_NAME = '/content/drive/My Drive/Colab_Notebooks/DL_data/image_to_caption.csv'\n",
        "\n",
        "\n",
        "#on my Colab\n",
        "ALL_CAPTIONS_FILE = '/content/drive/My Drive/Colab_Notebooks/DL_data/all_captions.txt'\n",
        "COMPLETE_STORIES_FILE = '/content/drive/My Drive/Colab_Notebooks/DL_data/complete_stories_all_splits.json'\n",
        "IMAGE_EMBEDDING_DIR = '/content/drive/My Drive/Colab_Notebooks/DL_data/CNNFeatureVectors/'\n",
        "GLOVE_EMBEDDING_FILE_NAME = '/content/drive/My Drive/Colab_Notebooks/DL_data/glove.6B.300d.txt'\n",
        "\n",
        "\n",
        "# #For my GCP:\n",
        "# ALL_CAPTIONS_FILE = 'all_captions.txt'\n",
        "# COMPLETE_STORIES_FILE = 'complete_stories_all_splits.json'\n",
        "# IMAGE_EMBEDDING_DIR = 'CNNFeatureVectors/'\n",
        "# GLOVE_EMBEDDING_FILE_NAME = 'glove.6B.300d.txt'\n",
        "\n",
        "\n",
        "#Vinuta\n",
        "SEED = 10\n",
        "IMAGE_EMBEDDING_DIM = 2048\n",
        "#IMAGE_EMBEDDING_DIR = '/Users/vinutahegde/Documents/USC/SEM3/DL/project/ws/'\n",
        "NUM_IMAGE_EMBEDDING_CHUNKS = 10\n",
        "#GLOVE_EMBEDDING_FILE_NAME = 'glove.6B.300d.txt'\n",
        "MAX_SEQUENCE_LENGTH = 20\n",
        "WORD_EMBEDDING_DIM = 300\n",
        "#CAPTION_FILE_NAME = '/Users/vinutahegde/Documents/USC/SEM3/DL/project/ws/image_to_caption.csv'\n",
        "SENTENCE_EMBEDDING_DIM = 512"
      ],
      "execution_count": 1,
      "outputs": [
        {
          "output_type": "stream",
          "text": [
            "Using TensorFlow backend.\n"
          ],
          "name": "stderr"
        },
        {
          "output_type": "display_data",
          "data": {
            "text/html": [
              "<p style=\"color: red;\">\n",
              "The default version of TensorFlow in Colab will soon switch to TensorFlow 2.x.<br>\n",
              "We recommend you <a href=\"https://www.tensorflow.org/guide/migrate\" target=\"_blank\">upgrade</a> now \n",
              "or ensure your notebook will continue to use TensorFlow 1.x via the <code>%tensorflow_version 1.x</code> magic:\n",
              "<a href=\"https://colab.research.google.com/notebooks/tensorflow_version.ipynb\" target=\"_blank\">more info</a>.</p>\n"
            ],
            "text/plain": [
              "<IPython.core.display.HTML object>"
            ]
          },
          "metadata": {
            "tags": []
          }
        }
      ]
    },
    {
      "cell_type": "code",
      "metadata": {
        "id": "MCvM68FbJ7h6",
        "colab_type": "code",
        "outputId": "caa2ae3a-6fc4-4191-df8d-fd03910e640e",
        "colab": {
          "base_uri": "https://localhost:8080/",
          "height": 34
        }
      },
      "source": [
        "#commented for GCP\n",
        "from google.colab import drive\n",
        "drive.mount('/content/drive')\n"
      ],
      "execution_count": 2,
      "outputs": [
        {
          "output_type": "stream",
          "text": [
            "Drive already mounted at /content/drive; to attempt to forcibly remount, call drive.mount(\"/content/drive\", force_remount=True).\n"
          ],
          "name": "stdout"
        }
      ]
    },
    {
      "cell_type": "markdown",
      "metadata": {
        "colab_type": "text",
        "id": "iuq6CmUtYsEE"
      },
      "source": [
        "#PreProcess Captions / Stories\n",
        "\n",
        "Either call this function or simply load preprocessed from a file\n",
        "\n"
      ]
    },
    {
      "cell_type": "code",
      "metadata": {
        "id": "0JqQ7qPFcRDE",
        "colab_type": "code",
        "colab": {}
      },
      "source": [
        "#to check if story ids are repeated or unique\n",
        "# story_list = list()\n",
        "# for key in list(all_captions_dict.keys()):\n",
        "#   story_list += list(all_captions_dict[key].keys())\n",
        "# from collections import Counter\n",
        "# print(len(story_dict))\n",
        "# d =  Counter(story_dict)\n",
        "# res = [k for k, v in d.items() if v > 1]\n",
        "# print(len(res)) ## gave zero .. so story ids are -in fact- unique\n",
        "\n",
        "\n",
        "#image_embd =  getImageEmbedding(IMAGE_EMBEDDING_DIR)\n",
        "\n",
        "def get_existing_stories(image_embeddings):\n",
        "  #load all_captions file\n",
        "  with open(ALL_CAPTIONS_FILE) as json_file:\n",
        "    all_captions_dict = json.load(json_file)\n",
        "\n",
        "  #Create a story dict (no album ids (already checked that story ids are unique))\n",
        "  story_dict = {}\n",
        "  for key in list(all_captions_dict.keys()):\n",
        "    story_dict.update(all_captions_dict[key])\n",
        "\n",
        "\n",
        "  # Create a Story dict where all images are available in the image_embeddings\n",
        "  existing_stories = {}\n",
        "  c=0\n",
        "  for key in list(story_dict.keys()):\n",
        "    lists = story_dict[key]\n",
        "    images = [item[0] for item in lists]\n",
        "    #captions = ['startseq ' + item[1] + ' endseq' for item in lists]\n",
        "    captions = [item[1] for item in lists]\n",
        "    if all(img in list(image_embeddings.keys()) for img in images):\n",
        "      existing_stories[key] = [images,captions]\n",
        "      c+=1\n",
        "      \n",
        "  print(\"Number of Stories Found: \")\n",
        "  print(c)\n",
        "\n",
        "  # Saving the complete existing story dict in a file\n",
        "  with open(COMPLETE_STORIES_FILE, 'w') as fp:\n",
        "      json.dump(existing_stories, fp)\n",
        "  return existing_stories"
      ],
      "execution_count": 0,
      "outputs": []
    },
    {
      "cell_type": "markdown",
      "metadata": {
        "id": "kiEKE0VJHSsU",
        "colab_type": "text"
      },
      "source": [
        "#Vocab"
      ]
    },
    {
      "cell_type": "code",
      "metadata": {
        "colab_type": "code",
        "id": "16o6JbtNXHVa",
        "colab": {}
      },
      "source": [
        " def vocab_fun(existing_stories_dict):\n",
        "  index_to_word = {}\n",
        "  word_to_index = {}\n",
        "  max_seq_len=0\n",
        "  all_words = {}\n",
        "  all_words['startseq'] = 1\n",
        "  all_words['endseq'] = 1\n",
        "  cap_list = list()\n",
        "  for story_id, lists in existing_stories_dict.items():\n",
        "    for cap in lists[1]:\n",
        "      if(len(cap.split())>max_seq_len):\n",
        "        max_seq_len = len(cap.split())\n",
        "      for word in cap.split():\n",
        "        all_words[word] = 1\n",
        "  all_vocab=[w for w in all_words]\n",
        "  index = 1\n",
        "  for word in all_vocab:\n",
        "      word_to_index[word] = index\n",
        "      index_to_word[index] = word\n",
        "      index += 1\n",
        "\n",
        "\n",
        "\n",
        "  #MAX_SEQUENCE_LENGTH = #max_seq_len + 1\n",
        "  return (all_vocab, word_to_index, index_to_word)"
      ],
      "execution_count": 0,
      "outputs": []
    },
    {
      "cell_type": "code",
      "metadata": {
        "id": "o2-PgnES0nhe",
        "colab_type": "code",
        "outputId": "d7c15411-7f34-49cc-9532-06a592d914e0",
        "colab": {
          "base_uri": "https://localhost:8080/",
          "height": 34
        }
      },
      "source": [
        "# #to deciede sentence length:\n",
        "\n",
        "# cap_lengths=[]\n",
        "# for key, lists in existing_stories.items():\n",
        "#     cap_list=lists[1]\n",
        "#     for x in cap_list:\n",
        "#       for c in x.split():\n",
        "#         cap_lengths.append(len(c))\n",
        "# print(np.mean(cap_lengths)+ 2 * np.std(cap_lengths))"
      ],
      "execution_count": 0,
      "outputs": [
        {
          "output_type": "stream",
          "text": [
            "8.402385321992504\n"
          ],
          "name": "stdout"
        }
      ]
    },
    {
      "cell_type": "markdown",
      "metadata": {
        "colab_type": "text",
        "id": "pl15hHkcYxYj"
      },
      "source": [
        "#Preprocess images"
      ]
    },
    {
      "cell_type": "code",
      "metadata": {
        "colab_type": "code",
        "id": "90V-9vXXYjgx",
        "colab": {}
      },
      "source": [
        "def Merge(dict1, dict2): \n",
        "    res = {**dict1, **dict2} \n",
        "    return res \n",
        "\n",
        "def getImageEmbedding(path):\n",
        "    image_embedding = {}\n",
        "    for i in range(NUM_IMAGE_EMBEDDING_CHUNKS):\n",
        "         file_name = path + 'cnn_group'+str(i+1)+'.json'\n",
        "         with open(file_name) as json_file:\n",
        "#    with open(file_name) as json_file:\n",
        "            print(file_name)\n",
        "            json_data = json.load(json_file)\n",
        "            json_data = json.loads(json_data)\n",
        "            image_embedding = Merge(image_embedding, json_data) \n",
        "            #image_embedding = json_data \n",
        "    return image_embedding"
      ],
      "execution_count": 0,
      "outputs": []
    },
    {
      "cell_type": "markdown",
      "metadata": {
        "id": "UuKPEQrk-FBz",
        "colab_type": "text"
      },
      "source": [
        "#Load Stories (captions with corresponding Image ids)\n",
        "##Dict items as follows (per story)\n",
        "[ [img_id1, img_id2, img_id3, img_id4, img_id5] , [cap1, cap2, cap3, cap4, cap5] ]"
      ]
    },
    {
      "cell_type": "code",
      "metadata": {
        "id": "jsfYfloT9dz5",
        "colab_type": "code",
        "colab": {}
      },
      "source": [
        "def get_existing_stories_from_file():\n",
        "  with open(COMPLETE_STORIES_FILE, 'r') as fp:\n",
        "      existing_stories = json.load(fp)\n",
        "  return existing_stories"
      ],
      "execution_count": 0,
      "outputs": []
    },
    {
      "cell_type": "markdown",
      "metadata": {
        "colab_type": "text",
        "id": "6dJwBxEGaYNy"
      },
      "source": [
        "#Use Prev to get captions / stories and images and pre_process them"
      ]
    },
    {
      "cell_type": "code",
      "metadata": {
        "colab_type": "code",
        "id": "XMqm0aZXaYgo",
        "outputId": "2a40c30e-5a36-4ea4-a7f5-7fcd027b16bb",
        "colab": {
          "base_uri": "https://localhost:8080/",
          "height": 204
        }
      },
      "source": [
        "#for training\n",
        "image_embd =  getImageEmbedding(IMAGE_EMBEDDING_DIR)\n",
        "print(len(image_embd))\n"
      ],
      "execution_count": 7,
      "outputs": [
        {
          "output_type": "stream",
          "text": [
            "/content/drive/My Drive/Colab_Notebooks/DL_data/CNNFeatureVectors/cnn_group1.json\n",
            "/content/drive/My Drive/Colab_Notebooks/DL_data/CNNFeatureVectors/cnn_group2.json\n",
            "/content/drive/My Drive/Colab_Notebooks/DL_data/CNNFeatureVectors/cnn_group3.json\n",
            "/content/drive/My Drive/Colab_Notebooks/DL_data/CNNFeatureVectors/cnn_group4.json\n",
            "/content/drive/My Drive/Colab_Notebooks/DL_data/CNNFeatureVectors/cnn_group5.json\n",
            "/content/drive/My Drive/Colab_Notebooks/DL_data/CNNFeatureVectors/cnn_group6.json\n",
            "/content/drive/My Drive/Colab_Notebooks/DL_data/CNNFeatureVectors/cnn_group7.json\n",
            "/content/drive/My Drive/Colab_Notebooks/DL_data/CNNFeatureVectors/cnn_group8.json\n",
            "/content/drive/My Drive/Colab_Notebooks/DL_data/CNNFeatureVectors/cnn_group9.json\n",
            "/content/drive/My Drive/Colab_Notebooks/DL_data/CNNFeatureVectors/cnn_group10.json\n",
            "58197\n"
          ],
          "name": "stdout"
        }
      ]
    },
    {
      "cell_type": "code",
      "metadata": {
        "id": "r9FZmz0inN6Z",
        "colab_type": "code",
        "outputId": "6eac2b7d-ec28-4760-a5f0-e9c114656cd8",
        "colab": {
          "base_uri": "https://localhost:8080/",
          "height": 51
        }
      },
      "source": [
        "#get existing_stories (either load from file or using a function , preferably load from file) -- uncomment one of the following 2 lines\n",
        "existing_stories = get_existing_stories_from_file()\n",
        "#existing_stories = get_existing_stories(image_embd) #Number of Stories Found: 35565\n",
        "\n",
        "all_vocab, wordtoix, ixtoword=vocab_fun(existing_stories)\n",
        "print('Max Seq Len: %d' %MAX_SEQUENCE_LENGTH)\n",
        "vocab_size = len(all_vocab) + 1\n",
        "print('Vocabulary Size: %d' % vocab_size) #26571"
      ],
      "execution_count": 8,
      "outputs": [
        {
          "output_type": "stream",
          "text": [
            "Max Seq Len: 20\n",
            "Vocabulary Size: 26572\n"
          ],
          "name": "stdout"
        }
      ]
    },
    {
      "cell_type": "markdown",
      "metadata": {
        "colab_type": "text",
        "id": "8amlOYORaY6U"
      },
      "source": [
        "#Word Embedding Matrix"
      ]
    },
    {
      "cell_type": "code",
      "metadata": {
        "colab_type": "code",
        "id": "d0TgQ6BKaZSA",
        "outputId": "e248225d-2d3d-4c13-89e9-17d978b56fc1",
        "colab": {
          "base_uri": "https://localhost:8080/",
          "height": 34
        }
      },
      "source": [
        "#get matrix embedding for glove\n",
        "embeddings_index = {} # empty dictionary\n",
        "f = open(GLOVE_EMBEDDING_FILE_NAME, encoding=\"utf-8\")\n",
        "\n",
        "for line in f:\n",
        "    values = line.split()\n",
        "    word = values[0]\n",
        "    coefs = np.asarray(values[1:], dtype='float32')\n",
        "    embeddings_index[word] = coefs\n",
        "f.close()\n",
        "print('Found %s word vectors.' % len(embeddings_index))\n",
        "\n",
        "\n",
        "# Get 300-dim dense vector for each of the 10000 words in out vocabulary\n",
        "embedding_matrix = np.zeros((vocab_size, WORD_EMBEDDING_DIM))\n",
        "for word, i in wordtoix.items():\n",
        "    #if i < max_words:\n",
        "    embedding_vector = embeddings_index.get(word)\n",
        "    if embedding_vector is not None:\n",
        "        # Words not found in the embedding index will be all zeros\n",
        "        embedding_matrix[i] = embedding_vector"
      ],
      "execution_count": 9,
      "outputs": [
        {
          "output_type": "stream",
          "text": [
            "Found 400000 word vectors.\n"
          ],
          "name": "stdout"
        }
      ]
    },
    {
      "cell_type": "code",
      "metadata": {
        "id": "U8fQm4YyfNix",
        "colab_type": "code",
        "colab": {}
      },
      "source": [
        "# #save embedding matrix:\n",
        "# np.save('/content/drive/My Drive/Colab_Notebooks/DL_data/embedding_matrix.npy', embedding_matrix) "
      ],
      "execution_count": 0,
      "outputs": []
    },
    {
      "cell_type": "code",
      "metadata": {
        "id": "8m_4EtnggGhO",
        "colab_type": "code",
        "colab": {}
      },
      "source": [
        "# #save dicts needed during inference:\n",
        "# with open('/content/drive/My Drive/Colab_Notebooks/DL_data/ixtoword.json', 'w') as fp:\n",
        "#     json.dump(ixtoword, fp)\n",
        "\n",
        "# with open('/content/drive/My Drive/Colab_Notebooks/DL_data/wordtoix.json', 'w') as fp:\n",
        "#     json.dump(wordtoix, fp)"
      ],
      "execution_count": 0,
      "outputs": []
    },
    {
      "cell_type": "markdown",
      "metadata": {
        "id": "yfq2bjxq_WW7",
        "colab_type": "text"
      },
      "source": [
        "#Input and output for the model\n",
        "###X1, X2, y"
      ]
    },
    {
      "cell_type": "code",
      "metadata": {
        "id": "PK8tkr49aQ4a",
        "colab_type": "code",
        "colab": {}
      },
      "source": [
        "\n",
        "import tensorflow as tf\n",
        "import tensorflow_hub as hub\n",
        "def all_data(stories_dict, image_embd, wordtoix, max_length, num_of_stories):\n",
        "  X1, X2, X3, y = list(), list(), list(), list()\n",
        "  #to generate X1,X2,X3 and y. ////append-> have a list of image embeds , have a list for curr caption, have sentences embed for previous sentences, next word\n",
        "  #for each story:\n",
        "  for key, lists in stories_dict.items():\n",
        "    #break after retreiving num_of_stories\n",
        "    if num_of_stories <= 0:\n",
        "      break\n",
        "    num_of_stories -= 1\n",
        "    \n",
        "    img_list=lists[0]\n",
        "    img_list_embed=[image_embd[img_id] for img_id in img_list]#[imgtoix[img_id] for img_id in img_list]\n",
        "    # prev_list=lists[1].copy()\n",
        "    # prev_list.pop()\n",
        "    # prev_list.insert(0,'')\n",
        "    in_cap_list = np.zeros((5,max_length))\n",
        "    out_cap_list = np.zeros((5,max_length))\n",
        "    for c in range(5):\n",
        "      #prev_embeddings = [wordtoix[word] for word in prev_list[c].split() if word in wordtoix]\n",
        "      #prev_list[c] = pad_sequences([prev_embeddings], maxlen=max_length)[0]\n",
        "\n",
        "      cap=lists[1][c]\n",
        "      cap_in = 'startseq ' + cap\n",
        "      cap_out = cap + ' endseq'\n",
        "      seq_in = [wordtoix[word] for word in cap_in.split() if word in wordtoix]\n",
        "      seq_in = pad_sequences([seq_in], maxlen=max_length, padding='post', truncating='post')[0]\n",
        "      seq_out = [wordtoix[word] for word in cap_out.split() if word in wordtoix]\n",
        "      seq_out = pad_sequences([seq_out], maxlen=max_length, padding='post', truncating='post')[0]\n",
        "      if len(cap_out.split()) > max_length:\n",
        "        seq_out[-1]=wordtoix['endseq']\n",
        "      in_cap_list[c] = np.array(seq_in)\n",
        "      out_cap_list[c] = np.array(seq_out)\n",
        "    X1.append(img_list_embed)\n",
        "    X2.append(in_cap_list)\n",
        "    #X3.append(prev_list)\n",
        "    y.append(np.concatenate(out_cap_list).ravel())##out_cap_list\n",
        "\n",
        "  return (array(X1), array(X2),  array(y))#array(X3),\n",
        "\n",
        "\n"
      ],
      "execution_count": 0,
      "outputs": []
    },
    {
      "cell_type": "code",
      "metadata": {
        "id": "2rfJRzcLME5h",
        "colab_type": "code",
        "colab": {}
      },
      "source": [
        "#X1,X2,y = all_data(existing_stories, image_embd, wordtoix, MAX_SEQUENCE_LENGTH, 2)#35565\n",
        "\n",
        "# print(\"X\")\n",
        "# print(X2)\n",
        "# print(\"Y\")\n",
        "# print(y)\n",
        "# print(np.shape(X2))\n",
        "# print(np.shape(y))"
      ],
      "execution_count": 0,
      "outputs": []
    },
    {
      "cell_type": "code",
      "metadata": {
        "id": "y31ZtUjq0cle",
        "colab_type": "code",
        "outputId": "0443897e-5cb8-42d1-d2d6-0ec52766b572",
        "colab": {
          "base_uri": "https://localhost:8080/",
          "height": 51
        }
      },
      "source": [
        "# print(\"X\")\n",
        "# print(np.shape(y))"
      ],
      "execution_count": 0,
      "outputs": [
        {
          "output_type": "stream",
          "text": [
            "X\n",
            "(2, 100)\n"
          ],
          "name": "stdout"
        }
      ]
    },
    {
      "cell_type": "code",
      "metadata": {
        "id": "O0ZXWjtxxkMG",
        "colab_type": "code",
        "outputId": "23ddd744-ada4-42ac-9436-cee0c6a7bb56",
        "colab": {
          "base_uri": "https://localhost:8080/",
          "height": 374
        }
      },
      "source": [
        "#X1,X2,X3,y = all_data(existing_stories, image_embd, wordtoix, MAX_SEQUENCE_LENGTH, 2)\n",
        "\n",
        "# print(\"X\")\n",
        "# print(X2)\n",
        "# print(\"Y\")\n",
        "# print(y)"
      ],
      "execution_count": 0,
      "outputs": [
        {
          "output_type": "stream",
          "text": [
            "X\n",
            "[[[ 1.  3.  4.  5.  6.  7.  8.  9.  0.  0.  0.]\n",
            "  [ 1. 10. 11. 12. 13. 14.  9.  0.  0.  0.  0.]\n",
            "  [ 1. 10. 15. 16. 12. 17. 18.  9.  0.  0.  0.]\n",
            "  [ 1. 10. 19. 20. 21. 22.  9.  0.  0.  0.  0.]\n",
            "  [ 1. 23. 10. 11. 20. 24. 25.  9.  0.  0.  0.]]\n",
            "\n",
            " [[ 1. 26. 27. 20. 28. 29. 30. 31. 32. 33. 28.]\n",
            "  [ 1. 28. 34. 20. 35. 36. 31. 14. 37. 38. 39.]\n",
            "  [ 1. 14. 44. 45. 46. 45. 47. 48. 49. 31. 50.]\n",
            "  [ 1. 31. 51. 42. 21. 45. 52.  9.  0.  0.  0.]\n",
            "  [ 1. 53. 54. 55. 56. 57. 36. 58. 31. 50. 59.]]]\n",
            "Y\n",
            "[[ 3.  4.  5.  6.  7.  8.  9.  2.  0.  0.  0. 10. 11. 12. 13. 14.  9.  2.\n",
            "   0.  0.  0.  0. 10. 15. 16. 12. 17. 18.  9.  2.  0.  0.  0. 10. 19. 20.\n",
            "  21. 22.  9.  2.  0.  0.  0.  0. 23. 10. 11. 20. 24. 25.  9.  2.  0.  0.\n",
            "   0.]\n",
            " [26. 27. 20. 28. 29. 30. 31. 32. 33. 28.  2. 28. 34. 20. 35. 36. 31. 14.\n",
            "  37. 38. 39.  2. 14. 44. 45. 46. 45. 47. 48. 49. 31. 50.  2. 31. 51. 42.\n",
            "  21. 45. 52.  9.  2.  0.  0.  0. 53. 54. 55. 56. 57. 36. 58. 31. 50. 59.\n",
            "   2.]]\n"
          ],
          "name": "stdout"
        }
      ]
    },
    {
      "cell_type": "code",
      "metadata": {
        "id": "MSm7P42Yy-Kp",
        "colab_type": "code",
        "outputId": "28b2b96c-54a7-4dba-e4d5-952bdb4c9a08",
        "colab": {
          "base_uri": "https://localhost:8080/",
          "height": 34
        }
      },
      "source": [
        "# print(np.shape(y))\n"
      ],
      "execution_count": 0,
      "outputs": [
        {
          "output_type": "stream",
          "text": [
            "(5, 55)\n"
          ],
          "name": "stdout"
        }
      ]
    },
    {
      "cell_type": "markdown",
      "metadata": {
        "colab_type": "text",
        "id": "rpo33OpBdU2L"
      },
      "source": [
        "#Building Model"
      ]
    },
    {
      "cell_type": "code",
      "metadata": {
        "colab_type": "code",
        "id": "IaC1BgwxdZsM",
        "colab": {}
      },
      "source": [
        "# # Things I should try:\n",
        "# # 1- bidirectional\n",
        "# # 2- return sequences and merge the two layers\n",
        "# # 3- must get good results on validation (the model must be generalizable)\n",
        "# # 4- modify hyper parameters (hidden layers, batch size, learning rate) (with larger batch size we can use larger learning rate)\n",
        "\n",
        "\n",
        "from keras.regularizers import l2, l1\n",
        "from keras import backend as K\n",
        "def sparse_cross_entropy(y_true, y_pred):\n",
        "    loss = tf.nn.sparse_softmax_cross_entropy_with_logits(labels=y_true,logits=y_pred)\n",
        "    loss_mean = tf.reduce_mean(loss)\n",
        "    return loss_mean\n",
        "\n",
        "# def my_sparse_categorical_accuracy(y_true, y_pred):\n",
        "#   return K.cast(\n",
        "#         K.equal(K.cast(K.max(y_true), K.floatx()),\n",
        "#                 K.cast(K.argmax(y_pred, axis=-1), K.floatx())),\n",
        "#         K.floatx()\n",
        "#         )\n",
        "\n",
        "# def custom_sparse_categorical_accuracy(y_true, y_pred):\n",
        "#     return K.cast(K.equal(K.max(y_true, axis=-1),\n",
        "#                           K.cast(K.argmax(y_pred, axis=-1), K.floatx())),K.floatx())\n",
        "def build_model():\n",
        "###slice = Lambda(lambda x: x[:, i])(input)\n",
        "    #Image Encoder\n",
        "    img_input = Input(shape=(5,IMAGE_EMBEDDING_DIM))\n",
        "    img_encoder_1 = Dropout(0)(img_input)\n",
        "    img_encoder = GRU(300, recurrent_dropout=0, return_sequences=True , activity_regularizer=l2(0.000))(img_encoder_1) ##might add another layer\n",
        "    img1_enc = Lambda(lambda x: x[:, 0, :])(img_encoder)\n",
        "    img2_enc = Lambda(lambda x: x[:, 1, :])(img_encoder)\n",
        "    img3_enc = Lambda(lambda x: x[:, 2, :])(img_encoder)\n",
        "    img4_enc = Lambda(lambda x: x[:, 3, :])(img_encoder)\n",
        "    img5_enc = Lambda(lambda x: x[:, 4, :])(img_encoder)\n",
        "    #Concatenate()([forward_h, backward_h])\n",
        "\n",
        "    #Previous Sentences Encoder\n",
        "    # prev_sents_input = Input(shape=(5,MAX_SEQUENCE_LENGTH))\n",
        "    # sent1_in = Lambda(lambda x: x[:, 0, :])(prev_sents_input)\n",
        "    # sent2_in = Lambda(lambda x: x[:, 1, :])(prev_sents_input)\n",
        "    # sent3_in = Lambda(lambda x: x[:, 2, :])(prev_sents_input)\n",
        "    # sent4_in = Lambda(lambda x: x[:, 3, :])(prev_sents_input)\n",
        "    # sent5_in = Lambda(lambda x: x[:, 4, :])(prev_sents_input)\n",
        "    \n",
        "    #Embed each:\n",
        "    Word_Embedder = Embedding(vocab_size, WORD_EMBEDDING_DIM, mask_zero=True, weights=[embedding_matrix], trainable=False)\n",
        "    # sent1_emb = Word_Embedder(sent1_in)\n",
        "    # sent2_emb = Word_Embedder(sent2_in)\n",
        "    # sent3_emb = Word_Embedder(sent3_in)\n",
        "    # sent4_emb = Word_Embedder(sent4_in)\n",
        "    # sent5_emb = Word_Embedder(sent5_in)\n",
        "    \n",
        "    #define previouse sentences encoder:\n",
        "    prev_encoder = GRU(100, recurrent_dropout=0, dropout=0.0 , return_sequences=False, activity_regularizer=l2(0.000))\n",
        "\n",
        "    # #now use the encoder:\n",
        "    # sent1_enc = prev_encoder(sent1_emb)\n",
        "    # sent2_enc = prev_encoder(sent2_emb , initial_state = sent1_enc)\n",
        "    # sent3_enc = prev_encoder(sent3_emb , initial_state = sent2_enc)\n",
        "    # sent4_enc = prev_encoder(sent4_emb , initial_state = sent3_enc)\n",
        "    # sent5_enc = prev_encoder(sent5_emb , initial_state = sent4_enc)\n",
        "\n",
        "\n",
        "    # #now prepare for decoder:\n",
        "    # hidden_1 = concatenate([sent1_enc,img1_enc])\n",
        "    # hidden_2 = concatenate([sent2_enc,img2_enc])\n",
        "    # hidden_3 = concatenate([sent3_enc,img3_enc])\n",
        "    # hidden_4 = concatenate([sent4_enc,img4_enc])\n",
        "    # hidden_5 = concatenate([sent5_enc,img5_enc])\n",
        "\n",
        "    #Decoder:\n",
        "    decoder = Bidirectional(GRU(300,recurrent_dropout=0, dropout=0.0 ,return_sequences=True, return_state=True ,activity_regularizer=l2(0.000)),  merge_mode='concat' )\n",
        "    \n",
        "    #Current captions\n",
        "    captions_input = Input(shape=(5,MAX_SEQUENCE_LENGTH))\n",
        "\n",
        "    #split\n",
        "    cap1_in = Lambda(lambda x: x[:, 0, :])(captions_input)\n",
        "    cap2_in = Lambda(lambda x: x[:, 1, :])(captions_input)\n",
        "    cap3_in = Lambda(lambda x: x[:, 2, :])(captions_input)\n",
        "    cap4_in = Lambda(lambda x: x[:, 3, :])(captions_input)\n",
        "    cap5_in = Lambda(lambda x: x[:, 4, :])(captions_input)\n",
        "    \n",
        "    #Embed each:\n",
        "    cap1_emb = Word_Embedder(cap1_in)\n",
        "    cap2_emb = Word_Embedder(cap2_in)\n",
        "    cap3_emb = Word_Embedder(cap3_in)\n",
        "    cap4_emb = Word_Embedder(cap4_in)\n",
        "    cap5_emb = Word_Embedder(cap5_in)\n",
        "\n",
        "    # Concat\n",
        "    #hidden_1 = concatenate([sent1_enc,img1_enc])\n",
        "\n",
        "\n",
        "\n",
        "    #Decode\n",
        "    cap1_dec, prev_1_f , prev_1_b = decoder(cap1_emb, initial_state = [img1_enc,img1_enc] )\n",
        "\n",
        "    fprev_1 = Average()([prev_1_f,img2_enc])\n",
        "    bprev_1 = Average()([prev_1_b,img2_enc])\n",
        "    hidden_2 = [fprev_1,bprev_1]\n",
        "    cap2_dec, prev_2_f, prev_2_b= decoder(cap2_emb , initial_state = hidden_2)\n",
        "\n",
        "    fprev_2 = Average()([prev_2_f,img3_enc])\n",
        "    bprev_2 = Average()([prev_2_b,img3_enc])\n",
        "    hidden_3 = [fprev_2,bprev_2]\n",
        "    cap3_dec, prev_3_f, prev_3_b = decoder(cap3_emb , initial_state = hidden_3)\n",
        "\n",
        "    fprev_3 = Average()([prev_3_f,img4_enc])\n",
        "    bprev_3 = Average()([prev_3_b,img4_enc])\n",
        "    hidden_4 = [fprev_3,bprev_3]\n",
        "    cap4_dec, prev_4_f, prev_4_b = decoder(cap4_emb , initial_state = hidden_4)\n",
        "\n",
        "    fprev_4 = Average()([prev_4_f,img5_enc])\n",
        "    bprev_4 = Average()([prev_4_b,img5_enc])\n",
        "    hidden_5 = [fprev_4,bprev_4]\n",
        "    cap5_dec, prev_5_f, prev_5_b = decoder(cap5_emb , initial_state = hidden_5)\n",
        "\n",
        "    decoder_out = concatenate([cap1_dec, cap2_dec, cap3_dec, cap4_dec, cap5_dec], axis=-2)\n",
        "\n",
        "    decoder_dense = Dense(200, activation=None, kernel_regularizer=l2(0.000))(decoder_out)\n",
        "    outputs = Dense(vocab_size, activation='linear')(decoder_dense) ##was softmax /// used linear because it's recommended with the custom loss: https://github.com/tensorflow/tensorflow/issues/17150\n",
        "    model = Model(inputs=[img_input, captions_input], outputs=outputs)\n",
        "\n",
        "    model.summary()\n",
        "    decoder_target = tf.placeholder(dtype='int32', shape=(None, None))\n",
        "    model.compile(loss=sparse_cross_entropy, optimizer='rmsprop', target_tensors=[decoder_target])#'adam') #, target_tensors=[decoder_target]\n",
        "#'sparse_categorical_crossentropy'\n",
        "#tf.keras.losses.SparseCategoricalCrossentropy()\n",
        "# metrics=[custom_sparse_categorical_accuracy]\n",
        "    return model"
      ],
      "execution_count": 0,
      "outputs": []
    },
    {
      "cell_type": "markdown",
      "metadata": {
        "colab_type": "text",
        "id": "aCFNBmPWdZ71"
      },
      "source": [
        "#Training"
      ]
    },
    {
      "cell_type": "code",
      "metadata": {
        "colab_type": "code",
        "id": "Z9RFuY7wfx4t",
        "outputId": "d05e9f99-f734-4bed-ecc1-bd62a52367d0",
        "colab": {
          "base_uri": "https://localhost:8080/",
          "height": 1000
        }
      },
      "source": [
        "model=build_model()"
      ],
      "execution_count": 12,
      "outputs": [
        {
          "output_type": "stream",
          "text": [
            "WARNING:tensorflow:From /usr/local/lib/python3.6/dist-packages/keras/backend/tensorflow_backend.py:66: The name tf.get_default_graph is deprecated. Please use tf.compat.v1.get_default_graph instead.\n",
            "\n",
            "WARNING:tensorflow:From /usr/local/lib/python3.6/dist-packages/keras/backend/tensorflow_backend.py:541: The name tf.placeholder is deprecated. Please use tf.compat.v1.placeholder instead.\n",
            "\n",
            "WARNING:tensorflow:From /usr/local/lib/python3.6/dist-packages/keras/backend/tensorflow_backend.py:4432: The name tf.random_uniform is deprecated. Please use tf.random.uniform instead.\n",
            "\n",
            "WARNING:tensorflow:From /usr/local/lib/python3.6/dist-packages/keras/backend/tensorflow_backend.py:190: The name tf.get_default_session is deprecated. Please use tf.compat.v1.get_default_session instead.\n",
            "\n",
            "WARNING:tensorflow:From /usr/local/lib/python3.6/dist-packages/keras/backend/tensorflow_backend.py:197: The name tf.ConfigProto is deprecated. Please use tf.compat.v1.ConfigProto instead.\n",
            "\n",
            "WARNING:tensorflow:From /usr/local/lib/python3.6/dist-packages/keras/backend/tensorflow_backend.py:203: The name tf.Session is deprecated. Please use tf.compat.v1.Session instead.\n",
            "\n",
            "WARNING:tensorflow:From /usr/local/lib/python3.6/dist-packages/keras/backend/tensorflow_backend.py:207: The name tf.global_variables is deprecated. Please use tf.compat.v1.global_variables instead.\n",
            "\n",
            "WARNING:tensorflow:From /usr/local/lib/python3.6/dist-packages/keras/backend/tensorflow_backend.py:216: The name tf.is_variable_initialized is deprecated. Please use tf.compat.v1.is_variable_initialized instead.\n",
            "\n",
            "WARNING:tensorflow:From /usr/local/lib/python3.6/dist-packages/keras/backend/tensorflow_backend.py:223: The name tf.variables_initializer is deprecated. Please use tf.compat.v1.variables_initializer instead.\n",
            "\n",
            "WARNING:tensorflow:From /usr/local/lib/python3.6/dist-packages/keras/backend/tensorflow_backend.py:3239: where (from tensorflow.python.ops.array_ops) is deprecated and will be removed in a future version.\n",
            "Instructions for updating:\n",
            "Use tf.where in 2.0, which has the same broadcast rule as np.where\n",
            "Model: \"model_1\"\n",
            "__________________________________________________________________________________________________\n",
            "Layer (type)                    Output Shape         Param #     Connected to                     \n",
            "==================================================================================================\n",
            "input_1 (InputLayer)            (None, 5, 2048)      0                                            \n",
            "__________________________________________________________________________________________________\n",
            "input_2 (InputLayer)            (None, 5, 20)        0                                            \n",
            "__________________________________________________________________________________________________\n",
            "dropout_1 (Dropout)             (None, 5, 2048)      0           input_1[0][0]                    \n",
            "__________________________________________________________________________________________________\n",
            "lambda_6 (Lambda)               (None, 20)           0           input_2[0][0]                    \n",
            "__________________________________________________________________________________________________\n",
            "gru_1 (GRU)                     (None, 5, 300)       2114100     dropout_1[0][0]                  \n",
            "__________________________________________________________________________________________________\n",
            "embedding_1 (Embedding)         (None, 20, 300)      7971600     lambda_6[0][0]                   \n",
            "                                                                 lambda_7[0][0]                   \n",
            "                                                                 lambda_8[0][0]                   \n",
            "                                                                 lambda_9[0][0]                   \n",
            "                                                                 lambda_10[0][0]                  \n",
            "__________________________________________________________________________________________________\n",
            "lambda_1 (Lambda)               (None, 300)          0           gru_1[0][0]                      \n",
            "__________________________________________________________________________________________________\n",
            "bidirectional_1 (Bidirectional) [(None, 20, 600), (N 1081800     embedding_1[0][0]                \n",
            "                                                                 lambda_1[0][0]                   \n",
            "                                                                 lambda_1[0][0]                   \n",
            "                                                                 embedding_1[1][0]                \n",
            "                                                                 average_1[0][0]                  \n",
            "                                                                 average_2[0][0]                  \n",
            "                                                                 embedding_1[2][0]                \n",
            "                                                                 average_3[0][0]                  \n",
            "                                                                 average_4[0][0]                  \n",
            "                                                                 embedding_1[3][0]                \n",
            "                                                                 average_5[0][0]                  \n",
            "                                                                 average_6[0][0]                  \n",
            "                                                                 embedding_1[4][0]                \n",
            "                                                                 average_7[0][0]                  \n",
            "                                                                 average_8[0][0]                  \n",
            "__________________________________________________________________________________________________\n",
            "lambda_7 (Lambda)               (None, 20)           0           input_2[0][0]                    \n",
            "__________________________________________________________________________________________________\n",
            "lambda_2 (Lambda)               (None, 300)          0           gru_1[0][0]                      \n",
            "__________________________________________________________________________________________________\n",
            "average_1 (Average)             (None, 300)          0           bidirectional_1[0][1]            \n",
            "                                                                 lambda_2[0][0]                   \n",
            "__________________________________________________________________________________________________\n",
            "average_2 (Average)             (None, 300)          0           bidirectional_1[0][2]            \n",
            "                                                                 lambda_2[0][0]                   \n",
            "__________________________________________________________________________________________________\n",
            "lambda_8 (Lambda)               (None, 20)           0           input_2[0][0]                    \n",
            "__________________________________________________________________________________________________\n",
            "lambda_3 (Lambda)               (None, 300)          0           gru_1[0][0]                      \n",
            "__________________________________________________________________________________________________\n",
            "average_3 (Average)             (None, 300)          0           bidirectional_1[1][1]            \n",
            "                                                                 lambda_3[0][0]                   \n",
            "__________________________________________________________________________________________________\n",
            "average_4 (Average)             (None, 300)          0           bidirectional_1[1][2]            \n",
            "                                                                 lambda_3[0][0]                   \n",
            "__________________________________________________________________________________________________\n",
            "lambda_9 (Lambda)               (None, 20)           0           input_2[0][0]                    \n",
            "__________________________________________________________________________________________________\n",
            "lambda_4 (Lambda)               (None, 300)          0           gru_1[0][0]                      \n",
            "__________________________________________________________________________________________________\n",
            "average_5 (Average)             (None, 300)          0           bidirectional_1[2][1]            \n",
            "                                                                 lambda_4[0][0]                   \n",
            "__________________________________________________________________________________________________\n",
            "average_6 (Average)             (None, 300)          0           bidirectional_1[2][2]            \n",
            "                                                                 lambda_4[0][0]                   \n",
            "__________________________________________________________________________________________________\n",
            "lambda_10 (Lambda)              (None, 20)           0           input_2[0][0]                    \n",
            "__________________________________________________________________________________________________\n",
            "lambda_5 (Lambda)               (None, 300)          0           gru_1[0][0]                      \n",
            "__________________________________________________________________________________________________\n",
            "average_7 (Average)             (None, 300)          0           bidirectional_1[3][1]            \n",
            "                                                                 lambda_5[0][0]                   \n",
            "__________________________________________________________________________________________________\n",
            "average_8 (Average)             (None, 300)          0           bidirectional_1[3][2]            \n",
            "                                                                 lambda_5[0][0]                   \n",
            "__________________________________________________________________________________________________\n",
            "concatenate_1 (Concatenate)     (None, 100, 600)     0           bidirectional_1[0][0]            \n",
            "                                                                 bidirectional_1[1][0]            \n",
            "                                                                 bidirectional_1[2][0]            \n",
            "                                                                 bidirectional_1[3][0]            \n",
            "                                                                 bidirectional_1[4][0]            \n",
            "__________________________________________________________________________________________________\n",
            "dense_1 (Dense)                 (None, 100, 200)     120200      concatenate_1[0][0]              \n",
            "__________________________________________________________________________________________________\n",
            "dense_2 (Dense)                 (None, 100, 26572)   5340972     dense_1[0][0]                    \n",
            "==================================================================================================\n",
            "Total params: 16,628,672\n",
            "Trainable params: 8,657,072\n",
            "Non-trainable params: 7,971,600\n",
            "__________________________________________________________________________________________________\n",
            "WARNING:tensorflow:From /usr/local/lib/python3.6/dist-packages/keras/optimizers.py:793: The name tf.train.Optimizer is deprecated. Please use tf.compat.v1.train.Optimizer instead.\n",
            "\n"
          ],
          "name": "stdout"
        }
      ]
    },
    {
      "cell_type": "markdown",
      "metadata": {
        "id": "V620wYUxnhZh",
        "colab_type": "text"
      },
      "source": [
        "#Or load saved model"
      ]
    },
    {
      "cell_type": "code",
      "metadata": {
        "id": "Si6PjcblnmDp",
        "colab_type": "code",
        "colab": {}
      },
      "source": [
        "#model = load_model('/content/drive/My Drive/Colab_Notebooks/DL_data/models/final_model_basic_100_stories_checkpoint-ep033-loss3.835.h5')"
      ],
      "execution_count": 0,
      "outputs": []
    },
    {
      "cell_type": "markdown",
      "metadata": {
        "id": "kGbmz4VFhb83",
        "colab_type": "text"
      },
      "source": [
        "#Prep for training"
      ]
    },
    {
      "cell_type": "code",
      "metadata": {
        "id": "YR4FhSY2cW1C",
        "colab_type": "code",
        "colab": {}
      },
      "source": [
        "X1,X2,y = all_data(existing_stories, image_embd, wordtoix, MAX_SEQUENCE_LENGTH, 1000)#35565\n",
        "#for GCP\n",
        "# filepath_checkpoint = \"final_model_all_stories-ep{epoch:03d}-loss{loss:.3f}.h5\"\n",
        "# filepath_model = 'final_model_all_stories_finale.h5'\n",
        "\n",
        "# # #for Colab\n",
        "# filepath_checkpoint = \"/content/drive/My Drive/Colab_Notebooks/DL_data/models/Suggested_10_-ep{epoch:03d}-loss{loss:.3f}.h5\"\n",
        "# filepath_model = '/content/drive/My Drive/Colab_Notebooks/DL_data/models/Suggested_10_epoch1.h5'\n",
        "\n",
        "\n"
      ],
      "execution_count": 0,
      "outputs": []
    },
    {
      "cell_type": "markdown",
      "metadata": {
        "id": "hnO5JdeKhhtS",
        "colab_type": "text"
      },
      "source": [
        "#Training"
      ]
    },
    {
      "cell_type": "code",
      "metadata": {
        "id": "8vHfOqvchi3S",
        "colab_type": "code",
        "colab": {
          "base_uri": "https://localhost:8080/",
          "height": 802
        },
        "outputId": "6618711c-e484-487d-cf0f-b4c2e7030f05"
      },
      "source": [
        "\n",
        "#checkpoint = ModelCheckpoint(filepath_checkpoint, monitor='val_loss', verbose=1, save_best_only=True, mode='min')\n",
        "history = model.fit([X1,X2], y, epochs=20, verbose=2, batch_size=32, validation_split=0.1, shuffle=True, workers=10, use_multiprocessing=True) #callbacks=[checkpoint]"
      ],
      "execution_count": 14,
      "outputs": [
        {
          "output_type": "stream",
          "text": [
            "WARNING:tensorflow:From /usr/local/lib/python3.6/dist-packages/keras/backend/tensorflow_backend.py:1033: The name tf.assign_add is deprecated. Please use tf.compat.v1.assign_add instead.\n",
            "\n",
            "WARNING:tensorflow:From /usr/local/lib/python3.6/dist-packages/keras/backend/tensorflow_backend.py:1020: The name tf.assign is deprecated. Please use tf.compat.v1.assign instead.\n",
            "\n",
            "Train on 900 samples, validate on 100 samples\n",
            "Epoch 1/20\n",
            " - 18s - loss: 4.2788 - val_loss: 2.8136\n",
            "Epoch 2/20\n",
            " - 10s - loss: 2.7624 - val_loss: 2.1815\n",
            "Epoch 3/20\n",
            " - 11s - loss: 2.0458 - val_loss: 1.7114\n",
            "Epoch 4/20\n",
            " - 11s - loss: 1.5326 - val_loss: 1.3702\n",
            "Epoch 5/20\n",
            " - 11s - loss: 1.1564 - val_loss: 1.1449\n",
            "Epoch 6/20\n",
            " - 11s - loss: 0.8693 - val_loss: 0.9801\n",
            "Epoch 7/20\n",
            " - 10s - loss: 0.6613 - val_loss: 0.8878\n",
            "Epoch 8/20\n",
            " - 11s - loss: 0.5026 - val_loss: 0.8357\n",
            "Epoch 9/20\n",
            " - 11s - loss: 0.3785 - val_loss: 0.7880\n",
            "Epoch 10/20\n",
            " - 11s - loss: 0.2795 - val_loss: 0.7818\n",
            "Epoch 11/20\n",
            " - 10s - loss: 0.2011 - val_loss: 0.7657\n",
            "Epoch 12/20\n",
            " - 11s - loss: 0.1397 - val_loss: 0.7970\n",
            "Epoch 13/20\n",
            " - 11s - loss: 0.0950 - val_loss: 0.7773\n",
            "Epoch 14/20\n",
            " - 11s - loss: 0.0648 - val_loss: 0.7837\n",
            "Epoch 15/20\n",
            " - 11s - loss: 0.0443 - val_loss: 0.7779\n",
            "Epoch 16/20\n",
            " - 11s - loss: 0.0308 - val_loss: 0.8006\n",
            "Epoch 17/20\n",
            " - 11s - loss: 0.0227 - val_loss: 0.8036\n",
            "Epoch 18/20\n",
            " - 11s - loss: 0.0168 - val_loss: 0.8143\n",
            "Epoch 19/20\n",
            " - 11s - loss: 0.0139 - val_loss: 0.8047\n",
            "Epoch 20/20\n",
            " - 11s - loss: 0.0103 - val_loss: 0.8735\n"
          ],
          "name": "stdout"
        }
      ]
    },
    {
      "cell_type": "markdown",
      "metadata": {
        "id": "4FoLOOVLH8Qg",
        "colab_type": "text"
      },
      "source": [
        "#Plot loss curve"
      ]
    },
    {
      "cell_type": "code",
      "metadata": {
        "id": "3fu6qxITIplR",
        "colab_type": "code",
        "outputId": "8470cea8-3021-4e60-d4f9-01c18ee6a5b8",
        "colab": {
          "base_uri": "https://localhost:8080/",
          "height": 312
        }
      },
      "source": [
        "import matplotlib.pyplot as plt\n",
        "print(history.history.keys())\n",
        "plt.plot(history.history['loss'])\n",
        "plt.plot(history.history['val_loss'])\n",
        "plt.title('model loss')\n",
        "plt.ylabel('loss')\n",
        "plt.xlabel('epoch')\n",
        "plt.legend(['train'], loc='upper left')\n",
        "plt.legend(['validation'], loc='upper left')\n",
        "plt.show()"
      ],
      "execution_count": 16,
      "outputs": [
        {
          "output_type": "stream",
          "text": [
            "dict_keys(['val_loss', 'loss'])\n"
          ],
          "name": "stdout"
        },
        {
          "output_type": "display_data",
          "data": {
            "image/png": "[encoded data removed]",
            "text/plain": [
              "<Figure size 432x288 with 1 Axes>"
            ]
          },
          "metadata": {
            "tags": []
          }
        }
      ]
    },
    {
      "cell_type": "code",
      "metadata": {
        "id": "9fsSx4SPhK1b",
        "colab_type": "code",
        "outputId": "7e5deb59-9541-48d5-afe3-9384a4904d5f",
        "colab": {
          "base_uri": "https://localhost:8080/",
          "height": 224
        }
      },
      "source": [
        "print(y[10])\n",
        "x1 = X1[10]\n",
        "x2 = X2[10].copy()\n",
        "tmp=''\n",
        "for w in y[10]:\n",
        "  if w in ixtoword:\n",
        "    if w == 'endseq': continue\n",
        "    tmp += ' ' + ixtoword[w]\n",
        "print(tmp)\n",
        "\n",
        "yhat = model.predict([x1[np.newaxis,...],x2[np.newaxis,...]], verbose=0)\n",
        "print(\"yhat\")\n",
        "print(np.shape(yhat))"
      ],
      "execution_count": 34,
      "outputs": [
        {
          "output_type": "stream",
          "text": [
            "[ 31. 221. 222.   7.  31. 223. 224.   9.   2.   0.   0.   0.   0.   0.\n",
            "   0.   0.   0.   0.   0.   0.  31. 225.  72. 226. 227.   9.   2.   0.\n",
            "   0.   0.   0.   0.   0.   0.   0.   0.   0.   0.   0.   0.  62. 228.\n",
            "   7. 229.   9.   2.   0.   0.   0.   0.   0.   0.   0.   0.   0.   0.\n",
            "   0.   0.   0.   0.  62. 230.  16.  62. 231. 232.   5.  31. 233. 234.\n",
            " 137.   2.   0.   0.   0.   0.   0.   0.   0.   0. 100.  80.  68.  93.\n",
            "  62. 152.   9.   2.   0.   0.   0.   0.   0.   0.   0.   0.   0.   0.\n",
            "   0.   0.]\n",
            " the fish pond was the main attraction . endseq the flowers were also pretty . endseq this bug was interesting . endseq this women made this kid go to the plant garden , endseq time for fun on this ride . endseq\n",
            "yhat\n",
            "(1, 100, 26572)\n"
          ],
          "name": "stdout"
        }
      ]
    },
    {
      "cell_type": "code",
      "metadata": {
        "id": "L0Kz14jsimQV",
        "colab_type": "code",
        "outputId": "b550fdc7-d7f5-4654-c75d-88b82b8a2d75",
        "colab": {
          "base_uri": "https://localhost:8080/",
          "height": 173
        }
      },
      "source": [
        "yhat_s = yhat[0,:,:]\n",
        "print(yhat_s.shape)\n",
        "print(np.argmax(yhat_s, axis=-1))\n",
        "tmp=''\n",
        "for w in np.argmax(yhat_s, axis=-1):\n",
        "  if w in ixtoword:\n",
        "    if w == 'endseq': continue\n",
        "    tmp += ' ' + ixtoword[w]\n",
        "print(tmp)"
      ],
      "execution_count": 35,
      "outputs": [
        {
          "output_type": "stream",
          "text": [
            "(100, 26572)\n",
            "[ 31 221 222   7  31 223 224   9   2   0   0   0   0   0   0   0   0   0\n",
            "   0   0  31 225  72 226 227   9   2   0   0   0   0   0   0   0   0   0\n",
            "   0   0   0   0  62 228   7 229   9   2   0   0   0   0   0   0   0   0\n",
            "   0   0   0   0   0   0  62 230  16  62 231 232   5  31 233 234 137   2\n",
            "   0   0   0   0   0   0   0   0 100  80  68  93  62 152   9   2   0   0\n",
            "   0   0   0   0   0   0   0   0   0   0]\n",
            " the fish pond was the main attraction . endseq the flowers were also pretty . endseq this bug was interesting . endseq this women made this kid go to the plant garden , endseq time for fun on this ride . endseq\n"
          ],
          "name": "stdout"
        }
      ]
    },
    {
      "cell_type": "markdown",
      "metadata": {
        "id": "vR7eneAV-Fos",
        "colab_type": "text"
      },
      "source": [
        "#TRY validation:"
      ]
    },
    {
      "cell_type": "code",
      "metadata": {
        "id": "CfzGfkAc-Iub",
        "colab_type": "code",
        "outputId": "ce9d75b4-1f03-4ad5-8d80-53c795e8edb3",
        "colab": {
          "base_uri": "https://localhost:8080/",
          "height": 632
        }
      },
      "source": [
        "import numpy as np\n",
        "from scipy.ndimage.interpolation import shift\n",
        "#X1: 1x5x2048 --images\n",
        "#X2: 1x5x20  --captions\n",
        "index_v = 15\n",
        "x1_v = X1[index_v]\n",
        "x2_v = X2[index_v].copy()\n",
        "x2_v_in = np.zeros_like(x2_v)\n",
        "x2_v_out = np.zeros_like(x2_v)\n",
        "for i in range(5):\n",
        "  x2_v_in[i][0] = wordtoix['startseq']\n",
        "  for j in range(MAX_SEQUENCE_LENGTH): \n",
        "    yhat = model.predict([x1_v[np.newaxis,...],x2_v_in[np.newaxis,...]], verbose=0)\n",
        "    yhat_s = yhat[0,:,:]\n",
        "    cur = np.argmax(yhat_s[j])\n",
        "    #if ixtoword[cur] == 'endseq': break\n",
        "    if j+1<MAX_SEQUENCE_LENGTH:\n",
        "      x2_v_in[i][j+1] = cur\n",
        "    x2_v_out[i][j] = cur\n",
        "\n",
        "\n",
        "\n",
        "\n",
        "print(x2_v_in)\n",
        "print(x2_v_out)\n",
        "\n",
        "caps=''\n",
        "here = np.concatenate(x2_v_out).ravel()\n",
        "for w in here:\n",
        "  if w in ixtoword:\n",
        "    if ixtoword[w] == 'startseq' or ixtoword[w] =='endseq': continue\n",
        "    caps += \" \" + ixtoword[w]\n",
        "print(\"Captions:\")\n",
        "print(caps)\n",
        "\n",
        "print('Original X2')\n",
        "print(X2[index_v])\n",
        "or_f = np.concatenate(X2[index_v]).ravel()\n",
        "\n",
        "o=''\n",
        "for w in or_f:\n",
        "  if w in ixtoword:\n",
        "    if ixtoword[w] == 'startseq' or ixtoword[w] =='endseq': continue\n",
        "    o += \" \"+ ixtoword[w]\n",
        "print(\"Original\") #X3[1]\n",
        "print(o)"
      ],
      "execution_count": 49,
      "outputs": [
        {
          "output_type": "stream",
          "text": [
            "[[  1.   2.   2.   2.   2.   2.   2.   2.   2.   2.   2.   2.   2.   2.\n",
            "    2.   2.   2.   2.   2.   2.]\n",
            " [  1. 863. 863. 863. 863. 863. 863. 863. 863. 863. 863. 863. 863. 863.\n",
            "  863. 863. 863. 863. 863.   0.]\n",
            " [  1. 863. 863. 863. 863. 863. 863. 863. 863. 863. 863. 863. 863. 863.\n",
            "  863. 863. 863. 863. 863.   0.]\n",
            " [  1. 863. 863. 863. 863. 863. 863. 863. 863. 863. 863. 863. 863. 863.\n",
            "  863. 863. 863. 863. 863.   0.]\n",
            " [  1. 863. 863. 863. 863. 863. 863. 863. 863. 863. 863. 863. 863. 863.\n",
            "  863. 863. 863. 863. 863.   0.]]\n",
            "[[  2.   2.   2.   2.   2.   2.   2.   2.   2.   2.   2.   2.   2.   2.\n",
            "    2.   2.   2.   2.   2.   2.]\n",
            " [863. 863. 863. 863. 863. 863. 863. 863. 863. 863. 863. 863. 863. 863.\n",
            "  863. 863. 863. 863.   0.   2.]\n",
            " [863. 863. 863. 863. 863. 863. 863. 863. 863. 863. 863. 863. 863. 863.\n",
            "  863. 863. 863. 863.   0.   2.]\n",
            " [863. 863. 863. 863. 863. 863. 863. 863. 863. 863. 863. 863. 863. 863.\n",
            "  863. 863. 863. 863.   0.   2.]\n",
            " [863. 863. 863. 863. 863. 863. 863. 863. 863. 863. 863. 863. 863. 863.\n",
            "  863. 863. 863. 863.   0.   2.]]\n",
            "Captions:\n",
            " [male] [male] [male] [male] [male] [male] [male] [male] [male] [male] [male] [male] [male] [male] [male] [male] [male] [male] [male] [male] [male] [male] [male] [male] [male] [male] [male] [male] [male] [male] [male] [male] [male] [male] [male] [male] [male] [male] [male] [male] [male] [male] [male] [male] [male] [male] [male] [male] [male] [male] [male] [male] [male] [male] [male] [male] [male] [male] [male] [male] [male] [male] [male] [male] [male] [male] [male] [male] [male] [male] [male] [male]\n",
            "Original X2\n",
            "[[  1.  60. 110.  20.   4.  88.  31. 294.   9.   0.   0.   0.   0.   0.\n",
            "    0.   0.   0.   0.   0.   0.]\n",
            " [  1. 153. 295.   7.  20. 296. 297.   9.   0.   0.   0.   0.   0.   0.\n",
            "    0.   0.   0.   0.   0.   0.]\n",
            " [  1. 153. 295. 159.  15. 298. 299. 300.   5. 301.   9.   0.   0.   0.\n",
            "    0.   0.   0.   0.   0.   0.]\n",
            " [  1.  60. 302. 216. 108.  14.  72.  93.  55. 303.   9.   0.   0.   0.\n",
            "    0.   0.   0.   0.   0.   0.]\n",
            " [  1.  60.  11.  20. 292. 292. 304. 166. 305.   9.   0.   0.   0.   0.\n",
            "    0.   0.   0.   0.   0.   0.]]\n",
            "Original\n",
            " we took a trip at the boardwalk . one man was a street performer . one man had even brought his parrot to perform . we noticed that many people were on their bikes . we saw a organization organization int he distance .\n"
          ],
          "name": "stdout"
        }
      ]
    },
    {
      "cell_type": "code",
      "metadata": {
        "id": "2IWWkFQDqdij",
        "colab_type": "code",
        "colab": {}
      },
      "source": [
        "#save weights:\n",
        "model.save_weights('/content/drive/My Drive/Colab_Notebooks/DL_data/models/final_model_all_weights_sure.h5')\n",
        "model.save('/content/drive/My Drive/Colab_Notebooks/DL_data/models/final_model_basic_all_stories_finale_pad_sure.h5')\n",
        "##model2.load_weights()"
      ],
      "execution_count": 0,
      "outputs": []
    },
    {
      "cell_type": "code",
      "metadata": {
        "id": "fiNcLTa2vorh",
        "colab_type": "code",
        "colab": {}
      },
      "source": [
        "# filepath_model_load = '/content/drive/My Drive/Colab_Notebooks/DL_data/models/final_model_basic_100_stories_finale.h5'\n",
        "#sen3_layer\n",
        "# model_loaded = load_model(filepath_model_load, custom_objects={'sparse_cross_entropy': tf.nn.softmax_cross_entropy_with_logits})\n",
        "names = [weight.name for layer in model.layers for weight in layer.weights]\n",
        "weights = model.get_weights()\n",
        "\n",
        "for name, weight in zip(names, weights):\n",
        "    print(name, weight)"
      ],
      "execution_count": 0,
      "outputs": []
    }
  ]
}