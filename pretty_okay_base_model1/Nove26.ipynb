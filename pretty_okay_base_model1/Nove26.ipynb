{
 "cells": [
  {
   "cell_type": "code",
   "execution_count": 1,
   "metadata": {},
   "outputs": [
    {
     "name": "stderr",
     "output_type": "stream",
     "text": [
      "Using TensorFlow backend.\n",
      "/Users/vinutahegde/Documents/USC/SEM3/DL/project/ws/404/404/lib/python3.7/site-packages/tensorflow/python/framework/dtypes.py:516: FutureWarning: Passing (type, 1) or '1type' as a synonym of type is deprecated; in a future version of numpy, it will be understood as (type, (1,)) / '(1,)type'.\n",
      "  _np_qint8 = np.dtype([(\"qint8\", np.int8, 1)])\n",
      "/Users/vinutahegde/Documents/USC/SEM3/DL/project/ws/404/404/lib/python3.7/site-packages/tensorflow/python/framework/dtypes.py:517: FutureWarning: Passing (type, 1) or '1type' as a synonym of type is deprecated; in a future version of numpy, it will be understood as (type, (1,)) / '(1,)type'.\n",
      "  _np_quint8 = np.dtype([(\"quint8\", np.uint8, 1)])\n",
      "/Users/vinutahegde/Documents/USC/SEM3/DL/project/ws/404/404/lib/python3.7/site-packages/tensorflow/python/framework/dtypes.py:518: FutureWarning: Passing (type, 1) or '1type' as a synonym of type is deprecated; in a future version of numpy, it will be understood as (type, (1,)) / '(1,)type'.\n",
      "  _np_qint16 = np.dtype([(\"qint16\", np.int16, 1)])\n",
      "/Users/vinutahegde/Documents/USC/SEM3/DL/project/ws/404/404/lib/python3.7/site-packages/tensorflow/python/framework/dtypes.py:519: FutureWarning: Passing (type, 1) or '1type' as a synonym of type is deprecated; in a future version of numpy, it will be understood as (type, (1,)) / '(1,)type'.\n",
      "  _np_quint16 = np.dtype([(\"quint16\", np.uint16, 1)])\n",
      "/Users/vinutahegde/Documents/USC/SEM3/DL/project/ws/404/404/lib/python3.7/site-packages/tensorflow/python/framework/dtypes.py:520: FutureWarning: Passing (type, 1) or '1type' as a synonym of type is deprecated; in a future version of numpy, it will be understood as (type, (1,)) / '(1,)type'.\n",
      "  _np_qint32 = np.dtype([(\"qint32\", np.int32, 1)])\n",
      "/Users/vinutahegde/Documents/USC/SEM3/DL/project/ws/404/404/lib/python3.7/site-packages/tensorflow/python/framework/dtypes.py:525: FutureWarning: Passing (type, 1) or '1type' as a synonym of type is deprecated; in a future version of numpy, it will be understood as (type, (1,)) / '(1,)type'.\n",
      "  np_resource = np.dtype([(\"resource\", np.ubyte, 1)])\n",
      "/Users/vinutahegde/Documents/USC/SEM3/DL/project/ws/404/404/lib/python3.7/site-packages/tensorboard/compat/tensorflow_stub/dtypes.py:541: FutureWarning: Passing (type, 1) or '1type' as a synonym of type is deprecated; in a future version of numpy, it will be understood as (type, (1,)) / '(1,)type'.\n",
      "  _np_qint8 = np.dtype([(\"qint8\", np.int8, 1)])\n",
      "/Users/vinutahegde/Documents/USC/SEM3/DL/project/ws/404/404/lib/python3.7/site-packages/tensorboard/compat/tensorflow_stub/dtypes.py:542: FutureWarning: Passing (type, 1) or '1type' as a synonym of type is deprecated; in a future version of numpy, it will be understood as (type, (1,)) / '(1,)type'.\n",
      "  _np_quint8 = np.dtype([(\"quint8\", np.uint8, 1)])\n",
      "/Users/vinutahegde/Documents/USC/SEM3/DL/project/ws/404/404/lib/python3.7/site-packages/tensorboard/compat/tensorflow_stub/dtypes.py:543: FutureWarning: Passing (type, 1) or '1type' as a synonym of type is deprecated; in a future version of numpy, it will be understood as (type, (1,)) / '(1,)type'.\n",
      "  _np_qint16 = np.dtype([(\"qint16\", np.int16, 1)])\n",
      "/Users/vinutahegde/Documents/USC/SEM3/DL/project/ws/404/404/lib/python3.7/site-packages/tensorboard/compat/tensorflow_stub/dtypes.py:544: FutureWarning: Passing (type, 1) or '1type' as a synonym of type is deprecated; in a future version of numpy, it will be understood as (type, (1,)) / '(1,)type'.\n",
      "  _np_quint16 = np.dtype([(\"quint16\", np.uint16, 1)])\n",
      "/Users/vinutahegde/Documents/USC/SEM3/DL/project/ws/404/404/lib/python3.7/site-packages/tensorboard/compat/tensorflow_stub/dtypes.py:545: FutureWarning: Passing (type, 1) or '1type' as a synonym of type is deprecated; in a future version of numpy, it will be understood as (type, (1,)) / '(1,)type'.\n",
      "  _np_qint32 = np.dtype([(\"qint32\", np.int32, 1)])\n",
      "/Users/vinutahegde/Documents/USC/SEM3/DL/project/ws/404/404/lib/python3.7/site-packages/tensorboard/compat/tensorflow_stub/dtypes.py:550: FutureWarning: Passing (type, 1) or '1type' as a synonym of type is deprecated; in a future version of numpy, it will be understood as (type, (1,)) / '(1,)type'.\n",
      "  np_resource = np.dtype([(\"resource\", np.ubyte, 1)])\n"
     ]
    }
   ],
   "source": [
    "import numpy as np\n",
    "from numpy import array\n",
    "import pandas as pd\n",
    "import matplotlib.pyplot as plt #get_ipython().run_line_magic('matplotlib', 'inline')\n",
    "import string\n",
    "import os\n",
    "from PIL import Image\n",
    "import glob\n",
    "from pickle import dump, load\n",
    "from time import time\n",
    "from keras.preprocessing import sequence\n",
    "from keras.models import Sequential\n",
    "from keras.layers import LSTM, Embedding, TimeDistributed, Dense, RepeatVector,                         Activation, Flatten, Reshape, concatenate, Dropout, BatchNormalization, GRU\n",
    "from keras.optimizers import Adam, RMSprop\n",
    "from keras.layers.wrappers import Bidirectional\n",
    "from keras.layers.merge import add\n",
    "from keras.applications.inception_v3 import InceptionV3\n",
    "from keras.preprocessing import image\n",
    "from keras.models import Model\n",
    "from keras import Input, layers\n",
    "from keras import optimizers\n",
    "from keras.applications.inception_v3 import preprocess_input\n",
    "from keras.preprocessing.text import Tokenizer\n",
    "from keras.preprocessing.sequence import pad_sequences\n",
    "from keras.utils import to_categorical\n",
    "import json\n",
    "import csv\n",
    "\n",
    "from keras.optimizers import SGD\n",
    "from keras.optimizers import Adam\n",
    "from keras.callbacks import ModelCheckpoint\n"
   ]
  },
  {
   "cell_type": "code",
   "execution_count": 2,
   "metadata": {},
   "outputs": [],
   "source": [
    "ROOT_DIR = \"/Users/vinutahegde/Documents/USC/SEM3/DL/project/ws/\"\n",
    "IMAGE_EMBEDDING_DIR = ROOT_DIR#+\"imageGroupsOutput/\"\n",
    "IMAGE_EMBEDDING_VAL_DIR = ROOT_DIR\n",
    "GLOVE_EMBEDDING_FILE_NAME = ROOT_DIR+'glove.6B.300d.txt'\n",
    "TEST_IMAGE_DIR = ROOT_DIR + \"images/train/images/train/\"\n",
    "GLOVE_EMBEDDING_FILE_NAME = 'glove.6B.50d.txt'\n",
    "CAPTION_FILE_NAME = ROOT_DIR+'image_to_caption.csv'\n",
    "weight_filepath = ROOT_DIR+'weights/model-ep{epoch:03d}-loss{loss:.3f}.h5'\n",
    "\n",
    "SEED = 10\n",
    "NUM_IMAGE_EMBEDDING_CHUNKS = 1\n",
    "MAX_SEQUENCE_LENGTH = 12\n",
    "WORD_EMBEDDING_DIM = 50\n",
    "BATCH_SIZE = 32"
   ]
  },
  {
   "cell_type": "code",
   "execution_count": 3,
   "metadata": {},
   "outputs": [],
   "source": [
    "def getCaptions(id_list):\n",
    "    caption_dict = {}\n",
    "    with open(CAPTION_FILE_NAME) as csv_file:\n",
    "        csv_reader = csv.reader(csv_file, delimiter=',')\n",
    "        line_count = 0\n",
    "        for row in csv_reader:\n",
    "            if row[1] in id_list:\n",
    "                caption_dict[row[1]] = row[2]\n",
    "    return caption_dict"
   ]
  },
  {
   "cell_type": "code",
   "execution_count": 4,
   "metadata": {},
   "outputs": [],
   "source": [
    "def vocab_fun(captions):\n",
    "    index_to_word = {}\n",
    "    word_to_index = {}\n",
    "    all_words = {}\n",
    "    all_words['startseq'] = 1\n",
    "    all_words['endseq'] = 1\n",
    "    for img_id, cap in captions.items():\n",
    "        for word in cap.split():\n",
    "            all_words[word] = 1    \n",
    "    all_vocab=[w for w in all_words]\n",
    "    index = 1\n",
    "    for word in all_vocab:\n",
    "        word_to_index[word] = index\n",
    "        index_to_word[index] = word\n",
    "        index += 1\n",
    "    return (all_vocab, word_to_index, index_to_word)"
   ]
  },
  {
   "cell_type": "code",
   "execution_count": 5,
   "metadata": {},
   "outputs": [],
   "source": [
    "def Merge(dict1, dict2): \n",
    "    res = {**dict1, **dict2} \n",
    "    return res \n",
    "\n",
    "def getImageEmbedding(path):\n",
    "    image_embedding = {}\n",
    "    for i in range(NUM_IMAGE_EMBEDDING_CHUNKS):\n",
    "        file_name = path + 'cnn_group'+str(i+1)+'.json'\n",
    "        with open(file_name) as json_file:\n",
    "            json_data = json.load(json_file)\n",
    "            json_data = json.loads(json_data)\n",
    "            image_embedding = Merge(image_embedding, json_data) \n",
    "    print(len(image_embedding))\n",
    "    return image_embedding"
   ]
  },
  {
   "cell_type": "code",
   "execution_count": 6,
   "metadata": {},
   "outputs": [],
   "source": [
    "# def data_generator(descriptions, photos, wordtoix, vocab_size): #descriptions are captions\n",
    "#     X1, X2, y = list(), list(), list()\n",
    "    \n",
    "#     for key, desc in descriptions.items():\n",
    "            \n",
    "#         desc_in = \"startsqe\" + desc\n",
    "#         desc_out = desc+ \" endseq\"\n",
    "\n",
    "#         seq_in = [wordtoix[word] for word in desc_in.split() if word in wordtoix]\n",
    "#         seq_in = pad_sequences([seq_in], maxlen=MAX_SEQUENCE_LENGTH, padding='post', truncating='post')[0]\n",
    "#         print(seq_in)\n",
    "#         seq_out = [wordtoix[word] for word in desc_out.split() if word in wordtoix]\n",
    "#         seq_out = pad_sequences([seq_out], maxlen=MAX_SEQUENCE_LENGTH, padding='post', truncating='post')[0]\n",
    "\n",
    "#         if len(seq_out) > MAX_SEQUENCE_LENGTH:\n",
    "#             seq_out[-1]=wordtoix['endseq']\n",
    "#         print(seq_out)\n",
    "#         X1.append(photos[key])\n",
    "#         X2.append(seq_in)\n",
    "#         y.append(keras.utils.to_categorical(seq_out, num_classes=vocab_size))\n",
    "#     return (array(X1), array(X2), array(y))"
   ]
  },
  {
   "cell_type": "code",
   "execution_count": 36,
   "metadata": {},
   "outputs": [],
   "source": [
    "import numpy as np\n",
    "import keras\n",
    "\n",
    "class DataGenerator(keras.utils.Sequence):\n",
    "    'Generates data for Keras'\n",
    "    def __init__(self, list_IDs, image_embedding, captions, batch_size=32, num_caption=12, image_dim= 2048, shuffle=True, vocab_size = 5000):\n",
    "        'Initialization'\n",
    "        self.image_dim = image_dim\n",
    "        self.num_caption = num_caption\n",
    "        self.batch_size = batch_size\n",
    "        self.list_IDs = list_IDs\n",
    "        self.shuffle = shuffle\n",
    "        self.image_embedding = image_embedding\n",
    "        self.captions = captions\n",
    "        self.vocab_size = vocab_size\n",
    "        self.on_epoch_end()\n",
    "\n",
    "    def someFunction(self,list_IDs_temp):\n",
    "        return self.__data_generation(list_IDs_temp)\n",
    "    \n",
    "    def __len__(self):\n",
    "        'Denotes the number of batches per epoch'\n",
    "        return int(np.floor(len(self.list_IDs) / self.batch_size))\n",
    "\n",
    "    def __getitem__(self, index):\n",
    "        'Generate one batch of data'\n",
    "        # Generate indexes of the batch\n",
    "        indexes = self.indexes[index*self.batch_size:(index+1)*self.batch_size]\n",
    "\n",
    "        # Find list of IDs\n",
    "        list_IDs_temp = [self.list_IDs[k] for k in indexes]\n",
    "#         print(list_IDs_temp)\n",
    "        # Generate data\n",
    "        X1,X2, y = self.__data_generation(list_IDs_temp)\n",
    "        return [X1,X2], y\n",
    "\n",
    "    def on_epoch_end(self):\n",
    "        'Updates indexes after each epoch'\n",
    "        self.indexes = np.arange(len(self.list_IDs))\n",
    "        if self.shuffle == True:\n",
    "            np.random.shuffle(self.indexes)\n",
    "\n",
    "    def __data_generation(self, list_IDs_temp):\n",
    "        'Generates data containing batch_size samples' # X : (n_samples, *dim, n_channels)\n",
    "        # Initialization\n",
    "#         print(\"Insider data generation\")\n",
    "#         print(list_IDs_temp)\n",
    "        X1 = np.empty((self.batch_size, self.image_dim))\n",
    "        X2 = np.empty((self.batch_size, self.num_caption))\n",
    "        Y = np.empty((self.batch_size, self.num_caption))\n",
    "\n",
    "        for i, ID in enumerate(list_IDs_temp):\n",
    "#             print(ID)\n",
    "            X1[i,] = self.image_embedding[ID]\n",
    "\n",
    "            desc = self.captions[ID]\n",
    "\n",
    "            desc_in = \"startseq \" + desc\n",
    "            seq_in = [wordtoix[word] for word in desc_in.split() if word in wordtoix]\n",
    "            seq_in = pad_sequences([seq_in], maxlen=MAX_SEQUENCE_LENGTH, padding='post', truncating='post')[0]\n",
    "            X2[i,] = seq_in\n",
    "\n",
    "            desc_out = desc+ \" endseq\"\n",
    "            seq_out = [wordtoix[word] for word in desc_out.split() if word in wordtoix]\n",
    "            seq_out = pad_sequences([seq_out], maxlen=MAX_SEQUENCE_LENGTH, padding='post', truncating='post')[0]\n",
    "\n",
    "            if len(seq_out) >= MAX_SEQUENCE_LENGTH:\n",
    "                seq_out[-1]=wordtoix['endseq']\n",
    "\n",
    "            Y[i] = seq_out\n",
    "#             print(seq_in)\n",
    "#             print(seq_out)\n",
    "\n",
    "        return X1, X2, keras.utils.to_categorical(Y, num_classes=self.vocab_size)"
   ]
  },
  {
   "cell_type": "code",
   "execution_count": 37,
   "metadata": {},
   "outputs": [
    {
     "name": "stdout",
     "output_type": "stream",
     "text": [
      "Found 400000 word vectors.\n"
     ]
    }
   ],
   "source": [
    "embeddings_index = {} \n",
    "f = open(GLOVE_EMBEDDING_FILE_NAME, encoding=\"utf-8\")\n",
    "\n",
    "for line in f:\n",
    "    values = line.split()\n",
    "    word = values[0]\n",
    "    coefs = np.asarray(values[1:], dtype='float32')\n",
    "    embeddings_index[word] = coefs\n",
    "f.close()\n",
    "print('Found %s word vectors.' % len(embeddings_index))"
   ]
  },
  {
   "cell_type": "code",
   "execution_count": 38,
   "metadata": {},
   "outputs": [
    {
     "name": "stdout",
     "output_type": "stream",
     "text": [
      "5803\n",
      "5803\n"
     ]
    }
   ],
   "source": [
    "image_embeddings =  getImageEmbedding(IMAGE_EMBEDDING_DIR)\n",
    "\n",
    "print(len(image_embeddings))\n",
    "image_ids = list(image_embeddings.keys())\n",
    "\n",
    "caption_map = getCaptions(image_ids)\n",
    "all_vocab, wordtoix, ixtoword=vocab_fun(caption_map)\n",
    "vocab_size =  len(all_vocab)+1\n",
    "partition = {}\n",
    "partition['train'] = image_ids[:int((len(image_ids)+1)*.90)] #Remaining 90% to training set\n",
    "partition['validation'] = image_ids[int(len(image_ids)*.90+1):] #Splits 10% data to test setgetCaptions(image_ids)\n",
    "\n",
    "params = {'num_caption': MAX_SEQUENCE_LENGTH,\n",
    "          'image_dim' : 2048,\n",
    "          'batch_size': BATCH_SIZE,\n",
    "          'shuffle': True,\n",
    "          'vocab_size':vocab_size }\n",
    "\n",
    "\n"
   ]
  },
  {
   "cell_type": "code",
   "execution_count": 39,
   "metadata": {},
   "outputs": [
    {
     "name": "stdout",
     "output_type": "stream",
     "text": [
      "(32, 2048)\n",
      "(32, 12)\n",
      "(32, 12, 5606)\n"
     ]
    }
   ],
   "source": [
    "\n",
    "training_generator = DataGenerator(partition['train'], image_embeddings, caption_map , **params)\n",
    "validation_generator = DataGenerator(partition['validation'], image_embeddings, caption_map, **params)\n",
    "\n",
    "x =image_ids[:32]\n",
    "# print(x)\n",
    "train_X1, train_X2, train_Y = training_generator.someFunction(x)\n",
    "print(train_X1.shape)\n",
    "print(train_X2.shape)\n",
    "print(train_Y.shape)"
   ]
  },
  {
   "cell_type": "code",
   "execution_count": 40,
   "metadata": {},
   "outputs": [
    {
     "name": "stdout",
     "output_type": "stream",
     "text": [
      "Vocabulary Size: 5606\n"
     ]
    }
   ],
   "source": [
    "vocab_size = len(all_vocab)+1\n",
    "print('Vocabulary Size: %d' % vocab_size)"
   ]
  },
  {
   "cell_type": "code",
   "execution_count": 41,
   "metadata": {},
   "outputs": [],
   "source": [
    "embedding_matrix = np.zeros((vocab_size, WORD_EMBEDDING_DIM))\n",
    "for word, i in wordtoix.items():\n",
    "    embedding_vector = embeddings_index.get(word)\n",
    "    if embedding_vector is not None:\n",
    "        embedding_matrix[i] = embedding_vector"
   ]
  },
  {
   "cell_type": "code",
   "execution_count": 42,
   "metadata": {},
   "outputs": [],
   "source": [
    "def build_model():\n",
    "  inputs1 = Input(shape=(2048,),name='images')\n",
    "  fe1 = Dropout(0.5)(inputs1)\n",
    "  fe2 = Dense(128, activation='relu')(fe1)\n",
    "  inputs2 = Input(shape=(MAX_SEQUENCE_LENGTH,),name='sequences')\n",
    "  se1 = Embedding(vocab_size, WORD_EMBEDDING_DIM, mask_zero=True, weights=[embedding_matrix], trainable=False)(inputs2)\n",
    "  se2 = Dropout(0.5)(se1)\n",
    "  se3 = GRU(128, return_sequences=True)(se2, initial_state=fe2)\n",
    "#   decoder1 = add([fe2, se3])\n",
    "  decoder2 = Dense( 128, activation=None)(se3)#decoder1\n",
    "  outputs = Dense(vocab_size, activation='softmax')(decoder2)\n",
    "#   outputs = Dense(vocab_size, activation='linear')(decoder2)\n",
    "  model = Model(inputs=[inputs1, inputs2], outputs=outputs)\n",
    "  return model"
   ]
  },
  {
   "cell_type": "code",
   "execution_count": 43,
   "metadata": {},
   "outputs": [
    {
     "name": "stdout",
     "output_type": "stream",
     "text": [
      "Model: \"model_4\"\n",
      "__________________________________________________________________________________________________\n",
      "Layer (type)                    Output Shape         Param #     Connected to                     \n",
      "==================================================================================================\n",
      "sequences (InputLayer)          (None, 12)           0                                            \n",
      "__________________________________________________________________________________________________\n",
      "images (InputLayer)             (None, 2048)         0                                            \n",
      "__________________________________________________________________________________________________\n",
      "embedding_4 (Embedding)         (None, 12, 50)       280300      sequences[0][0]                  \n",
      "__________________________________________________________________________________________________\n",
      "dropout_7 (Dropout)             (None, 2048)         0           images[0][0]                     \n",
      "__________________________________________________________________________________________________\n",
      "dropout_8 (Dropout)             (None, 12, 50)       0           embedding_4[0][0]                \n",
      "__________________________________________________________________________________________________\n",
      "dense_10 (Dense)                (None, 128)          262272      dropout_7[0][0]                  \n",
      "__________________________________________________________________________________________________\n",
      "gru_4 (GRU)                     (None, 12, 128)      68736       dropout_8[0][0]                  \n",
      "                                                                 dense_10[0][0]                   \n",
      "__________________________________________________________________________________________________\n",
      "dense_11 (Dense)                (None, 12, 128)      16512       gru_4[0][0]                      \n",
      "__________________________________________________________________________________________________\n",
      "dense_12 (Dense)                (None, 12, 5606)     723174      dense_11[0][0]                   \n",
      "==================================================================================================\n",
      "Total params: 1,350,994\n",
      "Trainable params: 1,070,694\n",
      "Non-trainable params: 280,300\n",
      "__________________________________________________________________________________________________\n"
     ]
    }
   ],
   "source": [
    "model=build_model()\n",
    "model.summary()\n",
    "optz = optimizers.adam(lr = 0.001, beta_1 = 0.9, beta_2 = 0.999, clipnorm = 1.0, clipvalue = 0.5)\n",
    "# decoder_target = tf.placeholder(dtype='int32', shape=(None,None))\n",
    "# model.compile(loss=sparse_cross_entropy, optimizer='adam', target_tensors=[decoder_target])#'adam')\n",
    "model.compile(loss='categorical_crossentropy', optimizer=optz)"
   ]
  },
  {
   "cell_type": "code",
   "execution_count": 44,
   "metadata": {
    "scrolled": false
   },
   "outputs": [
    {
     "name": "stdout",
     "output_type": "stream",
     "text": [
      "Epoch 1/1\n",
      "163/163 [==============================] - 14s 88ms/step - loss: 5.1322 - val_loss: 5.1151\n"
     ]
    }
   ],
   "source": [
    "# X1train, X2train, ytrain = data_generator(caption_map, image_embd, wordtoix, vocab_size) #(descriptions, photos, wordtoix, num_photos_per_batch)\n",
    "# print(X1train.shape)\n",
    "# print(X2train.shape)\n",
    "# print(ytrain.shape)\n",
    "# filepath_checkpoint = weight_filepath\n",
    "# checkpoint = ModelCheckpoint(filepath_checkpoint, monitor='val_loss', verbose=1, save_best_only=False, mode='min')\n",
    "# history = model.fit([X1train, X2train], ytrain, epochs=5, verbose=1, batch_size=64, callbacks=[checkpoint], validation_split=0.1, shuffle=True, workers=10, use_multiprocessing=True)\n",
    "# model.save('fit_adam_50d_1_split_finale.h5')\n",
    "\n",
    "training_generator = DataGenerator(partition['train'], image_embeddings, caption_map , **params)\n",
    "validation_generator = DataGenerator(partition['validation'], image_embeddings, caption_map, **params)\n",
    "\n",
    "history =filepath_checkpoint = weight_filepath\n",
    "checkpoint = ModelCheckpoint(filepath_checkpoint, monitor='val_loss', verbose=1, save_best_only=False, mode='min')\n",
    "history = model.fit(training_generator,validation_data=validation_generator,verbose=1)"
   ]
  },
  {
   "cell_type": "code",
   "execution_count": 45,
   "metadata": {},
   "outputs": [
    {
     "name": "stdout",
     "output_type": "stream",
     "text": [
      "dict_keys(['val_loss', 'loss'])\n"
     ]
    },
    {
     "data": {
      "image/png": "[encoded data removed]",
      "text/plain": [
       "<Figure size 432x288 with 1 Axes>"
      ]
     },
     "metadata": {
      "needs_background": "light"
     },
     "output_type": "display_data"
    },
    {
     "data": {
      "text/plain": [
       "<Figure size 432x288 with 0 Axes>"
      ]
     },
     "metadata": {},
     "output_type": "display_data"
    }
   ],
   "source": [
    "import matplotlib.pyplot as plt\n",
    "print(history.history.keys())\n",
    "plt.plot(history.history['loss'])\n",
    "plt.plot(history.history['val_loss'])\n",
    "plt.title('model loss')\n",
    "plt.ylabel('loss')\n",
    "plt.xlabel('epoch')\n",
    "plt.legend(['train'], loc='upper left')\n",
    "plt.show()\n",
    "plt.savefig('both_clip_and_norm_no_relu_1.png')"
   ]
  },
  {
   "cell_type": "code",
   "execution_count": 48,
   "metadata": {
    "scrolled": true
   },
   "outputs": [
    {
     "name": "stdout",
     "output_type": "stream",
     "text": [
      "Epoch 1/50\n",
      "163/163 [==============================] - 13s 80ms/step - loss: 4.3321 - val_loss: 3.9675\n",
      "Epoch 2/50\n",
      "163/163 [==============================] - 13s 80ms/step - loss: 4.2049 - val_loss: 4.4917\n",
      "Epoch 3/50\n",
      "163/163 [==============================] - 13s 82ms/step - loss: 4.1103 - val_loss: 4.7452\n",
      "Epoch 4/50\n",
      "163/163 [==============================] - 13s 81ms/step - loss: 4.0324 - val_loss: 4.4674\n",
      "Epoch 5/50\n",
      "163/163 [==============================] - 13s 82ms/step - loss: 3.9685 - val_loss: 3.5470\n",
      "Epoch 6/50\n",
      "163/163 [==============================] - 14s 85ms/step - loss: 3.9041 - val_loss: 4.4504\n",
      "Epoch 7/50\n",
      "163/163 [==============================] - 13s 83ms/step - loss: 3.8526 - val_loss: 4.6742\n",
      "Epoch 8/50\n",
      "163/163 [==============================] - 13s 82ms/step - loss: 3.8030 - val_loss: 4.8858\n",
      "Epoch 9/50\n",
      "163/163 [==============================] - 13s 83ms/step - loss: 3.7520 - val_loss: 4.1033\n",
      "Epoch 10/50\n",
      "163/163 [==============================] - 13s 83ms/step - loss: 3.7105 - val_loss: 4.3067\n",
      "Epoch 11/50\n",
      "163/163 [==============================] - 14s 83ms/step - loss: 3.6613 - val_loss: 4.5624\n",
      "Epoch 12/50\n",
      "163/163 [==============================] - 14s 86ms/step - loss: 3.6182 - val_loss: 4.3146\n",
      "Epoch 13/50\n",
      "163/163 [==============================] - 14s 84ms/step - loss: 3.5839 - val_loss: 3.8958\n",
      "Epoch 14/50\n",
      "163/163 [==============================] - 14s 85ms/step - loss: 3.5380 - val_loss: 4.7967\n",
      "Epoch 15/50\n",
      "163/163 [==============================] - 14s 85ms/step - loss: 3.4975 - val_loss: 4.2564\n",
      "Epoch 16/50\n",
      "163/163 [==============================] - 14s 85ms/step - loss: 3.4607 - val_loss: 4.3470\n",
      "Epoch 17/50\n",
      "163/163 [==============================] - 14s 86ms/step - loss: 3.4349 - val_loss: 4.4352\n",
      "Epoch 18/50\n",
      "163/163 [==============================] - 14s 86ms/step - loss: 3.3986 - val_loss: 4.7588\n",
      "Epoch 19/50\n",
      "163/163 [==============================] - 14s 86ms/step - loss: 3.3690 - val_loss: 4.3920\n",
      "Epoch 20/50\n",
      "163/163 [==============================] - 14s 87ms/step - loss: 3.3466 - val_loss: 4.7956\n",
      "Epoch 21/50\n",
      "163/163 [==============================] - 14s 86ms/step - loss: 3.3145 - val_loss: 4.9175\n",
      "Epoch 22/50\n",
      "163/163 [==============================] - 14s 86ms/step - loss: 3.2861 - val_loss: 3.9408\n",
      "Epoch 23/50\n",
      "163/163 [==============================] - 14s 85ms/step - loss: 3.2591 - val_loss: 4.8525\n",
      "Epoch 24/50\n",
      "163/163 [==============================] - 14s 87ms/step - loss: 3.2370 - val_loss: 5.0269\n",
      "Epoch 25/50\n",
      "163/163 [==============================] - 14s 86ms/step - loss: 3.2094 - val_loss: 4.9218\n",
      "Epoch 26/50\n",
      "163/163 [==============================] - 14s 86ms/step - loss: 3.1932 - val_loss: 4.7200\n",
      "Epoch 27/50\n",
      "163/163 [==============================] - 14s 86ms/step - loss: 3.1675 - val_loss: 4.6432\n",
      "Epoch 28/50\n",
      "163/163 [==============================] - 14s 86ms/step - loss: 3.1461 - val_loss: 4.6344\n",
      "Epoch 29/50\n",
      "163/163 [==============================] - 14s 86ms/step - loss: 3.1304 - val_loss: 4.6042\n",
      "Epoch 30/50\n",
      "163/163 [==============================] - 14s 86ms/step - loss: 3.1079 - val_loss: 5.1531\n",
      "Epoch 31/50\n",
      "163/163 [==============================] - 14s 84ms/step - loss: 3.0880 - val_loss: 4.4644\n",
      "Epoch 32/50\n",
      "163/163 [==============================] - 14s 84ms/step - loss: 3.0736 - val_loss: 4.4252\n",
      "Epoch 33/50\n",
      "163/163 [==============================] - 14s 85ms/step - loss: 3.0472 - val_loss: 4.6155\n",
      "Epoch 34/50\n",
      "163/163 [==============================] - 14s 85ms/step - loss: 3.0337 - val_loss: 4.3713\n",
      "Epoch 35/50\n",
      "163/163 [==============================] - 14s 85ms/step - loss: 3.0191 - val_loss: 4.7610\n",
      "Epoch 36/50\n",
      "163/163 [==============================] - 14s 85ms/step - loss: 3.0063 - val_loss: 4.5967\n",
      "Epoch 37/50\n",
      "163/163 [==============================] - 14s 86ms/step - loss: 2.9868 - val_loss: 4.3919\n",
      "Epoch 38/50\n",
      "163/163 [==============================] - 14s 86ms/step - loss: 2.9801 - val_loss: 4.9996\n",
      "Epoch 39/50\n",
      "163/163 [==============================] - 14s 86ms/step - loss: 2.9681 - val_loss: 4.8528\n",
      "Epoch 40/50\n",
      "163/163 [==============================] - 15s 95ms/step - loss: 2.9467 - val_loss: 4.6644\n",
      "Epoch 41/50\n",
      "163/163 [==============================] - 13s 82ms/step - loss: 2.9357 - val_loss: 5.3413\n",
      "Epoch 42/50\n",
      "163/163 [==============================] - 13s 83ms/step - loss: 2.9216 - val_loss: 4.8971\n",
      "Epoch 43/50\n",
      "163/163 [==============================] - 14s 89ms/step - loss: 2.9065 - val_loss: 4.4529\n",
      "Epoch 44/50\n",
      "163/163 [==============================] - 14s 87ms/step - loss: 2.8891 - val_loss: 4.7439\n",
      "Epoch 45/50\n",
      "163/163 [==============================] - 14s 85ms/step - loss: 2.8820 - val_loss: 4.3695\n",
      "Epoch 46/50\n",
      "163/163 [==============================] - 14s 88ms/step - loss: 2.8665 - val_loss: 4.6484\n",
      "Epoch 47/50\n",
      "163/163 [==============================] - 14s 89ms/step - loss: 2.8581 - val_loss: 4.9888\n",
      "Epoch 48/50\n",
      "163/163 [==============================] - 14s 86ms/step - loss: 2.8466 - val_loss: 4.2102\n",
      "Epoch 49/50\n",
      "163/163 [==============================] - 14s 86ms/step - loss: 2.8444 - val_loss: 5.0409\n",
      "Epoch 50/50\n",
      "163/163 [==============================] - 14s 87ms/step - loss: 2.8332 - val_loss: 4.2521\n"
     ]
    }
   ],
   "source": [
    "# history = model.fit([X1train, X2train], ytrain, epochs=50, verbose=1, batch_size=64, callbacks=[checkpoint], validation_split=0.1, shuffle=True, workers=10, use_multiprocessing=True)\n",
    "# model.save('fit_adam_50d_2_split_finale.h5')\n",
    "history = model.fit(training_generator,validation_data=validation_generator,verbose=1,epochs=50)"
   ]
  },
  {
   "cell_type": "code",
   "execution_count": 49,
   "metadata": {},
   "outputs": [
    {
     "data": {
      "image/png": "[encoded data removed]",
      "text/plain": [
       "<Figure size 432x288 with 1 Axes>"
      ]
     },
     "metadata": {
      "needs_background": "light"
     },
     "output_type": "display_data"
    },
    {
     "data": {
      "text/plain": [
       "<Figure size 432x288 with 0 Axes>"
      ]
     },
     "metadata": {},
     "output_type": "display_data"
    }
   ],
   "source": [
    "plt.plot(history.history['loss'])\n",
    "plt.plot(history.history['val_loss'])\n",
    "plt.title('model loss')\n",
    "plt.ylabel('loss')\n",
    "plt.xlabel('epoch')\n",
    "plt.legend(['train'], loc='upper left')\n",
    "plt.show()\n",
    "plt.savefig('both_clip_and_norm_no_relu_1.png')"
   ]
  },
  {
   "cell_type": "code",
   "execution_count": 64,
   "metadata": {
    "scrolled": true
   },
   "outputs": [
    {
     "name": "stdout",
     "output_type": "stream",
     "text": [
      "Epoch 1/100\n",
      "163/163 [==============================] - 13s 82ms/step - loss: 2.8154 - val_loss: 4.0600\n",
      "Epoch 2/100\n",
      "163/163 [==============================] - 14s 86ms/step - loss: 2.8082 - val_loss: 4.7770\n",
      "Epoch 3/100\n",
      "163/163 [==============================] - 14s 89ms/step - loss: 2.7977 - val_loss: 4.2698\n",
      "Epoch 4/100\n",
      "163/163 [==============================] - 16s 95ms/step - loss: 2.7843 - val_loss: 4.1124\n",
      "Epoch 5/100\n",
      "163/163 [==============================] - 14s 86ms/step - loss: 2.7799 - val_loss: 5.0653\n",
      "Epoch 6/100\n",
      "163/163 [==============================] - 14s 85ms/step - loss: 2.7664 - val_loss: 4.5158\n",
      "Epoch 7/100\n",
      "163/163 [==============================] - 15s 91ms/step - loss: 2.7587 - val_loss: 4.8321\n",
      "Epoch 8/100\n",
      "163/163 [==============================] - 14s 85ms/step - loss: 2.7438 - val_loss: 5.1271\n",
      "Epoch 9/100\n",
      "163/163 [==============================] - 14s 84ms/step - loss: 2.7440 - val_loss: 4.7624\n",
      "Epoch 10/100\n",
      "163/163 [==============================] - 14s 84ms/step - loss: 2.7353 - val_loss: 4.5701\n",
      "Epoch 11/100\n",
      "163/163 [==============================] - 14s 84ms/step - loss: 2.7300 - val_loss: 5.4295\n",
      "Epoch 12/100\n",
      "163/163 [==============================] - 14s 84ms/step - loss: 2.7101 - val_loss: 4.1475\n",
      "Epoch 13/100\n",
      "163/163 [==============================] - 14s 84ms/step - loss: 2.7027 - val_loss: 4.6632\n",
      "Epoch 14/100\n",
      "163/163 [==============================] - 14s 85ms/step - loss: 2.6984 - val_loss: 4.8316\n",
      "Epoch 15/100\n",
      "163/163 [==============================] - 14s 86ms/step - loss: 2.6910 - val_loss: 5.1823\n",
      "Epoch 16/100\n",
      "163/163 [==============================] - 14s 85ms/step - loss: 2.6823 - val_loss: 4.5236\n",
      "Epoch 17/100\n",
      "163/163 [==============================] - 14s 85ms/step - loss: 2.6706 - val_loss: 4.2277\n",
      "Epoch 18/100\n",
      "163/163 [==============================] - 14s 86ms/step - loss: 2.6649 - val_loss: 4.9094\n",
      "Epoch 19/100\n",
      "163/163 [==============================] - 14s 86ms/step - loss: 2.6613 - val_loss: 4.5377\n",
      "Epoch 20/100\n",
      "163/163 [==============================] - 14s 85ms/step - loss: 2.6478 - val_loss: 4.7159\n",
      "Epoch 21/100\n",
      "163/163 [==============================] - 14s 86ms/step - loss: 2.6477 - val_loss: 4.5100\n",
      "Epoch 22/100\n",
      "163/163 [==============================] - 14s 86ms/step - loss: 2.6384 - val_loss: 4.9631\n",
      "Epoch 23/100\n",
      "163/163 [==============================] - 14s 86ms/step - loss: 2.6385 - val_loss: 4.8585\n",
      "Epoch 24/100\n",
      "163/163 [==============================] - 16s 99ms/step - loss: 2.6244 - val_loss: 4.5581\n",
      "Epoch 25/100\n",
      "163/163 [==============================] - 16s 98ms/step - loss: 2.6147 - val_loss: 4.9806\n",
      "Epoch 26/100\n",
      "163/163 [==============================] - 14s 89ms/step - loss: 2.6107 - val_loss: 4.8556\n",
      "Epoch 27/100\n",
      "163/163 [==============================] - 14s 86ms/step - loss: 2.6013 - val_loss: 4.5053\n",
      "Epoch 28/100\n",
      "163/163 [==============================] - 14s 88ms/step - loss: 2.5989 - val_loss: 4.7898\n",
      "Epoch 29/100\n",
      "163/163 [==============================] - 14s 87ms/step - loss: 2.5910 - val_loss: 4.6239\n",
      "Epoch 30/100\n",
      "163/163 [==============================] - 14s 87ms/step - loss: 2.5840 - val_loss: 4.8458\n",
      "Epoch 31/100\n",
      "163/163 [==============================] - 14s 87ms/step - loss: 2.5822 - val_loss: 4.6054\n",
      "Epoch 32/100\n",
      "163/163 [==============================] - 14s 88ms/step - loss: 2.5708 - val_loss: 4.9387\n",
      "Epoch 33/100\n",
      "163/163 [==============================] - 14s 88ms/step - loss: 2.5664 - val_loss: 5.0892\n",
      "Epoch 34/100\n",
      "163/163 [==============================] - 14s 87ms/step - loss: 2.5692 - val_loss: 5.1570\n",
      "Epoch 35/100\n",
      "163/163 [==============================] - 14s 88ms/step - loss: 2.5606 - val_loss: 4.2628\n",
      "Epoch 36/100\n",
      "163/163 [==============================] - 14s 87ms/step - loss: 2.5499 - val_loss: 4.8816\n",
      "Epoch 37/100\n",
      "163/163 [==============================] - 14s 87ms/step - loss: 2.5517 - val_loss: 4.3655\n",
      "Epoch 38/100\n",
      "163/163 [==============================] - 14s 87ms/step - loss: 2.5378 - val_loss: 4.7529\n",
      "Epoch 39/100\n",
      "163/163 [==============================] - 14s 87ms/step - loss: 2.5289 - val_loss: 5.1197\n",
      "Epoch 40/100\n",
      "163/163 [==============================] - 14s 88ms/step - loss: 2.5300 - val_loss: 5.0931\n",
      "Epoch 41/100\n",
      "163/163 [==============================] - 14s 88ms/step - loss: 2.5224 - val_loss: 5.1852\n",
      "Epoch 42/100\n",
      "163/163 [==============================] - 14s 88ms/step - loss: 2.5155 - val_loss: 4.6208\n",
      "Epoch 43/100\n",
      "163/163 [==============================] - 14s 87ms/step - loss: 2.5120 - val_loss: 4.7221\n",
      "Epoch 44/100\n",
      "163/163 [==============================] - 14s 88ms/step - loss: 2.5046 - val_loss: 4.6411\n",
      "Epoch 45/100\n",
      "163/163 [==============================] - 14s 88ms/step - loss: 2.4988 - val_loss: 4.9413\n",
      "Epoch 46/100\n",
      "163/163 [==============================] - 15s 89ms/step - loss: 2.4953 - val_loss: 5.0574\n",
      "Epoch 47/100\n",
      "163/163 [==============================] - 14s 88ms/step - loss: 2.4947 - val_loss: 5.4650\n",
      "Epoch 48/100\n",
      "163/163 [==============================] - 14s 88ms/step - loss: 2.4874 - val_loss: 5.0607\n",
      "Epoch 49/100\n",
      "163/163 [==============================] - 15s 89ms/step - loss: 2.4794 - val_loss: 4.7883\n",
      "Epoch 50/100\n",
      "163/163 [==============================] - 14s 88ms/step - loss: 2.4762 - val_loss: 5.0462\n",
      "Epoch 51/100\n",
      "163/163 [==============================] - 14s 87ms/step - loss: 2.4721 - val_loss: 4.8990\n",
      "Epoch 52/100\n",
      "163/163 [==============================] - 15s 90ms/step - loss: 2.4696 - val_loss: 4.7867\n",
      "Epoch 53/100\n",
      "163/163 [==============================] - 15s 94ms/step - loss: 2.4683 - val_loss: 4.9100\n",
      "Epoch 54/100\n",
      "163/163 [==============================] - 14s 86ms/step - loss: 2.4577 - val_loss: 5.3128\n",
      "Epoch 55/100\n",
      "163/163 [==============================] - 14s 87ms/step - loss: 2.4490 - val_loss: 4.7626\n",
      "Epoch 56/100\n",
      "163/163 [==============================] - 14s 87ms/step - loss: 2.4505 - val_loss: 4.8512\n",
      "Epoch 57/100\n",
      "163/163 [==============================] - 15s 89ms/step - loss: 2.4477 - val_loss: 5.4046\n",
      "Epoch 58/100\n",
      "163/163 [==============================] - 14s 88ms/step - loss: 2.4465 - val_loss: 5.0581\n",
      "Epoch 59/100\n",
      "163/163 [==============================] - 14s 88ms/step - loss: 2.4296 - val_loss: 4.9886\n",
      "Epoch 60/100\n",
      "163/163 [==============================] - 14s 88ms/step - loss: 2.4374 - val_loss: 5.1456\n",
      "Epoch 61/100\n",
      "163/163 [==============================] - 14s 89ms/step - loss: 2.4338 - val_loss: 5.0621\n",
      "Epoch 62/100\n",
      "163/163 [==============================] - 15s 89ms/step - loss: 2.4246 - val_loss: 4.8675\n",
      "Epoch 63/100\n",
      "163/163 [==============================] - 15s 89ms/step - loss: 2.4195 - val_loss: 5.0188\n",
      "Epoch 64/100\n",
      "163/163 [==============================] - 15s 89ms/step - loss: 2.4172 - val_loss: 5.4971\n",
      "Epoch 65/100\n",
      "163/163 [==============================] - 15s 90ms/step - loss: 2.4159 - val_loss: 4.7631\n",
      "Epoch 66/100\n",
      "163/163 [==============================] - 15s 90ms/step - loss: 2.4096 - val_loss: 4.6666\n",
      "Epoch 67/100\n",
      "163/163 [==============================] - 15s 91ms/step - loss: 2.4016 - val_loss: 5.3831\n",
      "Epoch 68/100\n",
      "163/163 [==============================] - 15s 90ms/step - loss: 2.4090 - val_loss: 5.0508\n",
      "Epoch 69/100\n",
      "163/163 [==============================] - 15s 92ms/step - loss: 2.3986 - val_loss: 5.1717\n",
      "Epoch 70/100\n",
      "163/163 [==============================] - 15s 90ms/step - loss: 2.3939 - val_loss: 4.9115\n",
      "Epoch 71/100\n",
      "163/163 [==============================] - 15s 90ms/step - loss: 2.3837 - val_loss: 5.0249\n",
      "Epoch 72/100\n",
      "163/163 [==============================] - 15s 90ms/step - loss: 2.3849 - val_loss: 4.8812\n",
      "Epoch 73/100\n",
      "163/163 [==============================] - 15s 91ms/step - loss: 2.3781 - val_loss: 5.2261\n",
      "Epoch 74/100\n",
      "163/163 [==============================] - 15s 89ms/step - loss: 2.3750 - val_loss: 5.2782\n",
      "Epoch 75/100\n",
      "163/163 [==============================] - 15s 89ms/step - loss: 2.3771 - val_loss: 5.0610\n",
      "Epoch 76/100\n",
      "163/163 [==============================] - 14s 87ms/step - loss: 2.3671 - val_loss: 4.9112\n",
      "Epoch 77/100\n",
      "163/163 [==============================] - 14s 87ms/step - loss: 2.3675 - val_loss: 5.2620\n",
      "Epoch 78/100\n",
      "163/163 [==============================] - 14s 87ms/step - loss: 2.3630 - val_loss: 5.1102\n",
      "Epoch 79/100\n",
      "163/163 [==============================] - 14s 87ms/step - loss: 2.3638 - val_loss: 5.2892\n"
     ]
    },
    {
     "name": "stdout",
     "output_type": "stream",
     "text": [
      "Epoch 80/100\n",
      "163/163 [==============================] - 14s 83ms/step - loss: 2.3605 - val_loss: 5.2936\n",
      "Epoch 81/100\n",
      "163/163 [==============================] - 14s 83ms/step - loss: 2.3562 - val_loss: 5.5639\n",
      "Epoch 82/100\n",
      "163/163 [==============================] - 14s 84ms/step - loss: 2.3515 - val_loss: 5.0903\n",
      "Epoch 83/100\n",
      "163/163 [==============================] - 14s 84ms/step - loss: 2.3494 - val_loss: 5.1000\n",
      "Epoch 84/100\n",
      "163/163 [==============================] - 14s 84ms/step - loss: 2.3433 - val_loss: 5.2777\n",
      "Epoch 85/100\n",
      "163/163 [==============================] - 14s 85ms/step - loss: 2.3398 - val_loss: 4.7956\n",
      "Epoch 86/100\n",
      "163/163 [==============================] - 14s 85ms/step - loss: 2.3403 - val_loss: 5.7079\n",
      "Epoch 87/100\n",
      "163/163 [==============================] - 14s 85ms/step - loss: 2.3347 - val_loss: 4.7960\n",
      "Epoch 88/100\n",
      "163/163 [==============================] - 14s 86ms/step - loss: 2.3376 - val_loss: 5.2094\n",
      "Epoch 89/100\n",
      "163/163 [==============================] - 14s 87ms/step - loss: 2.3340 - val_loss: 4.7604\n",
      "Epoch 90/100\n",
      "163/163 [==============================] - 14s 85ms/step - loss: 2.3197 - val_loss: 4.9742\n",
      "Epoch 91/100\n",
      "163/163 [==============================] - 14s 87ms/step - loss: 2.3234 - val_loss: 4.9292\n",
      "Epoch 92/100\n",
      "163/163 [==============================] - 15s 92ms/step - loss: 2.3182 - val_loss: 5.3498\n",
      "Epoch 93/100\n",
      "163/163 [==============================] - 16s 98ms/step - loss: 2.3205 - val_loss: 4.5683\n",
      "Epoch 94/100\n",
      "163/163 [==============================] - 14s 89ms/step - loss: 2.3167 - val_loss: 5.0328\n",
      "Epoch 95/100\n",
      "163/163 [==============================] - 14s 88ms/step - loss: 2.3108 - val_loss: 4.8369\n",
      "Epoch 96/100\n",
      "163/163 [==============================] - 14s 87ms/step - loss: 2.3122 - val_loss: 4.7964\n",
      "Epoch 97/100\n",
      "163/163 [==============================] - 14s 87ms/step - loss: 2.3085 - val_loss: 5.2227\n",
      "Epoch 98/100\n",
      "163/163 [==============================] - 15s 92ms/step - loss: 2.3054 - val_loss: 5.0412\n",
      "Epoch 99/100\n",
      "163/163 [==============================] - 14s 88ms/step - loss: 2.2961 - val_loss: 4.9093\n",
      "Epoch 100/100\n",
      "163/163 [==============================] - 14s 88ms/step - loss: 2.2973 - val_loss: 5.6653\n"
     ]
    }
   ],
   "source": [
    "\n",
    "history = model.fit(training_generator,validation_data=validation_generator,verbose=1,epochs=100)"
   ]
  },
  {
   "cell_type": "code",
   "execution_count": 65,
   "metadata": {},
   "outputs": [
    {
     "data": {
      "image/png": "[encoded data removed]",
      "text/plain": [
       "<Figure size 432x288 with 1 Axes>"
      ]
     },
     "metadata": {
      "needs_background": "light"
     },
     "output_type": "display_data"
    },
    {
     "data": {
      "text/plain": [
       "<Figure size 432x288 with 0 Axes>"
      ]
     },
     "metadata": {},
     "output_type": "display_data"
    }
   ],
   "source": [
    "plt.plot(history.history['loss'])\n",
    "plt.plot(history.history['val_loss'])\n",
    "plt.title('model loss')\n",
    "plt.ylabel('loss')\n",
    "plt.xlabel('epoch')\n",
    "plt.legend(['train'], loc='upper left')\n",
    "plt.show()\n",
    "plt.savefig('both_clip_and_norm_no_relu_2.png')"
   ]
  },
  {
   "cell_type": "code",
   "execution_count": 66,
   "metadata": {},
   "outputs": [],
   "source": [
    "import os.path as osp\n",
    "import os\n",
    "from pprint import pprint\n",
    "from skimage.transform import rescale, resize\n",
    "from skimage import data, color, io\n",
    "import skimage\n",
    "import PIL\n",
    "import scipy\n",
    "import json\n",
    "import os.path\n",
    "from os import path\n",
    "import tensorflow as tf\n",
    "\n",
    "from keras.applications.xception import preprocess_input\n",
    "from keras.applications.xception import Xception\n",
    "from keras.models import Model\n",
    "from keras.preprocessing.image import img_to_array\n",
    "from keras.preprocessing.image import load_img\n",
    "from keras.applications.imagenet_utils import decode_predictions\n",
    "def word_for_id(integer, tokenizer):\n",
    "    for word, index in tokenizer.word_index.items():\n",
    "        if index == integer:\n",
    "            return word\n",
    "    return None\n",
    "def load_image(image_path,target_size):\n",
    "    img = skimage.io.imread(image_path)\n",
    "    image_resized = skimage.transform.resize(img, target_size, anti_aliasing=True)\n",
    "    return image_resized\n",
    "\n",
    "def load_cnn_model():\n",
    "    model = Xception()\n",
    "    model.layers.pop()\n",
    "    model = Model(inputs=model.inputs, outputs=model.layers[-1].output)\n",
    "    return model\n",
    "\n",
    "def extract_features_from_images(image_path):\n",
    "    model = load_cnn_model()\n",
    "#     if path.exists(image_path):\n",
    "    image = load_image(image_path, target_size=(299, 299))\n",
    "    if image.shape == (299, 299, 3):\n",
    "        image = image.reshape((1, image.shape[0], image.shape[1], image.shape[2]))\n",
    "        image = preprocess_input(image)\n",
    "        feature = model.predict(image, verbose=0)\n",
    "        return feature\n",
    "\n",
    "def generate_desc(model, photo, max_length):\n",
    "    in_text = 'startseq '\n",
    "    for i in range(max_length):\n",
    "            seq_in = [int(wordtoix[word]) for word in in_text.split() if word in wordtoix]\n",
    "            seq_in = pad_sequences([seq_in], maxlen=MAX_SEQUENCE_LENGTH, padding='post')[0]\n",
    "#             print(seq_in)\n",
    "#             print(np.shape(photo))\n",
    "#             print(np.shape(seq_in))\n",
    "            yhat = model.predict([photo,seq_in[np.newaxis,...]], verbose=0)\n",
    "#             print(yhat.shape)\n",
    "            yhat = yhat[0,i,:]\n",
    "            yhat = np.argmax(yhat)\n",
    "            word = ixtoword[yhat]\n",
    "            if word is None:\n",
    "                break\n",
    "            in_text += ' ' + word\n",
    "            if word == 'endseq':\n",
    "                break\n",
    "    return in_text"
   ]
  },
  {
   "cell_type": "code",
   "execution_count": 67,
   "metadata": {},
   "outputs": [
    {
     "name": "stdout",
     "output_type": "stream",
     "text": [
      "[[0.         0.         0.14329363 ... 0.13233422 0.         0.        ]]\n",
      "startseq  the man is fixing the cars . endseq\n"
     ]
    }
   ],
   "source": [
    "image_path= TEST_IMAGE_DIR+'124919.jpg'#'/Users/vinutahegde/Documents/Personal/IMG_3501.JPG'\n",
    "feature=extract_features_from_images(image_path)\n",
    "print(feature)\n",
    "print(generate_desc(model, feature, MAX_SEQUENCE_LENGTH))\n"
   ]
  },
  {
   "cell_type": "code",
   "execution_count": 68,
   "metadata": {},
   "outputs": [
    {
     "name": "stdout",
     "output_type": "stream",
     "text": [
      "\n",
      "startseq  the man is confused in the sun . endseq\n"
     ]
    }
   ],
   "source": [
    "image_path=TEST_IMAGE_DIR +'124871.jpg'\n",
    "feature=extract_features_from_images(image_path)\n",
    "print()\n",
    "print(generate_desc(model, feature, MAX_SEQUENCE_LENGTH))"
   ]
  },
  {
   "cell_type": "code",
   "execution_count": 74,
   "metadata": {},
   "outputs": [
    {
     "name": "stdout",
     "output_type": "stream",
     "text": [
      "\n",
      "startseq  the kids were super with and having . endseq\n"
     ]
    }
   ],
   "source": [
    "image_path=TEST_IMAGE_DIR +'141090.jpg'\n",
    "feature=extract_features_from_images(image_path)\n",
    "print()\n",
    "print(generate_desc(model, feature, MAX_SEQUENCE_LENGTH))"
   ]
  },
  {
   "cell_type": "code",
   "execution_count": 75,
   "metadata": {},
   "outputs": [
    {
     "name": "stdout",
     "output_type": "stream",
     "text": [
      "\n",
      "startseq  the second assignment is a popular yellow . endseq\n"
     ]
    }
   ],
   "source": [
    "image_path=TEST_IMAGE_DIR +'141055.jpg'\n",
    "feature=extract_features_from_images(image_path)\n",
    "print()\n",
    "print(generate_desc(model, feature, MAX_SEQUENCE_LENGTH))"
   ]
  },
  {
   "cell_type": "code",
   "execution_count": 76,
   "metadata": {},
   "outputs": [
    {
     "name": "stdout",
     "output_type": "stream",
     "text": [
      "\n",
      "startseq  the docks was very empty endseq\n"
     ]
    }
   ],
   "source": [
    "image_path=TEST_IMAGE_DIR +'306268.jpg'\n",
    "feature=extract_features_from_images(image_path)\n",
    "print()\n",
    "print(generate_desc(model, feature, MAX_SEQUENCE_LENGTH))"
   ]
  },
  {
   "cell_type": "code",
   "execution_count": 73,
   "metadata": {},
   "outputs": [
    {
     "name": "stdout",
     "output_type": "stream",
     "text": [
      "\n",
      "startseq  the kids were super with and excitement . endseq\n"
     ]
    }
   ],
   "source": [
    "image_path='/Users/vinutahegde/Documents/Personal/IMG_3501.JPG'\n",
    "feature=extract_features_from_images(image_path)\n",
    "print()\n",
    "print(generate_desc(model, feature, MAX_SEQUENCE_LENGTH))"
   ]
  },
  {
   "cell_type": "code",
   "execution_count": 77,
   "metadata": {},
   "outputs": [],
   "source": [
    "model.save('nov_28_pretty_okay_base_model1.h5')"
   ]
  },
  {
   "cell_type": "code",
   "execution_count": 79,
   "metadata": {},
   "outputs": [
    {
     "name": "stdout",
     "output_type": "stream",
     "text": [
      "\n",
      "startseq  the kids were super with and excitement . endseq\n"
     ]
    }
   ],
   "source": [
    "from keras.models import load_model\n",
    "model = load_model('nov_28_pretty_okay_base_model1.h5')\n",
    "image_path='/Users/vinutahegde/Documents/Personal/IMG_3501.JPG'\n",
    "feature=extract_features_from_images(image_path)\n",
    "print()\n",
    "print(generate_desc(model, feature, MAX_SEQUENCE_LENGTH))"
   ]
  },
  {
   "cell_type": "code",
   "execution_count": null,
   "metadata": {},
   "outputs": [],
   "source": []
  }
 ],
 "metadata": {
  "kernelspec": {
   "display_name": "404",
   "language": "python",
   "name": "404"
  },
  "language_info": {
   "codemirror_mode": {
    "name": "ipython",
    "version": 3
   },
   "file_extension": ".py",
   "mimetype": "text/x-python",
   "name": "python",
   "nbconvert_exporter": "python",
   "pygments_lexer": "ipython3",
   "version": "3.7.4"
  }
 },
 "nbformat": 4,
 "nbformat_minor": 2
}
